{
  "nbformat": 4,
  "nbformat_minor": 0,
  "metadata": {
    "colab": {
      "provenance": [],
      "authorship_tag": "ABX9TyNMeJxTz4C8OqB4756aZy4x",
      "include_colab_link": true
    },
    "kernelspec": {
      "name": "python3",
      "display_name": "Python 3"
    },
    "language_info": {
      "name": "python"
    },
    "widgets": {
      "application/vnd.jupyter.widget-state+json": {
        "8e17ebee13da474fb1cf7c4070ce1709": {
          "model_module": "@jupyter-widgets/controls",
          "model_name": "HBoxModel",
          "model_module_version": "1.5.0",
          "state": {
            "_dom_classes": [],
            "_model_module": "@jupyter-widgets/controls",
            "_model_module_version": "1.5.0",
            "_model_name": "HBoxModel",
            "_view_count": null,
            "_view_module": "@jupyter-widgets/controls",
            "_view_module_version": "1.5.0",
            "_view_name": "HBoxView",
            "box_style": "",
            "children": [
              "IPY_MODEL_8173f05ac14b4ed6bc125d126cd10a32",
              "IPY_MODEL_25ca1eb6ce3a4d13a96355034734c91a",
              "IPY_MODEL_b97b60ddb7ba400f98be115a4b72ed6f"
            ],
            "layout": "IPY_MODEL_e15bdd871de54f06b40dd7c867bb0a74"
          }
        },
        "8173f05ac14b4ed6bc125d126cd10a32": {
          "model_module": "@jupyter-widgets/controls",
          "model_name": "HTMLModel",
          "model_module_version": "1.5.0",
          "state": {
            "_dom_classes": [],
            "_model_module": "@jupyter-widgets/controls",
            "_model_module_version": "1.5.0",
            "_model_name": "HTMLModel",
            "_view_count": null,
            "_view_module": "@jupyter-widgets/controls",
            "_view_module_version": "1.5.0",
            "_view_name": "HTMLView",
            "description": "",
            "description_tooltip": null,
            "layout": "IPY_MODEL_6504f228f3674a34861f4f8c7c39f020",
            "placeholder": "​",
            "style": "IPY_MODEL_824904b50d6a4c25a5d34f65be32e287",
            "value": "100%"
          }
        },
        "25ca1eb6ce3a4d13a96355034734c91a": {
          "model_module": "@jupyter-widgets/controls",
          "model_name": "FloatProgressModel",
          "model_module_version": "1.5.0",
          "state": {
            "_dom_classes": [],
            "_model_module": "@jupyter-widgets/controls",
            "_model_module_version": "1.5.0",
            "_model_name": "FloatProgressModel",
            "_view_count": null,
            "_view_module": "@jupyter-widgets/controls",
            "_view_module_version": "1.5.0",
            "_view_name": "ProgressView",
            "bar_style": "success",
            "description": "",
            "description_tooltip": null,
            "layout": "IPY_MODEL_6975353f310f4973b4b32df39495f3b2",
            "max": 9912422,
            "min": 0,
            "orientation": "horizontal",
            "style": "IPY_MODEL_8a8cdd39bd5e44ada9ac139ee9018d11",
            "value": 9912422
          }
        },
        "b97b60ddb7ba400f98be115a4b72ed6f": {
          "model_module": "@jupyter-widgets/controls",
          "model_name": "HTMLModel",
          "model_module_version": "1.5.0",
          "state": {
            "_dom_classes": [],
            "_model_module": "@jupyter-widgets/controls",
            "_model_module_version": "1.5.0",
            "_model_name": "HTMLModel",
            "_view_count": null,
            "_view_module": "@jupyter-widgets/controls",
            "_view_module_version": "1.5.0",
            "_view_name": "HTMLView",
            "description": "",
            "description_tooltip": null,
            "layout": "IPY_MODEL_02b6c0085d474b818f5977c6af1a747f",
            "placeholder": "​",
            "style": "IPY_MODEL_636892923116410281ccbb261cc89739",
            "value": " 9912422/9912422 [00:00&lt;00:00, 112609658.79it/s]"
          }
        },
        "e15bdd871de54f06b40dd7c867bb0a74": {
          "model_module": "@jupyter-widgets/base",
          "model_name": "LayoutModel",
          "model_module_version": "1.2.0",
          "state": {
            "_model_module": "@jupyter-widgets/base",
            "_model_module_version": "1.2.0",
            "_model_name": "LayoutModel",
            "_view_count": null,
            "_view_module": "@jupyter-widgets/base",
            "_view_module_version": "1.2.0",
            "_view_name": "LayoutView",
            "align_content": null,
            "align_items": null,
            "align_self": null,
            "border": null,
            "bottom": null,
            "display": null,
            "flex": null,
            "flex_flow": null,
            "grid_area": null,
            "grid_auto_columns": null,
            "grid_auto_flow": null,
            "grid_auto_rows": null,
            "grid_column": null,
            "grid_gap": null,
            "grid_row": null,
            "grid_template_areas": null,
            "grid_template_columns": null,
            "grid_template_rows": null,
            "height": null,
            "justify_content": null,
            "justify_items": null,
            "left": null,
            "margin": null,
            "max_height": null,
            "max_width": null,
            "min_height": null,
            "min_width": null,
            "object_fit": null,
            "object_position": null,
            "order": null,
            "overflow": null,
            "overflow_x": null,
            "overflow_y": null,
            "padding": null,
            "right": null,
            "top": null,
            "visibility": null,
            "width": null
          }
        },
        "6504f228f3674a34861f4f8c7c39f020": {
          "model_module": "@jupyter-widgets/base",
          "model_name": "LayoutModel",
          "model_module_version": "1.2.0",
          "state": {
            "_model_module": "@jupyter-widgets/base",
            "_model_module_version": "1.2.0",
            "_model_name": "LayoutModel",
            "_view_count": null,
            "_view_module": "@jupyter-widgets/base",
            "_view_module_version": "1.2.0",
            "_view_name": "LayoutView",
            "align_content": null,
            "align_items": null,
            "align_self": null,
            "border": null,
            "bottom": null,
            "display": null,
            "flex": null,
            "flex_flow": null,
            "grid_area": null,
            "grid_auto_columns": null,
            "grid_auto_flow": null,
            "grid_auto_rows": null,
            "grid_column": null,
            "grid_gap": null,
            "grid_row": null,
            "grid_template_areas": null,
            "grid_template_columns": null,
            "grid_template_rows": null,
            "height": null,
            "justify_content": null,
            "justify_items": null,
            "left": null,
            "margin": null,
            "max_height": null,
            "max_width": null,
            "min_height": null,
            "min_width": null,
            "object_fit": null,
            "object_position": null,
            "order": null,
            "overflow": null,
            "overflow_x": null,
            "overflow_y": null,
            "padding": null,
            "right": null,
            "top": null,
            "visibility": null,
            "width": null
          }
        },
        "824904b50d6a4c25a5d34f65be32e287": {
          "model_module": "@jupyter-widgets/controls",
          "model_name": "DescriptionStyleModel",
          "model_module_version": "1.5.0",
          "state": {
            "_model_module": "@jupyter-widgets/controls",
            "_model_module_version": "1.5.0",
            "_model_name": "DescriptionStyleModel",
            "_view_count": null,
            "_view_module": "@jupyter-widgets/base",
            "_view_module_version": "1.2.0",
            "_view_name": "StyleView",
            "description_width": ""
          }
        },
        "6975353f310f4973b4b32df39495f3b2": {
          "model_module": "@jupyter-widgets/base",
          "model_name": "LayoutModel",
          "model_module_version": "1.2.0",
          "state": {
            "_model_module": "@jupyter-widgets/base",
            "_model_module_version": "1.2.0",
            "_model_name": "LayoutModel",
            "_view_count": null,
            "_view_module": "@jupyter-widgets/base",
            "_view_module_version": "1.2.0",
            "_view_name": "LayoutView",
            "align_content": null,
            "align_items": null,
            "align_self": null,
            "border": null,
            "bottom": null,
            "display": null,
            "flex": null,
            "flex_flow": null,
            "grid_area": null,
            "grid_auto_columns": null,
            "grid_auto_flow": null,
            "grid_auto_rows": null,
            "grid_column": null,
            "grid_gap": null,
            "grid_row": null,
            "grid_template_areas": null,
            "grid_template_columns": null,
            "grid_template_rows": null,
            "height": null,
            "justify_content": null,
            "justify_items": null,
            "left": null,
            "margin": null,
            "max_height": null,
            "max_width": null,
            "min_height": null,
            "min_width": null,
            "object_fit": null,
            "object_position": null,
            "order": null,
            "overflow": null,
            "overflow_x": null,
            "overflow_y": null,
            "padding": null,
            "right": null,
            "top": null,
            "visibility": null,
            "width": null
          }
        },
        "8a8cdd39bd5e44ada9ac139ee9018d11": {
          "model_module": "@jupyter-widgets/controls",
          "model_name": "ProgressStyleModel",
          "model_module_version": "1.5.0",
          "state": {
            "_model_module": "@jupyter-widgets/controls",
            "_model_module_version": "1.5.0",
            "_model_name": "ProgressStyleModel",
            "_view_count": null,
            "_view_module": "@jupyter-widgets/base",
            "_view_module_version": "1.2.0",
            "_view_name": "StyleView",
            "bar_color": null,
            "description_width": ""
          }
        },
        "02b6c0085d474b818f5977c6af1a747f": {
          "model_module": "@jupyter-widgets/base",
          "model_name": "LayoutModel",
          "model_module_version": "1.2.0",
          "state": {
            "_model_module": "@jupyter-widgets/base",
            "_model_module_version": "1.2.0",
            "_model_name": "LayoutModel",
            "_view_count": null,
            "_view_module": "@jupyter-widgets/base",
            "_view_module_version": "1.2.0",
            "_view_name": "LayoutView",
            "align_content": null,
            "align_items": null,
            "align_self": null,
            "border": null,
            "bottom": null,
            "display": null,
            "flex": null,
            "flex_flow": null,
            "grid_area": null,
            "grid_auto_columns": null,
            "grid_auto_flow": null,
            "grid_auto_rows": null,
            "grid_column": null,
            "grid_gap": null,
            "grid_row": null,
            "grid_template_areas": null,
            "grid_template_columns": null,
            "grid_template_rows": null,
            "height": null,
            "justify_content": null,
            "justify_items": null,
            "left": null,
            "margin": null,
            "max_height": null,
            "max_width": null,
            "min_height": null,
            "min_width": null,
            "object_fit": null,
            "object_position": null,
            "order": null,
            "overflow": null,
            "overflow_x": null,
            "overflow_y": null,
            "padding": null,
            "right": null,
            "top": null,
            "visibility": null,
            "width": null
          }
        },
        "636892923116410281ccbb261cc89739": {
          "model_module": "@jupyter-widgets/controls",
          "model_name": "DescriptionStyleModel",
          "model_module_version": "1.5.0",
          "state": {
            "_model_module": "@jupyter-widgets/controls",
            "_model_module_version": "1.5.0",
            "_model_name": "DescriptionStyleModel",
            "_view_count": null,
            "_view_module": "@jupyter-widgets/base",
            "_view_module_version": "1.2.0",
            "_view_name": "StyleView",
            "description_width": ""
          }
        },
        "59c308ec1a944ec599bf6edb8f98839b": {
          "model_module": "@jupyter-widgets/controls",
          "model_name": "HBoxModel",
          "model_module_version": "1.5.0",
          "state": {
            "_dom_classes": [],
            "_model_module": "@jupyter-widgets/controls",
            "_model_module_version": "1.5.0",
            "_model_name": "HBoxModel",
            "_view_count": null,
            "_view_module": "@jupyter-widgets/controls",
            "_view_module_version": "1.5.0",
            "_view_name": "HBoxView",
            "box_style": "",
            "children": [
              "IPY_MODEL_0b3a2c0649014942884644f52a2e0a58",
              "IPY_MODEL_91bc313821cf4608997dcc6299379702",
              "IPY_MODEL_7fb34eee77df40a498c831fe53f3c6e9"
            ],
            "layout": "IPY_MODEL_0ebf47da4ba847d1ab93e2945bbc37fd"
          }
        },
        "0b3a2c0649014942884644f52a2e0a58": {
          "model_module": "@jupyter-widgets/controls",
          "model_name": "HTMLModel",
          "model_module_version": "1.5.0",
          "state": {
            "_dom_classes": [],
            "_model_module": "@jupyter-widgets/controls",
            "_model_module_version": "1.5.0",
            "_model_name": "HTMLModel",
            "_view_count": null,
            "_view_module": "@jupyter-widgets/controls",
            "_view_module_version": "1.5.0",
            "_view_name": "HTMLView",
            "description": "",
            "description_tooltip": null,
            "layout": "IPY_MODEL_9ecd2167eb3d4b2c98407434a2d5d39a",
            "placeholder": "​",
            "style": "IPY_MODEL_ce6c37bbcecc4dec93bd15e39ea8eda5",
            "value": "100%"
          }
        },
        "91bc313821cf4608997dcc6299379702": {
          "model_module": "@jupyter-widgets/controls",
          "model_name": "FloatProgressModel",
          "model_module_version": "1.5.0",
          "state": {
            "_dom_classes": [],
            "_model_module": "@jupyter-widgets/controls",
            "_model_module_version": "1.5.0",
            "_model_name": "FloatProgressModel",
            "_view_count": null,
            "_view_module": "@jupyter-widgets/controls",
            "_view_module_version": "1.5.0",
            "_view_name": "ProgressView",
            "bar_style": "success",
            "description": "",
            "description_tooltip": null,
            "layout": "IPY_MODEL_a5ab3ec322e14cde8290f67203e10402",
            "max": 28881,
            "min": 0,
            "orientation": "horizontal",
            "style": "IPY_MODEL_0d16302df2d74eb2afaf3fb508c3d8cf",
            "value": 28881
          }
        },
        "7fb34eee77df40a498c831fe53f3c6e9": {
          "model_module": "@jupyter-widgets/controls",
          "model_name": "HTMLModel",
          "model_module_version": "1.5.0",
          "state": {
            "_dom_classes": [],
            "_model_module": "@jupyter-widgets/controls",
            "_model_module_version": "1.5.0",
            "_model_name": "HTMLModel",
            "_view_count": null,
            "_view_module": "@jupyter-widgets/controls",
            "_view_module_version": "1.5.0",
            "_view_name": "HTMLView",
            "description": "",
            "description_tooltip": null,
            "layout": "IPY_MODEL_790edb12b8864e2bb3d38dd78c4f0870",
            "placeholder": "​",
            "style": "IPY_MODEL_c7106f30097e44e1935a1a9b4757df08",
            "value": " 28881/28881 [00:00&lt;00:00, 1320495.93it/s]"
          }
        },
        "0ebf47da4ba847d1ab93e2945bbc37fd": {
          "model_module": "@jupyter-widgets/base",
          "model_name": "LayoutModel",
          "model_module_version": "1.2.0",
          "state": {
            "_model_module": "@jupyter-widgets/base",
            "_model_module_version": "1.2.0",
            "_model_name": "LayoutModel",
            "_view_count": null,
            "_view_module": "@jupyter-widgets/base",
            "_view_module_version": "1.2.0",
            "_view_name": "LayoutView",
            "align_content": null,
            "align_items": null,
            "align_self": null,
            "border": null,
            "bottom": null,
            "display": null,
            "flex": null,
            "flex_flow": null,
            "grid_area": null,
            "grid_auto_columns": null,
            "grid_auto_flow": null,
            "grid_auto_rows": null,
            "grid_column": null,
            "grid_gap": null,
            "grid_row": null,
            "grid_template_areas": null,
            "grid_template_columns": null,
            "grid_template_rows": null,
            "height": null,
            "justify_content": null,
            "justify_items": null,
            "left": null,
            "margin": null,
            "max_height": null,
            "max_width": null,
            "min_height": null,
            "min_width": null,
            "object_fit": null,
            "object_position": null,
            "order": null,
            "overflow": null,
            "overflow_x": null,
            "overflow_y": null,
            "padding": null,
            "right": null,
            "top": null,
            "visibility": null,
            "width": null
          }
        },
        "9ecd2167eb3d4b2c98407434a2d5d39a": {
          "model_module": "@jupyter-widgets/base",
          "model_name": "LayoutModel",
          "model_module_version": "1.2.0",
          "state": {
            "_model_module": "@jupyter-widgets/base",
            "_model_module_version": "1.2.0",
            "_model_name": "LayoutModel",
            "_view_count": null,
            "_view_module": "@jupyter-widgets/base",
            "_view_module_version": "1.2.0",
            "_view_name": "LayoutView",
            "align_content": null,
            "align_items": null,
            "align_self": null,
            "border": null,
            "bottom": null,
            "display": null,
            "flex": null,
            "flex_flow": null,
            "grid_area": null,
            "grid_auto_columns": null,
            "grid_auto_flow": null,
            "grid_auto_rows": null,
            "grid_column": null,
            "grid_gap": null,
            "grid_row": null,
            "grid_template_areas": null,
            "grid_template_columns": null,
            "grid_template_rows": null,
            "height": null,
            "justify_content": null,
            "justify_items": null,
            "left": null,
            "margin": null,
            "max_height": null,
            "max_width": null,
            "min_height": null,
            "min_width": null,
            "object_fit": null,
            "object_position": null,
            "order": null,
            "overflow": null,
            "overflow_x": null,
            "overflow_y": null,
            "padding": null,
            "right": null,
            "top": null,
            "visibility": null,
            "width": null
          }
        },
        "ce6c37bbcecc4dec93bd15e39ea8eda5": {
          "model_module": "@jupyter-widgets/controls",
          "model_name": "DescriptionStyleModel",
          "model_module_version": "1.5.0",
          "state": {
            "_model_module": "@jupyter-widgets/controls",
            "_model_module_version": "1.5.0",
            "_model_name": "DescriptionStyleModel",
            "_view_count": null,
            "_view_module": "@jupyter-widgets/base",
            "_view_module_version": "1.2.0",
            "_view_name": "StyleView",
            "description_width": ""
          }
        },
        "a5ab3ec322e14cde8290f67203e10402": {
          "model_module": "@jupyter-widgets/base",
          "model_name": "LayoutModel",
          "model_module_version": "1.2.0",
          "state": {
            "_model_module": "@jupyter-widgets/base",
            "_model_module_version": "1.2.0",
            "_model_name": "LayoutModel",
            "_view_count": null,
            "_view_module": "@jupyter-widgets/base",
            "_view_module_version": "1.2.0",
            "_view_name": "LayoutView",
            "align_content": null,
            "align_items": null,
            "align_self": null,
            "border": null,
            "bottom": null,
            "display": null,
            "flex": null,
            "flex_flow": null,
            "grid_area": null,
            "grid_auto_columns": null,
            "grid_auto_flow": null,
            "grid_auto_rows": null,
            "grid_column": null,
            "grid_gap": null,
            "grid_row": null,
            "grid_template_areas": null,
            "grid_template_columns": null,
            "grid_template_rows": null,
            "height": null,
            "justify_content": null,
            "justify_items": null,
            "left": null,
            "margin": null,
            "max_height": null,
            "max_width": null,
            "min_height": null,
            "min_width": null,
            "object_fit": null,
            "object_position": null,
            "order": null,
            "overflow": null,
            "overflow_x": null,
            "overflow_y": null,
            "padding": null,
            "right": null,
            "top": null,
            "visibility": null,
            "width": null
          }
        },
        "0d16302df2d74eb2afaf3fb508c3d8cf": {
          "model_module": "@jupyter-widgets/controls",
          "model_name": "ProgressStyleModel",
          "model_module_version": "1.5.0",
          "state": {
            "_model_module": "@jupyter-widgets/controls",
            "_model_module_version": "1.5.0",
            "_model_name": "ProgressStyleModel",
            "_view_count": null,
            "_view_module": "@jupyter-widgets/base",
            "_view_module_version": "1.2.0",
            "_view_name": "StyleView",
            "bar_color": null,
            "description_width": ""
          }
        },
        "790edb12b8864e2bb3d38dd78c4f0870": {
          "model_module": "@jupyter-widgets/base",
          "model_name": "LayoutModel",
          "model_module_version": "1.2.0",
          "state": {
            "_model_module": "@jupyter-widgets/base",
            "_model_module_version": "1.2.0",
            "_model_name": "LayoutModel",
            "_view_count": null,
            "_view_module": "@jupyter-widgets/base",
            "_view_module_version": "1.2.0",
            "_view_name": "LayoutView",
            "align_content": null,
            "align_items": null,
            "align_self": null,
            "border": null,
            "bottom": null,
            "display": null,
            "flex": null,
            "flex_flow": null,
            "grid_area": null,
            "grid_auto_columns": null,
            "grid_auto_flow": null,
            "grid_auto_rows": null,
            "grid_column": null,
            "grid_gap": null,
            "grid_row": null,
            "grid_template_areas": null,
            "grid_template_columns": null,
            "grid_template_rows": null,
            "height": null,
            "justify_content": null,
            "justify_items": null,
            "left": null,
            "margin": null,
            "max_height": null,
            "max_width": null,
            "min_height": null,
            "min_width": null,
            "object_fit": null,
            "object_position": null,
            "order": null,
            "overflow": null,
            "overflow_x": null,
            "overflow_y": null,
            "padding": null,
            "right": null,
            "top": null,
            "visibility": null,
            "width": null
          }
        },
        "c7106f30097e44e1935a1a9b4757df08": {
          "model_module": "@jupyter-widgets/controls",
          "model_name": "DescriptionStyleModel",
          "model_module_version": "1.5.0",
          "state": {
            "_model_module": "@jupyter-widgets/controls",
            "_model_module_version": "1.5.0",
            "_model_name": "DescriptionStyleModel",
            "_view_count": null,
            "_view_module": "@jupyter-widgets/base",
            "_view_module_version": "1.2.0",
            "_view_name": "StyleView",
            "description_width": ""
          }
        },
        "81d06db012144b658e94080d4033d557": {
          "model_module": "@jupyter-widgets/controls",
          "model_name": "HBoxModel",
          "model_module_version": "1.5.0",
          "state": {
            "_dom_classes": [],
            "_model_module": "@jupyter-widgets/controls",
            "_model_module_version": "1.5.0",
            "_model_name": "HBoxModel",
            "_view_count": null,
            "_view_module": "@jupyter-widgets/controls",
            "_view_module_version": "1.5.0",
            "_view_name": "HBoxView",
            "box_style": "",
            "children": [
              "IPY_MODEL_ebe729da2d874d12850c392ba8ac22e0",
              "IPY_MODEL_648e499bb796401b98a3934476dbc104",
              "IPY_MODEL_1d4cdd32041a4d958bca4fb3b6ec09b1"
            ],
            "layout": "IPY_MODEL_86491d9b4e2b40f4a9a981bbf4df909e"
          }
        },
        "ebe729da2d874d12850c392ba8ac22e0": {
          "model_module": "@jupyter-widgets/controls",
          "model_name": "HTMLModel",
          "model_module_version": "1.5.0",
          "state": {
            "_dom_classes": [],
            "_model_module": "@jupyter-widgets/controls",
            "_model_module_version": "1.5.0",
            "_model_name": "HTMLModel",
            "_view_count": null,
            "_view_module": "@jupyter-widgets/controls",
            "_view_module_version": "1.5.0",
            "_view_name": "HTMLView",
            "description": "",
            "description_tooltip": null,
            "layout": "IPY_MODEL_21bca0bde5c34ea69e1920b51cd40fe2",
            "placeholder": "​",
            "style": "IPY_MODEL_98e9601df6eb4db6a68d7c1c4a89887d",
            "value": "100%"
          }
        },
        "648e499bb796401b98a3934476dbc104": {
          "model_module": "@jupyter-widgets/controls",
          "model_name": "FloatProgressModel",
          "model_module_version": "1.5.0",
          "state": {
            "_dom_classes": [],
            "_model_module": "@jupyter-widgets/controls",
            "_model_module_version": "1.5.0",
            "_model_name": "FloatProgressModel",
            "_view_count": null,
            "_view_module": "@jupyter-widgets/controls",
            "_view_module_version": "1.5.0",
            "_view_name": "ProgressView",
            "bar_style": "success",
            "description": "",
            "description_tooltip": null,
            "layout": "IPY_MODEL_9e22836f77594958b9de46b5976cc005",
            "max": 1648877,
            "min": 0,
            "orientation": "horizontal",
            "style": "IPY_MODEL_897fd94a382249f78f92828538739416",
            "value": 1648877
          }
        },
        "1d4cdd32041a4d958bca4fb3b6ec09b1": {
          "model_module": "@jupyter-widgets/controls",
          "model_name": "HTMLModel",
          "model_module_version": "1.5.0",
          "state": {
            "_dom_classes": [],
            "_model_module": "@jupyter-widgets/controls",
            "_model_module_version": "1.5.0",
            "_model_name": "HTMLModel",
            "_view_count": null,
            "_view_module": "@jupyter-widgets/controls",
            "_view_module_version": "1.5.0",
            "_view_name": "HTMLView",
            "description": "",
            "description_tooltip": null,
            "layout": "IPY_MODEL_f1c03ba73ec44063b8efed47dcbbcb5f",
            "placeholder": "​",
            "style": "IPY_MODEL_30591e18fb534222830a5e404b82407f",
            "value": " 1648877/1648877 [00:00&lt;00:00, 23176346.74it/s]"
          }
        },
        "86491d9b4e2b40f4a9a981bbf4df909e": {
          "model_module": "@jupyter-widgets/base",
          "model_name": "LayoutModel",
          "model_module_version": "1.2.0",
          "state": {
            "_model_module": "@jupyter-widgets/base",
            "_model_module_version": "1.2.0",
            "_model_name": "LayoutModel",
            "_view_count": null,
            "_view_module": "@jupyter-widgets/base",
            "_view_module_version": "1.2.0",
            "_view_name": "LayoutView",
            "align_content": null,
            "align_items": null,
            "align_self": null,
            "border": null,
            "bottom": null,
            "display": null,
            "flex": null,
            "flex_flow": null,
            "grid_area": null,
            "grid_auto_columns": null,
            "grid_auto_flow": null,
            "grid_auto_rows": null,
            "grid_column": null,
            "grid_gap": null,
            "grid_row": null,
            "grid_template_areas": null,
            "grid_template_columns": null,
            "grid_template_rows": null,
            "height": null,
            "justify_content": null,
            "justify_items": null,
            "left": null,
            "margin": null,
            "max_height": null,
            "max_width": null,
            "min_height": null,
            "min_width": null,
            "object_fit": null,
            "object_position": null,
            "order": null,
            "overflow": null,
            "overflow_x": null,
            "overflow_y": null,
            "padding": null,
            "right": null,
            "top": null,
            "visibility": null,
            "width": null
          }
        },
        "21bca0bde5c34ea69e1920b51cd40fe2": {
          "model_module": "@jupyter-widgets/base",
          "model_name": "LayoutModel",
          "model_module_version": "1.2.0",
          "state": {
            "_model_module": "@jupyter-widgets/base",
            "_model_module_version": "1.2.0",
            "_model_name": "LayoutModel",
            "_view_count": null,
            "_view_module": "@jupyter-widgets/base",
            "_view_module_version": "1.2.0",
            "_view_name": "LayoutView",
            "align_content": null,
            "align_items": null,
            "align_self": null,
            "border": null,
            "bottom": null,
            "display": null,
            "flex": null,
            "flex_flow": null,
            "grid_area": null,
            "grid_auto_columns": null,
            "grid_auto_flow": null,
            "grid_auto_rows": null,
            "grid_column": null,
            "grid_gap": null,
            "grid_row": null,
            "grid_template_areas": null,
            "grid_template_columns": null,
            "grid_template_rows": null,
            "height": null,
            "justify_content": null,
            "justify_items": null,
            "left": null,
            "margin": null,
            "max_height": null,
            "max_width": null,
            "min_height": null,
            "min_width": null,
            "object_fit": null,
            "object_position": null,
            "order": null,
            "overflow": null,
            "overflow_x": null,
            "overflow_y": null,
            "padding": null,
            "right": null,
            "top": null,
            "visibility": null,
            "width": null
          }
        },
        "98e9601df6eb4db6a68d7c1c4a89887d": {
          "model_module": "@jupyter-widgets/controls",
          "model_name": "DescriptionStyleModel",
          "model_module_version": "1.5.0",
          "state": {
            "_model_module": "@jupyter-widgets/controls",
            "_model_module_version": "1.5.0",
            "_model_name": "DescriptionStyleModel",
            "_view_count": null,
            "_view_module": "@jupyter-widgets/base",
            "_view_module_version": "1.2.0",
            "_view_name": "StyleView",
            "description_width": ""
          }
        },
        "9e22836f77594958b9de46b5976cc005": {
          "model_module": "@jupyter-widgets/base",
          "model_name": "LayoutModel",
          "model_module_version": "1.2.0",
          "state": {
            "_model_module": "@jupyter-widgets/base",
            "_model_module_version": "1.2.0",
            "_model_name": "LayoutModel",
            "_view_count": null,
            "_view_module": "@jupyter-widgets/base",
            "_view_module_version": "1.2.0",
            "_view_name": "LayoutView",
            "align_content": null,
            "align_items": null,
            "align_self": null,
            "border": null,
            "bottom": null,
            "display": null,
            "flex": null,
            "flex_flow": null,
            "grid_area": null,
            "grid_auto_columns": null,
            "grid_auto_flow": null,
            "grid_auto_rows": null,
            "grid_column": null,
            "grid_gap": null,
            "grid_row": null,
            "grid_template_areas": null,
            "grid_template_columns": null,
            "grid_template_rows": null,
            "height": null,
            "justify_content": null,
            "justify_items": null,
            "left": null,
            "margin": null,
            "max_height": null,
            "max_width": null,
            "min_height": null,
            "min_width": null,
            "object_fit": null,
            "object_position": null,
            "order": null,
            "overflow": null,
            "overflow_x": null,
            "overflow_y": null,
            "padding": null,
            "right": null,
            "top": null,
            "visibility": null,
            "width": null
          }
        },
        "897fd94a382249f78f92828538739416": {
          "model_module": "@jupyter-widgets/controls",
          "model_name": "ProgressStyleModel",
          "model_module_version": "1.5.0",
          "state": {
            "_model_module": "@jupyter-widgets/controls",
            "_model_module_version": "1.5.0",
            "_model_name": "ProgressStyleModel",
            "_view_count": null,
            "_view_module": "@jupyter-widgets/base",
            "_view_module_version": "1.2.0",
            "_view_name": "StyleView",
            "bar_color": null,
            "description_width": ""
          }
        },
        "f1c03ba73ec44063b8efed47dcbbcb5f": {
          "model_module": "@jupyter-widgets/base",
          "model_name": "LayoutModel",
          "model_module_version": "1.2.0",
          "state": {
            "_model_module": "@jupyter-widgets/base",
            "_model_module_version": "1.2.0",
            "_model_name": "LayoutModel",
            "_view_count": null,
            "_view_module": "@jupyter-widgets/base",
            "_view_module_version": "1.2.0",
            "_view_name": "LayoutView",
            "align_content": null,
            "align_items": null,
            "align_self": null,
            "border": null,
            "bottom": null,
            "display": null,
            "flex": null,
            "flex_flow": null,
            "grid_area": null,
            "grid_auto_columns": null,
            "grid_auto_flow": null,
            "grid_auto_rows": null,
            "grid_column": null,
            "grid_gap": null,
            "grid_row": null,
            "grid_template_areas": null,
            "grid_template_columns": null,
            "grid_template_rows": null,
            "height": null,
            "justify_content": null,
            "justify_items": null,
            "left": null,
            "margin": null,
            "max_height": null,
            "max_width": null,
            "min_height": null,
            "min_width": null,
            "object_fit": null,
            "object_position": null,
            "order": null,
            "overflow": null,
            "overflow_x": null,
            "overflow_y": null,
            "padding": null,
            "right": null,
            "top": null,
            "visibility": null,
            "width": null
          }
        },
        "30591e18fb534222830a5e404b82407f": {
          "model_module": "@jupyter-widgets/controls",
          "model_name": "DescriptionStyleModel",
          "model_module_version": "1.5.0",
          "state": {
            "_model_module": "@jupyter-widgets/controls",
            "_model_module_version": "1.5.0",
            "_model_name": "DescriptionStyleModel",
            "_view_count": null,
            "_view_module": "@jupyter-widgets/base",
            "_view_module_version": "1.2.0",
            "_view_name": "StyleView",
            "description_width": ""
          }
        },
        "2d79de2188504732a7c86563c7e53fb1": {
          "model_module": "@jupyter-widgets/controls",
          "model_name": "HBoxModel",
          "model_module_version": "1.5.0",
          "state": {
            "_dom_classes": [],
            "_model_module": "@jupyter-widgets/controls",
            "_model_module_version": "1.5.0",
            "_model_name": "HBoxModel",
            "_view_count": null,
            "_view_module": "@jupyter-widgets/controls",
            "_view_module_version": "1.5.0",
            "_view_name": "HBoxView",
            "box_style": "",
            "children": [
              "IPY_MODEL_0e387ac02b4a4b3c8f88193e590e9cac",
              "IPY_MODEL_f9499055a9bd402f9b45051c0c39eaa9",
              "IPY_MODEL_2b4aab51178c4ab9a3323ac5195f817b"
            ],
            "layout": "IPY_MODEL_2af5eedad2fd4dc5be2a9b1a976754fe"
          }
        },
        "0e387ac02b4a4b3c8f88193e590e9cac": {
          "model_module": "@jupyter-widgets/controls",
          "model_name": "HTMLModel",
          "model_module_version": "1.5.0",
          "state": {
            "_dom_classes": [],
            "_model_module": "@jupyter-widgets/controls",
            "_model_module_version": "1.5.0",
            "_model_name": "HTMLModel",
            "_view_count": null,
            "_view_module": "@jupyter-widgets/controls",
            "_view_module_version": "1.5.0",
            "_view_name": "HTMLView",
            "description": "",
            "description_tooltip": null,
            "layout": "IPY_MODEL_49cb7c8b5b4d42a9b35efeb42a312d87",
            "placeholder": "​",
            "style": "IPY_MODEL_f97492b8c87745769141a5ac434b1fbf",
            "value": "100%"
          }
        },
        "f9499055a9bd402f9b45051c0c39eaa9": {
          "model_module": "@jupyter-widgets/controls",
          "model_name": "FloatProgressModel",
          "model_module_version": "1.5.0",
          "state": {
            "_dom_classes": [],
            "_model_module": "@jupyter-widgets/controls",
            "_model_module_version": "1.5.0",
            "_model_name": "FloatProgressModel",
            "_view_count": null,
            "_view_module": "@jupyter-widgets/controls",
            "_view_module_version": "1.5.0",
            "_view_name": "ProgressView",
            "bar_style": "success",
            "description": "",
            "description_tooltip": null,
            "layout": "IPY_MODEL_d36682c9f43f4325b616575975f93dc8",
            "max": 4542,
            "min": 0,
            "orientation": "horizontal",
            "style": "IPY_MODEL_5d85b2c631ab4fe0aafc1fd4b1e56f56",
            "value": 4542
          }
        },
        "2b4aab51178c4ab9a3323ac5195f817b": {
          "model_module": "@jupyter-widgets/controls",
          "model_name": "HTMLModel",
          "model_module_version": "1.5.0",
          "state": {
            "_dom_classes": [],
            "_model_module": "@jupyter-widgets/controls",
            "_model_module_version": "1.5.0",
            "_model_name": "HTMLModel",
            "_view_count": null,
            "_view_module": "@jupyter-widgets/controls",
            "_view_module_version": "1.5.0",
            "_view_name": "HTMLView",
            "description": "",
            "description_tooltip": null,
            "layout": "IPY_MODEL_58bb7ccbf453411c96b74fb2eb347b33",
            "placeholder": "​",
            "style": "IPY_MODEL_83633c73ea2e467fa3714257aed82bfb",
            "value": " 4542/4542 [00:00&lt;00:00, 251034.80it/s]"
          }
        },
        "2af5eedad2fd4dc5be2a9b1a976754fe": {
          "model_module": "@jupyter-widgets/base",
          "model_name": "LayoutModel",
          "model_module_version": "1.2.0",
          "state": {
            "_model_module": "@jupyter-widgets/base",
            "_model_module_version": "1.2.0",
            "_model_name": "LayoutModel",
            "_view_count": null,
            "_view_module": "@jupyter-widgets/base",
            "_view_module_version": "1.2.0",
            "_view_name": "LayoutView",
            "align_content": null,
            "align_items": null,
            "align_self": null,
            "border": null,
            "bottom": null,
            "display": null,
            "flex": null,
            "flex_flow": null,
            "grid_area": null,
            "grid_auto_columns": null,
            "grid_auto_flow": null,
            "grid_auto_rows": null,
            "grid_column": null,
            "grid_gap": null,
            "grid_row": null,
            "grid_template_areas": null,
            "grid_template_columns": null,
            "grid_template_rows": null,
            "height": null,
            "justify_content": null,
            "justify_items": null,
            "left": null,
            "margin": null,
            "max_height": null,
            "max_width": null,
            "min_height": null,
            "min_width": null,
            "object_fit": null,
            "object_position": null,
            "order": null,
            "overflow": null,
            "overflow_x": null,
            "overflow_y": null,
            "padding": null,
            "right": null,
            "top": null,
            "visibility": null,
            "width": null
          }
        },
        "49cb7c8b5b4d42a9b35efeb42a312d87": {
          "model_module": "@jupyter-widgets/base",
          "model_name": "LayoutModel",
          "model_module_version": "1.2.0",
          "state": {
            "_model_module": "@jupyter-widgets/base",
            "_model_module_version": "1.2.0",
            "_model_name": "LayoutModel",
            "_view_count": null,
            "_view_module": "@jupyter-widgets/base",
            "_view_module_version": "1.2.0",
            "_view_name": "LayoutView",
            "align_content": null,
            "align_items": null,
            "align_self": null,
            "border": null,
            "bottom": null,
            "display": null,
            "flex": null,
            "flex_flow": null,
            "grid_area": null,
            "grid_auto_columns": null,
            "grid_auto_flow": null,
            "grid_auto_rows": null,
            "grid_column": null,
            "grid_gap": null,
            "grid_row": null,
            "grid_template_areas": null,
            "grid_template_columns": null,
            "grid_template_rows": null,
            "height": null,
            "justify_content": null,
            "justify_items": null,
            "left": null,
            "margin": null,
            "max_height": null,
            "max_width": null,
            "min_height": null,
            "min_width": null,
            "object_fit": null,
            "object_position": null,
            "order": null,
            "overflow": null,
            "overflow_x": null,
            "overflow_y": null,
            "padding": null,
            "right": null,
            "top": null,
            "visibility": null,
            "width": null
          }
        },
        "f97492b8c87745769141a5ac434b1fbf": {
          "model_module": "@jupyter-widgets/controls",
          "model_name": "DescriptionStyleModel",
          "model_module_version": "1.5.0",
          "state": {
            "_model_module": "@jupyter-widgets/controls",
            "_model_module_version": "1.5.0",
            "_model_name": "DescriptionStyleModel",
            "_view_count": null,
            "_view_module": "@jupyter-widgets/base",
            "_view_module_version": "1.2.0",
            "_view_name": "StyleView",
            "description_width": ""
          }
        },
        "d36682c9f43f4325b616575975f93dc8": {
          "model_module": "@jupyter-widgets/base",
          "model_name": "LayoutModel",
          "model_module_version": "1.2.0",
          "state": {
            "_model_module": "@jupyter-widgets/base",
            "_model_module_version": "1.2.0",
            "_model_name": "LayoutModel",
            "_view_count": null,
            "_view_module": "@jupyter-widgets/base",
            "_view_module_version": "1.2.0",
            "_view_name": "LayoutView",
            "align_content": null,
            "align_items": null,
            "align_self": null,
            "border": null,
            "bottom": null,
            "display": null,
            "flex": null,
            "flex_flow": null,
            "grid_area": null,
            "grid_auto_columns": null,
            "grid_auto_flow": null,
            "grid_auto_rows": null,
            "grid_column": null,
            "grid_gap": null,
            "grid_row": null,
            "grid_template_areas": null,
            "grid_template_columns": null,
            "grid_template_rows": null,
            "height": null,
            "justify_content": null,
            "justify_items": null,
            "left": null,
            "margin": null,
            "max_height": null,
            "max_width": null,
            "min_height": null,
            "min_width": null,
            "object_fit": null,
            "object_position": null,
            "order": null,
            "overflow": null,
            "overflow_x": null,
            "overflow_y": null,
            "padding": null,
            "right": null,
            "top": null,
            "visibility": null,
            "width": null
          }
        },
        "5d85b2c631ab4fe0aafc1fd4b1e56f56": {
          "model_module": "@jupyter-widgets/controls",
          "model_name": "ProgressStyleModel",
          "model_module_version": "1.5.0",
          "state": {
            "_model_module": "@jupyter-widgets/controls",
            "_model_module_version": "1.5.0",
            "_model_name": "ProgressStyleModel",
            "_view_count": null,
            "_view_module": "@jupyter-widgets/base",
            "_view_module_version": "1.2.0",
            "_view_name": "StyleView",
            "bar_color": null,
            "description_width": ""
          }
        },
        "58bb7ccbf453411c96b74fb2eb347b33": {
          "model_module": "@jupyter-widgets/base",
          "model_name": "LayoutModel",
          "model_module_version": "1.2.0",
          "state": {
            "_model_module": "@jupyter-widgets/base",
            "_model_module_version": "1.2.0",
            "_model_name": "LayoutModel",
            "_view_count": null,
            "_view_module": "@jupyter-widgets/base",
            "_view_module_version": "1.2.0",
            "_view_name": "LayoutView",
            "align_content": null,
            "align_items": null,
            "align_self": null,
            "border": null,
            "bottom": null,
            "display": null,
            "flex": null,
            "flex_flow": null,
            "grid_area": null,
            "grid_auto_columns": null,
            "grid_auto_flow": null,
            "grid_auto_rows": null,
            "grid_column": null,
            "grid_gap": null,
            "grid_row": null,
            "grid_template_areas": null,
            "grid_template_columns": null,
            "grid_template_rows": null,
            "height": null,
            "justify_content": null,
            "justify_items": null,
            "left": null,
            "margin": null,
            "max_height": null,
            "max_width": null,
            "min_height": null,
            "min_width": null,
            "object_fit": null,
            "object_position": null,
            "order": null,
            "overflow": null,
            "overflow_x": null,
            "overflow_y": null,
            "padding": null,
            "right": null,
            "top": null,
            "visibility": null,
            "width": null
          }
        },
        "83633c73ea2e467fa3714257aed82bfb": {
          "model_module": "@jupyter-widgets/controls",
          "model_name": "DescriptionStyleModel",
          "model_module_version": "1.5.0",
          "state": {
            "_model_module": "@jupyter-widgets/controls",
            "_model_module_version": "1.5.0",
            "_model_name": "DescriptionStyleModel",
            "_view_count": null,
            "_view_module": "@jupyter-widgets/base",
            "_view_module_version": "1.2.0",
            "_view_name": "StyleView",
            "description_width": ""
          }
        }
      }
    }
  },
  "cells": [
    {
      "cell_type": "markdown",
      "metadata": {
        "id": "view-in-github",
        "colab_type": "text"
      },
      "source": [
        "<a href=\"https://colab.research.google.com/github/Sulmon/Deep-Learning/blob/dev_branch/SimpleDenseNeuralNetwork.ipynb\" target=\"_parent\"><img src=\"https://colab.research.google.com/assets/colab-badge.svg\" alt=\"Open In Colab\"/></a>"
      ]
    },
    {
      "cell_type": "markdown",
      "source": [
        "##**Problem**\n",
        "We are still focusing on the problem of image classification of handwritten digit. We will start with the simplest possible approach for image classification:***Fully connected neural network*** also known as ***perceptron***\n",
        "\n"
      ],
      "metadata": {
        "id": "9tz9O9Zok85c"
      }
    },
    {
      "cell_type": "code",
      "source": [
        "!pip install torchinfo"
      ],
      "metadata": {
        "colab": {
          "base_uri": "https://localhost:8080/"
        },
        "id": "8mTj4_2smlp9",
        "outputId": "0edebfb4-1d07-488a-fa68-e322d848500b"
      },
      "execution_count": 1,
      "outputs": [
        {
          "output_type": "stream",
          "name": "stdout",
          "text": [
            "Looking in indexes: https://pypi.org/simple, https://us-python.pkg.dev/colab-wheels/public/simple/\n",
            "Collecting torchinfo\n",
            "  Downloading torchinfo-1.7.2-py3-none-any.whl (22 kB)\n",
            "Installing collected packages: torchinfo\n",
            "Successfully installed torchinfo-1.7.2\n"
          ]
        }
      ]
    },
    {
      "cell_type": "code",
      "source": [
        "!pip list -v | grep [pytorchcv]"
      ],
      "metadata": {
        "colab": {
          "base_uri": "https://localhost:8080/"
        },
        "id": "vBKApYitoPaT",
        "outputId": "96b151dc-2966-4e9d-f33c-01751b920d35"
      },
      "execution_count": 11,
      "outputs": [
        {
          "output_type": "stream",
          "name": "stdout",
          "text": [
            "Package                       Version                Location                               Installer\n",
            "absl-py                       1.4.0                  /usr/local/lib/python3.8/dist-packages pip\n",
            "aeppl                         0.0.33                 /usr/local/lib/python3.8/dist-packages pip\n",
            "aesara                        2.7.9                  /usr/local/lib/python3.8/dist-packages pip\n",
            "aiohttp                       3.8.3                  /usr/local/lib/python3.8/dist-packages pip\n",
            "aiosignal                     1.3.1                  /usr/local/lib/python3.8/dist-packages pip\n",
            "alabaster                     0.7.13                 /usr/local/lib/python3.8/dist-packages pip\n",
            "albumentations                1.2.1                  /usr/local/lib/python3.8/dist-packages pip\n",
            "altair                        4.2.2                  /usr/local/lib/python3.8/dist-packages pip\n",
            "appdirs                       1.4.4                  /usr/local/lib/python3.8/dist-packages pip\n",
            "arviz                         0.12.1                 /usr/local/lib/python3.8/dist-packages pip\n",
            "astor                         0.8.1                  /usr/local/lib/python3.8/dist-packages pip\n",
            "astropy                       4.3.1                  /usr/local/lib/python3.8/dist-packages pip\n",
            "astunparse                    1.6.3                  /usr/local/lib/python3.8/dist-packages pip\n",
            "async-timeout                 4.0.2                  /usr/local/lib/python3.8/dist-packages pip\n",
            "atari-py                      0.2.9                  /usr/local/lib/python3.8/dist-packages pip\n",
            "atomicwrites                  1.4.1                  /usr/local/lib/python3.8/dist-packages pip\n",
            "attrs                         22.2.0                 /usr/local/lib/python3.8/dist-packages pip\n",
            "audioread                     3.0.0                  /usr/local/lib/python3.8/dist-packages pip\n",
            "autograd                      1.5                    /usr/local/lib/python3.8/dist-packages pip\n",
            "Babel                         2.11.0                 /usr/local/lib/python3.8/dist-packages pip\n",
            "backcall                      0.2.0                  /usr/local/lib/python3.8/dist-packages pip\n",
            "beautifulsoup4                4.6.3                  /usr/local/lib/python3.8/dist-packages pip\n",
            "bleach                        6.0.0                  /usr/local/lib/python3.8/dist-packages pip\n",
            "blis                          0.7.9                  /usr/local/lib/python3.8/dist-packages pip\n",
            "bokeh                         2.3.3                  /usr/local/lib/python3.8/dist-packages pip\n",
            "branca                        0.6.0                  /usr/local/lib/python3.8/dist-packages pip\n",
            "bs4                           0.0.1                  /usr/local/lib/python3.8/dist-packages pip\n",
            "CacheControl                  0.12.11                /usr/local/lib/python3.8/dist-packages pip\n",
            "cachetools                    5.3.0                  /usr/local/lib/python3.8/dist-packages pip\n",
            "catalogue                     2.0.8                  /usr/local/lib/python3.8/dist-packages pip\n",
            "certifi                       2022.12.7              /usr/local/lib/python3.8/dist-packages pip\n",
            "cffi                          1.15.1                 /usr/local/lib/python3.8/dist-packages pip\n",
            "cftime                        1.6.2                  /usr/local/lib/python3.8/dist-packages pip\n",
            "chardet                       4.0.0                  /usr/local/lib/python3.8/dist-packages pip\n",
            "charset-normalizer            2.1.1                  /usr/local/lib/python3.8/dist-packages pip\n",
            "click                         7.1.2                  /usr/local/lib/python3.8/dist-packages pip\n",
            "clikit                        0.6.2                  /usr/local/lib/python3.8/dist-packages pip\n",
            "cloudpickle                   2.2.1                  /usr/local/lib/python3.8/dist-packages pip\n",
            "cmake                         3.22.6                 /usr/local/lib/python3.8/dist-packages pip\n",
            "cmdstanpy                     1.1.0                  /usr/local/lib/python3.8/dist-packages pip\n",
            "colorcet                      3.0.1                  /usr/local/lib/python3.8/dist-packages pip\n",
            "colorlover                    0.3.0                  /usr/local/lib/python3.8/dist-packages pip\n",
            "community                     1.0.0b1                /usr/local/lib/python3.8/dist-packages pip\n",
            "confection                    0.0.4                  /usr/local/lib/python3.8/dist-packages pip\n",
            "cons                          0.4.5                  /usr/local/lib/python3.8/dist-packages pip\n",
            "contextlib2                   0.5.5                  /usr/local/lib/python3.8/dist-packages pip\n",
            "convertdate                   2.4.0                  /usr/local/lib/python3.8/dist-packages pip\n",
            "crashtest                     0.3.1                  /usr/local/lib/python3.8/dist-packages pip\n",
            "crcmod                        1.7                    /usr/local/lib/python3.8/dist-packages pip\n",
            "cufflinks                     0.17.3                 /usr/local/lib/python3.8/dist-packages pip\n",
            "cvxopt                        1.3.0                  /usr/local/lib/python3.8/dist-packages pip\n",
            "cvxpy                         1.2.3                  /usr/local/lib/python3.8/dist-packages pip\n",
            "cycler                        0.11.0                 /usr/local/lib/python3.8/dist-packages pip\n",
            "cymem                         2.0.7                  /usr/local/lib/python3.8/dist-packages pip\n",
            "Cython                        0.29.33                /usr/local/lib/python3.8/dist-packages pip\n",
            "daft                          0.0.4                  /usr/local/lib/python3.8/dist-packages pip\n",
            "dask                          2022.2.1               /usr/local/lib/python3.8/dist-packages pip\n",
            "datascience                   0.17.5                 /usr/local/lib/python3.8/dist-packages pip\n",
            "db-dtypes                     1.0.5                  /usr/local/lib/python3.8/dist-packages pip\n",
            "dbus-python                   1.2.16                 /usr/lib/python3/dist-packages\n",
            "debugpy                       1.0.0                  /usr/local/lib/python3.8/dist-packages pip\n",
            "decorator                     4.4.2                  /usr/local/lib/python3.8/dist-packages pip\n",
            "defusedxml                    0.7.1                  /usr/local/lib/python3.8/dist-packages pip\n",
            "descartes                     1.1.0                  /usr/local/lib/python3.8/dist-packages pip\n",
            "dill                          0.3.6                  /usr/local/lib/python3.8/dist-packages pip\n",
            "distributed                   2022.2.1               /usr/local/lib/python3.8/dist-packages pip\n",
            "dlib                          19.24.0                /usr/local/lib/python3.8/dist-packages pip\n",
            "dm-tree                       0.1.8                  /usr/local/lib/python3.8/dist-packages pip\n",
            "dnspython                     2.3.0                  /usr/local/lib/python3.8/dist-packages pip\n",
            "docutils                      0.16                   /usr/local/lib/python3.8/dist-packages pip\n",
            "dopamine-rl                   1.0.5                  /usr/local/lib/python3.8/dist-packages pip\n",
            "earthengine-api               0.1.340                /usr/local/lib/python3.8/dist-packages pip\n",
            "easydict                      1.10                   /usr/local/lib/python3.8/dist-packages pip\n",
            "ecos                          2.0.12                 /usr/local/lib/python3.8/dist-packages pip\n",
            "editdistance                  0.5.3                  /usr/local/lib/python3.8/dist-packages pip\n",
            "en-core-web-sm                3.4.1                  /usr/local/lib/python3.8/dist-packages pip\n",
            "entrypoints                   0.4                    /usr/local/lib/python3.8/dist-packages pip\n",
            "ephem                         4.1.4                  /usr/local/lib/python3.8/dist-packages pip\n",
            "et-xmlfile                    1.1.0                  /usr/local/lib/python3.8/dist-packages pip\n",
            "etils                         1.0.0                  /usr/local/lib/python3.8/dist-packages pip\n",
            "etuples                       0.3.8                  /usr/local/lib/python3.8/dist-packages pip\n",
            "fa2                           0.3.5                  /usr/local/lib/python3.8/dist-packages pip\n",
            "fastai                        2.7.10                 /usr/local/lib/python3.8/dist-packages pip\n",
            "fastcore                      1.5.28                 /usr/local/lib/python3.8/dist-packages pip\n",
            "fastdownload                  0.0.7                  /usr/local/lib/python3.8/dist-packages pip\n",
            "fastdtw                       0.3.4                  /usr/local/lib/python3.8/dist-packages pip\n",
            "fastjsonschema                2.16.2                 /usr/local/lib/python3.8/dist-packages pip\n",
            "fastprogress                  1.0.3                  /usr/local/lib/python3.8/dist-packages pip\n",
            "fastrlock                     0.8.1                  /usr/local/lib/python3.8/dist-packages pip\n",
            "feather-format                0.4.1                  /usr/local/lib/python3.8/dist-packages pip\n",
            "filelock                      3.9.0                  /usr/local/lib/python3.8/dist-packages pip\n",
            "firebase-admin                5.3.0                  /usr/local/lib/python3.8/dist-packages pip\n",
            "fix-yahoo-finance             0.0.22                 /usr/local/lib/python3.8/dist-packages pip\n",
            "Flask                         1.1.4                  /usr/local/lib/python3.8/dist-packages pip\n",
            "flatbuffers                   23.1.21                /usr/local/lib/python3.8/dist-packages pip\n",
            "folium                        0.12.1.post1           /usr/local/lib/python3.8/dist-packages pip\n",
            "frozenlist                    1.3.3                  /usr/local/lib/python3.8/dist-packages pip\n",
            "fsspec                        2023.1.0               /usr/local/lib/python3.8/dist-packages pip\n",
            "future                        0.16.0                 /usr/local/lib/python3.8/dist-packages pip\n",
            "gast                          0.4.0                  /usr/local/lib/python3.8/dist-packages pip\n",
            "GDAL                          3.0.4                  /usr/lib/python3/dist-packages\n",
            "gdown                         4.4.0                  /usr/local/lib/python3.8/dist-packages pip\n",
            "gensim                        3.6.0                  /usr/local/lib/python3.8/dist-packages pip\n",
            "geographiclib                 1.52                   /usr/local/lib/python3.8/dist-packages pip\n",
            "geopy                         1.17.0                 /usr/local/lib/python3.8/dist-packages pip\n",
            "gin-config                    0.5.0                  /usr/local/lib/python3.8/dist-packages pip\n",
            "glob2                         0.7                    /usr/local/lib/python3.8/dist-packages pip\n",
            "google                        2.0.3                  /usr/local/lib/python3.8/dist-packages pip\n",
            "google-api-core               2.11.0                 /usr/local/lib/python3.8/dist-packages pip\n",
            "google-api-python-client      2.70.0                 /usr/local/lib/python3.8/dist-packages pip\n",
            "google-auth                   2.16.0                 /usr/local/lib/python3.8/dist-packages pip\n",
            "google-auth-httplib2          0.1.0                  /usr/local/lib/python3.8/dist-packages pip\n",
            "google-auth-oauthlib          0.4.6                  /usr/local/lib/python3.8/dist-packages pip\n",
            "google-cloud-bigquery         3.4.2                  /usr/local/lib/python3.8/dist-packages pip\n",
            "google-cloud-bigquery-storage 2.18.1                 /usr/local/lib/python3.8/dist-packages pip\n",
            "google-cloud-core             2.3.2                  /usr/local/lib/python3.8/dist-packages pip\n",
            "google-cloud-datastore        2.11.1                 /usr/local/lib/python3.8/dist-packages pip\n",
            "google-cloud-firestore        2.7.3                  /usr/local/lib/python3.8/dist-packages pip\n",
            "google-cloud-language         2.6.1                  /usr/local/lib/python3.8/dist-packages pip\n",
            "google-cloud-storage          2.7.0                  /usr/local/lib/python3.8/dist-packages pip\n",
            "google-cloud-translate        3.8.4                  /usr/local/lib/python3.8/dist-packages pip\n",
            "google-colab                  1.0.0                  /usr/local/lib/python3.8/dist-packages pip\n",
            "google-crc32c                 1.5.0                  /usr/local/lib/python3.8/dist-packages pip\n",
            "google-pasta                  0.2.0                  /usr/local/lib/python3.8/dist-packages pip\n",
            "google-resumable-media        2.4.1                  /usr/local/lib/python3.8/dist-packages pip\n",
            "googleapis-common-protos      1.58.0                 /usr/local/lib/python3.8/dist-packages pip\n",
            "googledrivedownloader         0.4                    /usr/local/lib/python3.8/dist-packages pip\n",
            "graphviz                      0.10.1                 /usr/local/lib/python3.8/dist-packages pip\n",
            "greenlet                      2.0.2                  /usr/local/lib/python3.8/dist-packages pip\n",
            "grpcio                        1.51.1                 /usr/local/lib/python3.8/dist-packages pip\n",
            "grpcio-status                 1.48.2                 /usr/local/lib/python3.8/dist-packages pip\n",
            "gspread                       3.4.2                  /usr/local/lib/python3.8/dist-packages pip\n",
            "gspread-dataframe             3.0.8                  /usr/local/lib/python3.8/dist-packages pip\n",
            "gym                           0.25.2                 /usr/local/lib/python3.8/dist-packages pip\n",
            "gym-notices                   0.0.8                  /usr/local/lib/python3.8/dist-packages pip\n",
            "h5py                          3.1.0                  /usr/local/lib/python3.8/dist-packages pip\n",
            "HeapDict                      1.0.1                  /usr/local/lib/python3.8/dist-packages pip\n",
            "hijri-converter               2.2.4                  /usr/local/lib/python3.8/dist-packages pip\n",
            "holidays                      0.19                   /usr/local/lib/python3.8/dist-packages pip\n",
            "holoviews                     1.14.9                 /usr/local/lib/python3.8/dist-packages pip\n",
            "html5lib                      1.0.1                  /usr/local/lib/python3.8/dist-packages pip\n",
            "httpimport                    0.5.18                 /usr/local/lib/python3.8/dist-packages pip\n",
            "httplib2                      0.17.4                 /usr/local/lib/python3.8/dist-packages pip\n",
            "httpstan                      4.6.1                  /usr/local/lib/python3.8/dist-packages pip\n",
            "humanize                      0.5.1                  /usr/local/lib/python3.8/dist-packages pip\n",
            "hyperopt                      0.1.2                  /usr/local/lib/python3.8/dist-packages pip\n",
            "idna                          2.10                   /usr/local/lib/python3.8/dist-packages pip\n",
            "imageio                       2.9.0                  /usr/local/lib/python3.8/dist-packages pip\n",
            "imagesize                     1.4.1                  /usr/local/lib/python3.8/dist-packages pip\n",
            "imbalanced-learn              0.8.1                  /usr/local/lib/python3.8/dist-packages pip\n",
            "imblearn                      0.0                    /usr/local/lib/python3.8/dist-packages pip\n",
            "imgaug                        0.4.0                  /usr/local/lib/python3.8/dist-packages pip\n",
            "importlib-metadata            6.0.0                  /usr/local/lib/python3.8/dist-packages pip\n",
            "importlib-resources           5.10.2                 /usr/local/lib/python3.8/dist-packages pip\n",
            "imutils                       0.5.4                  /usr/local/lib/python3.8/dist-packages pip\n",
            "inflect                       2.1.0                  /usr/local/lib/python3.8/dist-packages pip\n",
            "intel-openmp                  2023.0.0               /usr/local/lib/python3.8/dist-packages pip\n",
            "intervaltree                  2.1.0                  /usr/local/lib/python3.8/dist-packages pip\n",
            "ipykernel                     5.3.4                  /usr/local/lib/python3.8/dist-packages pip\n",
            "ipython                       7.9.0                  /usr/local/lib/python3.8/dist-packages pip\n",
            "ipython-genutils              0.2.0                  /usr/local/lib/python3.8/dist-packages pip\n",
            "ipython-sql                   0.3.9                  /usr/local/lib/python3.8/dist-packages pip\n",
            "ipywidgets                    7.7.1                  /usr/local/lib/python3.8/dist-packages pip\n",
            "itsdangerous                  1.1.0                  /usr/local/lib/python3.8/dist-packages pip\n",
            "jax                           0.3.25                 /usr/local/lib/python3.8/dist-packages pip\n",
            "jaxlib                        0.3.25+cuda11.cudnn805 /usr/local/lib/python3.8/dist-packages pip\n",
            "jieba                         0.42.1                 /usr/local/lib/python3.8/dist-packages pip\n",
            "Jinja2                        2.11.3                 /usr/local/lib/python3.8/dist-packages pip\n",
            "joblib                        1.2.0                  /usr/local/lib/python3.8/dist-packages pip\n",
            "jpeg4py                       0.1.4                  /usr/local/lib/python3.8/dist-packages pip\n",
            "jsonschema                    4.3.3                  /usr/local/lib/python3.8/dist-packages pip\n",
            "jupyter-client                6.1.12                 /usr/local/lib/python3.8/dist-packages pip\n",
            "jupyter-console               6.1.0                  /usr/local/lib/python3.8/dist-packages pip\n",
            "jupyter_core                  5.2.0                  /usr/local/lib/python3.8/dist-packages pip\n",
            "jupyterlab-widgets            3.0.5                  /usr/local/lib/python3.8/dist-packages pip\n",
            "kaggle                        1.5.12                 /usr/local/lib/python3.8/dist-packages pip\n",
            "kapre                         0.3.7                  /usr/local/lib/python3.8/dist-packages pip\n",
            "keras                         2.11.0                 /usr/local/lib/python3.8/dist-packages pip\n",
            "keras-vis                     0.4.1                  /usr/local/lib/python3.8/dist-packages pip\n",
            "kiwisolver                    1.4.4                  /usr/local/lib/python3.8/dist-packages pip\n",
            "korean-lunar-calendar         0.3.1                  /usr/local/lib/python3.8/dist-packages pip\n",
            "langcodes                     3.3.0                  /usr/local/lib/python3.8/dist-packages pip\n",
            "libclang                      15.0.6.1               /usr/local/lib/python3.8/dist-packages pip\n",
            "librosa                       0.8.1                  /usr/local/lib/python3.8/dist-packages pip\n",
            "lightgbm                      2.2.3                  /usr/local/lib/python3.8/dist-packages pip\n",
            "llvmlite                      0.39.1                 /usr/local/lib/python3.8/dist-packages pip\n",
            "lmdb                          0.99                   /usr/local/lib/python3.8/dist-packages pip\n",
            "locket                        1.0.0                  /usr/local/lib/python3.8/dist-packages pip\n",
            "logical-unification           0.4.5                  /usr/local/lib/python3.8/dist-packages pip\n",
            "LunarCalendar                 0.0.9                  /usr/local/lib/python3.8/dist-packages pip\n",
            "lxml                          4.9.2                  /usr/local/lib/python3.8/dist-packages pip\n",
            "Markdown                      3.4.1                  /usr/local/lib/python3.8/dist-packages pip\n",
            "MarkupSafe                    2.0.1                  /usr/local/lib/python3.8/dist-packages pip\n",
            "marshmallow                   3.19.0                 /usr/local/lib/python3.8/dist-packages pip\n",
            "matplotlib                    3.2.2                  /usr/local/lib/python3.8/dist-packages pip\n",
            "matplotlib-venn               0.11.7                 /usr/local/lib/python3.8/dist-packages pip\n",
            "miniKanren                    1.0.3                  /usr/local/lib/python3.8/dist-packages pip\n",
            "missingno                     0.5.1                  /usr/local/lib/python3.8/dist-packages pip\n",
            "mistune                       0.8.4                  /usr/local/lib/python3.8/dist-packages pip\n",
            "mizani                        0.7.3                  /usr/local/lib/python3.8/dist-packages pip\n",
            "mkl                           2019.0                 /usr/local/lib/python3.8/dist-packages pip\n",
            "mlxtend                       0.14.0                 /usr/local/lib/python3.8/dist-packages pip\n",
            "more-itertools                9.0.0                  /usr/local/lib/python3.8/dist-packages pip\n",
            "moviepy                       0.2.3.5                /usr/local/lib/python3.8/dist-packages pip\n",
            "mpmath                        1.2.1                  /usr/local/lib/python3.8/dist-packages pip\n",
            "msgpack                       1.0.4                  /usr/local/lib/python3.8/dist-packages pip\n",
            "multidict                     6.0.4                  /usr/local/lib/python3.8/dist-packages pip\n",
            "multipledispatch              0.6.0                  /usr/local/lib/python3.8/dist-packages pip\n",
            "multitasking                  0.0.11                 /usr/local/lib/python3.8/dist-packages pip\n",
            "murmurhash                    1.0.9                  /usr/local/lib/python3.8/dist-packages pip\n",
            "music21                       5.5.0                  /usr/local/lib/python3.8/dist-packages pip\n",
            "natsort                       5.5.0                  /usr/local/lib/python3.8/dist-packages pip\n",
            "nbconvert                     5.6.1                  /usr/local/lib/python3.8/dist-packages pip\n",
            "nbformat                      5.7.3                  /usr/local/lib/python3.8/dist-packages pip\n",
            "netCDF4                       1.6.2                  /usr/local/lib/python3.8/dist-packages pip\n",
            "networkx                      3.0                    /usr/local/lib/python3.8/dist-packages pip\n",
            "nibabel                       3.0.2                  /usr/local/lib/python3.8/dist-packages pip\n",
            "nltk                          3.7                    /usr/local/lib/python3.8/dist-packages pip\n",
            "notebook                      5.7.16                 /usr/local/lib/python3.8/dist-packages pip\n",
            "numba                         0.56.4                 /usr/local/lib/python3.8/dist-packages pip\n",
            "numexpr                       2.8.4                  /usr/local/lib/python3.8/dist-packages pip\n",
            "numpy                         1.21.6                 /usr/local/lib/python3.8/dist-packages pip\n",
            "oauth2client                  4.1.3                  /usr/local/lib/python3.8/dist-packages pip\n",
            "oauthlib                      3.2.2                  /usr/local/lib/python3.8/dist-packages pip\n",
            "okgrade                       0.4.3                  /usr/local/lib/python3.8/dist-packages pip\n",
            "opencv-contrib-python         4.6.0.66               /usr/local/lib/python3.8/dist-packages pip\n",
            "opencv-python                 4.6.0.66               /usr/local/lib/python3.8/dist-packages pip\n",
            "opencv-python-headless        4.7.0.68               /usr/local/lib/python3.8/dist-packages pip\n",
            "openpyxl                      3.0.10                 /usr/local/lib/python3.8/dist-packages pip\n",
            "opt-einsum                    3.3.0                  /usr/local/lib/python3.8/dist-packages pip\n",
            "osqp                          0.6.2.post0            /usr/local/lib/python3.8/dist-packages pip\n",
            "packaging                     23.0                   /usr/local/lib/python3.8/dist-packages pip\n",
            "palettable                    3.3.0                  /usr/local/lib/python3.8/dist-packages pip\n",
            "pandas                        1.3.5                  /usr/local/lib/python3.8/dist-packages pip\n",
            "pandas-datareader             0.9.0                  /usr/local/lib/python3.8/dist-packages pip\n",
            "pandas-gbq                    0.17.9                 /usr/local/lib/python3.8/dist-packages pip\n",
            "pandas-profiling              1.4.1                  /usr/local/lib/python3.8/dist-packages pip\n",
            "pandocfilters                 1.5.0                  /usr/local/lib/python3.8/dist-packages pip\n",
            "panel                         0.12.1                 /usr/local/lib/python3.8/dist-packages pip\n",
            "param                         1.12.3                 /usr/local/lib/python3.8/dist-packages pip\n",
            "parso                         0.8.3                  /usr/local/lib/python3.8/dist-packages pip\n",
            "partd                         1.3.0                  /usr/local/lib/python3.8/dist-packages pip\n",
            "pastel                        0.2.1                  /usr/local/lib/python3.8/dist-packages pip\n",
            "pathlib                       1.0.1                  /usr/local/lib/python3.8/dist-packages pip\n",
            "pathy                         0.10.1                 /usr/local/lib/python3.8/dist-packages pip\n",
            "patsy                         0.5.3                  /usr/local/lib/python3.8/dist-packages pip\n",
            "pep517                        0.13.0                 /usr/local/lib/python3.8/dist-packages pip\n",
            "pexpect                       4.8.0                  /usr/local/lib/python3.8/dist-packages pip\n",
            "pickleshare                   0.7.5                  /usr/local/lib/python3.8/dist-packages pip\n",
            "Pillow                        7.1.2                  /usr/local/lib/python3.8/dist-packages pip\n",
            "pip                           22.0.4                 /usr/local/lib/python3.8/dist-packages pip\n",
            "pip-tools                     6.6.2                  /usr/local/lib/python3.8/dist-packages pip\n",
            "platformdirs                  3.0.0                  /usr/local/lib/python3.8/dist-packages pip\n",
            "plotly                        5.5.0                  /usr/local/lib/python3.8/dist-packages pip\n",
            "plotnine                      0.8.0                  /usr/local/lib/python3.8/dist-packages pip\n",
            "pluggy                        0.7.1                  /usr/local/lib/python3.8/dist-packages pip\n",
            "pooch                         1.6.0                  /usr/local/lib/python3.8/dist-packages pip\n",
            "portpicker                    1.3.9                  /usr/local/lib/python3.8/dist-packages pip\n",
            "prefetch-generator            1.0.3                  /usr/local/lib/python3.8/dist-packages pip\n",
            "preshed                       3.0.8                  /usr/local/lib/python3.8/dist-packages pip\n",
            "prettytable                   3.6.0                  /usr/local/lib/python3.8/dist-packages pip\n",
            "progressbar2                  3.38.0                 /usr/local/lib/python3.8/dist-packages pip\n",
            "prometheus-client             0.16.0                 /usr/local/lib/python3.8/dist-packages pip\n",
            "promise                       2.3                    /usr/local/lib/python3.8/dist-packages pip\n",
            "prompt-toolkit                2.0.10                 /usr/local/lib/python3.8/dist-packages pip\n",
            "prophet                       1.1.2                  /usr/local/lib/python3.8/dist-packages pip\n",
            "proto-plus                    1.22.2                 /usr/local/lib/python3.8/dist-packages pip\n",
            "protobuf                      3.19.6                 /usr/local/lib/python3.8/dist-packages pip\n",
            "psutil                        5.4.8                  /usr/local/lib/python3.8/dist-packages pip\n",
            "psycopg2                      2.9.5                  /usr/local/lib/python3.8/dist-packages pip\n",
            "ptyprocess                    0.7.0                  /usr/local/lib/python3.8/dist-packages pip\n",
            "py                            1.11.0                 /usr/local/lib/python3.8/dist-packages pip\n",
            "pyarrow                       9.0.0                  /usr/local/lib/python3.8/dist-packages pip\n",
            "pyasn1                        0.4.8                  /usr/local/lib/python3.8/dist-packages pip\n",
            "pyasn1-modules                0.2.8                  /usr/local/lib/python3.8/dist-packages pip\n",
            "pycocotools                   2.0.6                  /usr/local/lib/python3.8/dist-packages pip\n",
            "pycparser                     2.21                   /usr/local/lib/python3.8/dist-packages pip\n",
            "pyct                          0.5.0                  /usr/local/lib/python3.8/dist-packages pip\n",
            "pydantic                      1.10.4                 /usr/local/lib/python3.8/dist-packages pip\n",
            "pydata-google-auth            1.7.0                  /usr/local/lib/python3.8/dist-packages pip\n",
            "pydot                         1.3.0                  /usr/local/lib/python3.8/dist-packages pip\n",
            "pydot-ng                      2.0.0                  /usr/local/lib/python3.8/dist-packages pip\n",
            "pydotplus                     2.0.2                  /usr/local/lib/python3.8/dist-packages pip\n",
            "PyDrive                       1.3.1                  /usr/local/lib/python3.8/dist-packages pip\n",
            "pyemd                         0.5.1                  /usr/local/lib/python3.8/dist-packages pip\n",
            "pyerfa                        2.0.0.1                /usr/local/lib/python3.8/dist-packages pip\n",
            "Pygments                      2.6.1                  /usr/local/lib/python3.8/dist-packages pip\n",
            "PyGObject                     3.36.0                 /usr/lib/python3/dist-packages\n",
            "pylev                         1.4.0                  /usr/local/lib/python3.8/dist-packages pip\n",
            "pymc                          4.1.4                  /usr/local/lib/python3.8/dist-packages pip\n",
            "PyMeeus                       0.5.12                 /usr/local/lib/python3.8/dist-packages pip\n",
            "pymongo                       4.3.3                  /usr/local/lib/python3.8/dist-packages pip\n",
            "pymystem3                     0.2.0                  /usr/local/lib/python3.8/dist-packages pip\n",
            "PyOpenGL                      3.1.6                  /usr/local/lib/python3.8/dist-packages pip\n",
            "pyparsing                     3.0.9                  /usr/local/lib/python3.8/dist-packages pip\n",
            "pyrsistent                    0.19.3                 /usr/local/lib/python3.8/dist-packages pip\n",
            "pysimdjson                    3.2.0                  /usr/local/lib/python3.8/dist-packages pip\n",
            "PySocks                       1.7.1                  /usr/local/lib/python3.8/dist-packages pip\n",
            "pystan                        3.3.0                  /usr/local/lib/python3.8/dist-packages pip\n",
            "pytest                        3.6.4                  /usr/local/lib/python3.8/dist-packages pip\n",
            "python-apt                    2.0.1                  /usr/lib/python3/dist-packages\n",
            "python-dateutil               2.8.2                  /usr/local/lib/python3.8/dist-packages pip\n",
            "python-louvain                0.16                   /usr/local/lib/python3.8/dist-packages pip\n",
            "python-slugify                8.0.0                  /usr/local/lib/python3.8/dist-packages pip\n",
            "python-utils                  3.5.0                  /usr/local/lib/python3.8/dist-packages pip\n",
            "pytorchcv                     0.0.67                 /usr/local/lib/python3.8/dist-packages pip\n",
            "pytz                          2022.7.1               /usr/local/lib/python3.8/dist-packages pip\n",
            "pyviz-comms                   2.2.1                  /usr/local/lib/python3.8/dist-packages pip\n",
            "PyWavelets                    1.4.1                  /usr/local/lib/python3.8/dist-packages pip\n",
            "PyYAML                        6.0                    /usr/local/lib/python3.8/dist-packages pip\n",
            "pyzmq                         23.2.1                 /usr/local/lib/python3.8/dist-packages pip\n",
            "qdldl                         0.1.5.post3            /usr/local/lib/python3.8/dist-packages pip\n",
            "qudida                        0.0.4                  /usr/local/lib/python3.8/dist-packages pip\n",
            "regex                         2022.6.2               /usr/local/lib/python3.8/dist-packages pip\n",
            "requests                      2.25.1                 /usr/local/lib/python3.8/dist-packages pip\n",
            "requests-oauthlib             1.3.1                  /usr/local/lib/python3.8/dist-packages pip\n",
            "requests-unixsocket           0.2.0                  /usr/lib/python3/dist-packages\n",
            "resampy                       0.4.2                  /usr/local/lib/python3.8/dist-packages pip\n",
            "rpy2                          3.5.5                  /usr/local/lib/python3.8/dist-packages pip\n",
            "rsa                           4.9                    /usr/local/lib/python3.8/dist-packages pip\n",
            "scikit-image                  0.18.3                 /usr/local/lib/python3.8/dist-packages pip\n",
            "scikit-learn                  1.0.2                  /usr/local/lib/python3.8/dist-packages pip\n",
            "scipy                         1.7.3                  /usr/local/lib/python3.8/dist-packages pip\n",
            "screen-resolution-extra       0.0.0                  /usr/lib/python3/dist-packages\n",
            "scs                           3.2.2                  /usr/local/lib/python3.8/dist-packages pip\n",
            "seaborn                       0.11.2                 /usr/local/lib/python3.8/dist-packages pip\n",
            "Send2Trash                    1.8.0                  /usr/local/lib/python3.8/dist-packages pip\n",
            "setuptools                    57.4.0                 /usr/local/lib/python3.8/dist-packages pip\n",
            "shapely                       2.0.1                  /usr/local/lib/python3.8/dist-packages pip\n",
            "six                           1.15.0                 /usr/local/lib/python3.8/dist-packages pip\n",
            "sklearn-pandas                1.8.0                  /usr/local/lib/python3.8/dist-packages pip\n",
            "smart-open                    6.3.0                  /usr/local/lib/python3.8/dist-packages pip\n",
            "snowballstemmer               2.2.0                  /usr/local/lib/python3.8/dist-packages pip\n",
            "sortedcontainers              2.4.0                  /usr/local/lib/python3.8/dist-packages pip\n",
            "soundfile                     0.11.0                 /usr/local/lib/python3.8/dist-packages pip\n",
            "spacy                         3.4.4                  /usr/local/lib/python3.8/dist-packages pip\n",
            "spacy-legacy                  3.0.12                 /usr/local/lib/python3.8/dist-packages pip\n",
            "spacy-loggers                 1.0.4                  /usr/local/lib/python3.8/dist-packages pip\n",
            "Sphinx                        3.5.4                  /usr/local/lib/python3.8/dist-packages pip\n",
            "sphinxcontrib-applehelp       1.0.4                  /usr/local/lib/python3.8/dist-packages pip\n",
            "sphinxcontrib-devhelp         1.0.2                  /usr/local/lib/python3.8/dist-packages pip\n",
            "sphinxcontrib-htmlhelp        2.0.1                  /usr/local/lib/python3.8/dist-packages pip\n",
            "sphinxcontrib-jsmath          1.0.1                  /usr/local/lib/python3.8/dist-packages pip\n",
            "sphinxcontrib-qthelp          1.0.3                  /usr/local/lib/python3.8/dist-packages pip\n",
            "sphinxcontrib-serializinghtml 1.1.5                  /usr/local/lib/python3.8/dist-packages pip\n",
            "SQLAlchemy                    1.4.46                 /usr/local/lib/python3.8/dist-packages pip\n",
            "sqlparse                      0.4.3                  /usr/local/lib/python3.8/dist-packages pip\n",
            "srsly                         2.4.5                  /usr/local/lib/python3.8/dist-packages pip\n",
            "statsmodels                   0.12.2                 /usr/local/lib/python3.8/dist-packages pip\n",
            "sympy                         1.7.1                  /usr/local/lib/python3.8/dist-packages pip\n",
            "tables                        3.7.0                  /usr/local/lib/python3.8/dist-packages pip\n",
            "tabulate                      0.8.10                 /usr/local/lib/python3.8/dist-packages pip\n",
            "tblib                         1.7.0                  /usr/local/lib/python3.8/dist-packages pip\n",
            "tenacity                      8.2.0                  /usr/local/lib/python3.8/dist-packages pip\n",
            "tensorboard                   2.11.2                 /usr/local/lib/python3.8/dist-packages pip\n",
            "tensorboard-data-server       0.6.1                  /usr/local/lib/python3.8/dist-packages pip\n",
            "tensorboard-plugin-wit        1.8.1                  /usr/local/lib/python3.8/dist-packages pip\n",
            "tensorflow                    2.11.0                 /usr/local/lib/python3.8/dist-packages pip\n",
            "tensorflow-datasets           4.8.2                  /usr/local/lib/python3.8/dist-packages pip\n",
            "tensorflow-estimator          2.11.0                 /usr/local/lib/python3.8/dist-packages pip\n",
            "tensorflow-gcs-config         2.11.0                 /usr/local/lib/python3.8/dist-packages pip\n",
            "tensorflow-hub                0.12.0                 /usr/local/lib/python3.8/dist-packages pip\n",
            "tensorflow-io-gcs-filesystem  0.30.0                 /usr/local/lib/python3.8/dist-packages pip\n",
            "tensorflow-metadata           1.12.0                 /usr/local/lib/python3.8/dist-packages pip\n",
            "tensorflow-probability        0.19.0                 /usr/local/lib/python3.8/dist-packages pip\n",
            "termcolor                     2.2.0                  /usr/local/lib/python3.8/dist-packages pip\n",
            "terminado                     0.13.3                 /usr/local/lib/python3.8/dist-packages pip\n",
            "testpath                      0.6.0                  /usr/local/lib/python3.8/dist-packages pip\n",
            "text-unidecode                1.3                    /usr/local/lib/python3.8/dist-packages pip\n",
            "textblob                      0.15.3                 /usr/local/lib/python3.8/dist-packages pip\n",
            "thinc                         8.1.7                  /usr/local/lib/python3.8/dist-packages pip\n",
            "threadpoolctl                 3.1.0                  /usr/local/lib/python3.8/dist-packages pip\n",
            "tifffile                      2023.2.3               /usr/local/lib/python3.8/dist-packages pip\n",
            "toml                          0.10.2                 /usr/local/lib/python3.8/dist-packages pip\n",
            "tomli                         2.0.1                  /usr/local/lib/python3.8/dist-packages pip\n",
            "toolz                         0.12.0                 /usr/local/lib/python3.8/dist-packages pip\n",
            "torch                         1.13.1+cu116           /usr/local/lib/python3.8/dist-packages pip\n",
            "torchaudio                    0.13.1+cu116           /usr/local/lib/python3.8/dist-packages pip\n",
            "torchinfo                     1.7.2                  /usr/local/lib/python3.8/dist-packages pip\n",
            "torchsummary                  1.5.1                  /usr/local/lib/python3.8/dist-packages pip\n",
            "torchtext                     0.14.1                 /usr/local/lib/python3.8/dist-packages pip\n",
            "torchvision                   0.14.1+cu116           /usr/local/lib/python3.8/dist-packages pip\n",
            "tornado                       6.0.4                  /usr/local/lib/python3.8/dist-packages pip\n",
            "tqdm                          4.64.1                 /usr/local/lib/python3.8/dist-packages pip\n",
            "traitlets                     5.7.1                  /usr/local/lib/python3.8/dist-packages pip\n",
            "tweepy                        3.10.0                 /usr/local/lib/python3.8/dist-packages pip\n",
            "typeguard                     2.7.1                  /usr/local/lib/python3.8/dist-packages pip\n",
            "typer                         0.7.0                  /usr/local/lib/python3.8/dist-packages pip\n",
            "typing_extensions             4.4.0                  /usr/local/lib/python3.8/dist-packages pip\n",
            "tzlocal                       1.5.1                  /usr/local/lib/python3.8/dist-packages pip\n",
            "uritemplate                   4.1.1                  /usr/local/lib/python3.8/dist-packages pip\n",
            "urllib3                       1.24.3                 /usr/local/lib/python3.8/dist-packages pip\n",
            "vega-datasets                 0.9.0                  /usr/local/lib/python3.8/dist-packages pip\n",
            "wasabi                        0.10.1                 /usr/local/lib/python3.8/dist-packages pip\n",
            "wcwidth                       0.2.6                  /usr/local/lib/python3.8/dist-packages pip\n",
            "webargs                       8.2.0                  /usr/local/lib/python3.8/dist-packages pip\n",
            "webencodings                  0.5.1                  /usr/local/lib/python3.8/dist-packages pip\n",
            "Werkzeug                      1.0.1                  /usr/local/lib/python3.8/dist-packages pip\n",
            "wheel                         0.38.4                 /usr/local/lib/python3.8/dist-packages pip\n",
            "widgetsnbextension            3.6.1                  /usr/local/lib/python3.8/dist-packages pip\n",
            "wordcloud                     1.8.2.2                /usr/local/lib/python3.8/dist-packages pip\n",
            "wrapt                         1.14.1                 /usr/local/lib/python3.8/dist-packages pip\n",
            "xarray                        2022.12.0              /usr/local/lib/python3.8/dist-packages pip\n",
            "xarray-einstats               0.5.1                  /usr/local/lib/python3.8/dist-packages pip\n",
            "xgboost                       0.90                   /usr/local/lib/python3.8/dist-packages pip\n",
            "xkit                          0.0.0                  /usr/lib/python3/dist-packages\n",
            "xlrd                          1.2.0                  /usr/local/lib/python3.8/dist-packages pip\n",
            "xlwt                          1.3.0                  /usr/local/lib/python3.8/dist-packages pip\n",
            "yarl                          1.8.2                  /usr/local/lib/python3.8/dist-packages pip\n",
            "yellowbrick                   1.5                    /usr/local/lib/python3.8/dist-packages pip\n",
            "zict                          2.2.0                  /usr/local/lib/python3.8/dist-packages pip\n",
            "zipp                          3.12.1                 /usr/local/lib/python3.8/dist-packages pip\n"
          ]
        }
      ]
    },
    {
      "cell_type": "code",
      "source": [
        "!pip uninstall pytorchcvyy"
      ],
      "metadata": {
        "colab": {
          "base_uri": "https://localhost:8080/"
        },
        "id": "rVR4fJrRomws",
        "outputId": "b9a81fe0-45cb-4ae6-bce4-46b7773df658"
      },
      "execution_count": 12,
      "outputs": [
        {
          "output_type": "stream",
          "name": "stdout",
          "text": [
            "Found existing installation: pytorchcv 0.0.67\n",
            "Uninstalling pytorchcv-0.0.67:\n",
            "  Would remove:\n",
            "    /usr/local/lib/python3.8/dist-packages/pytorchcv-0.0.67.dist-info/*\n",
            "    /usr/local/lib/python3.8/dist-packages/pytorchcv/*\n",
            "Proceed (Y/n)? y\n",
            "  Successfully uninstalled pytorchcv-0.0.67\n"
          ]
        }
      ]
    },
    {
      "cell_type": "code",
      "source": [
        "!wget https://raw.githubusercontent.com/MicrosoftDocs/pytorchfundamentals/main/computer-vision-pytorch/pytorchcv.py"
      ],
      "metadata": {
        "colab": {
          "base_uri": "https://localhost:8080/"
        },
        "id": "6qiaezUEmuPk",
        "outputId": "970ea944-04c5-44ab-a813-0799d75781bb"
      },
      "execution_count": 13,
      "outputs": [
        {
          "output_type": "stream",
          "name": "stdout",
          "text": [
            "--2023-02-12 17:19:00--  https://raw.githubusercontent.com/MicrosoftDocs/pytorchfundamentals/main/computer-vision-pytorch/pytorchcv.py\n",
            "Resolving raw.githubusercontent.com (raw.githubusercontent.com)... 185.199.109.133, 185.199.111.133, 185.199.110.133, ...\n",
            "Connecting to raw.githubusercontent.com (raw.githubusercontent.com)|185.199.109.133|:443... connected.\n",
            "HTTP request sent, awaiting response... 200 OK\n",
            "Length: 6540 (6.4K) [text/plain]\n",
            "Saving to: ‘pytorchcv.py.2’\n",
            "\n",
            "\rpytorchcv.py.2        0%[                    ]       0  --.-KB/s               \rpytorchcv.py.2      100%[===================>]   6.39K  --.-KB/s    in 0s      \n",
            "\n",
            "2023-02-12 17:19:00 (59.3 MB/s) - ‘pytorchcv.py.2’ saved [6540/6540]\n",
            "\n"
          ]
        }
      ]
    },
    {
      "cell_type": "code",
      "execution_count": 2,
      "metadata": {
        "id": "wZWYiWAOkxRp"
      },
      "outputs": [],
      "source": [
        "#importing necessary libraries\n",
        "#pytorchCV help us upload data in the right format for Network training: This is a collection of image classification, segmentation, detection, and pose estimation models.\n",
        "\n",
        "import torch\n",
        "import torch.nn as nn\n",
        "import torchvision\n",
        "import matplotlib.pyplot as plt\n",
        "#similar to Tensorflow's model.summary(), helps visualize and debug networks\n",
        "from torchinfo import summary\n",
        "#from pytorchcv import load_mnist,plot_results clearly not working"
      ]
    },
    {
      "cell_type": "code",
      "source": [
        "from torchvision.transforms import ToTensor\n",
        "data_train = torchvision.datasets.MNIST(\n",
        "    root = '/data',\n",
        "    download = True,\n",
        "    train = True,\n",
        "    transform = ToTensor()\n",
        ")\n",
        "\n",
        "data_test = torchvision.datasets.MNIST(\n",
        "    root = '/data',\n",
        "    download = True,\n",
        "    train = False,\n",
        "    transform = ToTensor()\n",
        ")"
      ],
      "metadata": {
        "colab": {
          "base_uri": "https://localhost:8080/",
          "height": 437,
          "referenced_widgets": [
            "8e17ebee13da474fb1cf7c4070ce1709",
            "8173f05ac14b4ed6bc125d126cd10a32",
            "25ca1eb6ce3a4d13a96355034734c91a",
            "b97b60ddb7ba400f98be115a4b72ed6f",
            "e15bdd871de54f06b40dd7c867bb0a74",
            "6504f228f3674a34861f4f8c7c39f020",
            "824904b50d6a4c25a5d34f65be32e287",
            "6975353f310f4973b4b32df39495f3b2",
            "8a8cdd39bd5e44ada9ac139ee9018d11",
            "02b6c0085d474b818f5977c6af1a747f",
            "636892923116410281ccbb261cc89739",
            "59c308ec1a944ec599bf6edb8f98839b",
            "0b3a2c0649014942884644f52a2e0a58",
            "91bc313821cf4608997dcc6299379702",
            "7fb34eee77df40a498c831fe53f3c6e9",
            "0ebf47da4ba847d1ab93e2945bbc37fd",
            "9ecd2167eb3d4b2c98407434a2d5d39a",
            "ce6c37bbcecc4dec93bd15e39ea8eda5",
            "a5ab3ec322e14cde8290f67203e10402",
            "0d16302df2d74eb2afaf3fb508c3d8cf",
            "790edb12b8864e2bb3d38dd78c4f0870",
            "c7106f30097e44e1935a1a9b4757df08",
            "81d06db012144b658e94080d4033d557",
            "ebe729da2d874d12850c392ba8ac22e0",
            "648e499bb796401b98a3934476dbc104",
            "1d4cdd32041a4d958bca4fb3b6ec09b1",
            "86491d9b4e2b40f4a9a981bbf4df909e",
            "21bca0bde5c34ea69e1920b51cd40fe2",
            "98e9601df6eb4db6a68d7c1c4a89887d",
            "9e22836f77594958b9de46b5976cc005",
            "897fd94a382249f78f92828538739416",
            "f1c03ba73ec44063b8efed47dcbbcb5f",
            "30591e18fb534222830a5e404b82407f",
            "2d79de2188504732a7c86563c7e53fb1",
            "0e387ac02b4a4b3c8f88193e590e9cac",
            "f9499055a9bd402f9b45051c0c39eaa9",
            "2b4aab51178c4ab9a3323ac5195f817b",
            "2af5eedad2fd4dc5be2a9b1a976754fe",
            "49cb7c8b5b4d42a9b35efeb42a312d87",
            "f97492b8c87745769141a5ac434b1fbf",
            "d36682c9f43f4325b616575975f93dc8",
            "5d85b2c631ab4fe0aafc1fd4b1e56f56",
            "58bb7ccbf453411c96b74fb2eb347b33",
            "83633c73ea2e467fa3714257aed82bfb"
          ]
        },
        "id": "OkYYenAn9cbv",
        "outputId": "1d9c9f58-fd2c-436b-d662-53e03077737e"
      },
      "execution_count": 3,
      "outputs": [
        {
          "output_type": "stream",
          "name": "stdout",
          "text": [
            "Downloading http://yann.lecun.com/exdb/mnist/train-images-idx3-ubyte.gz\n",
            "Downloading http://yann.lecun.com/exdb/mnist/train-images-idx3-ubyte.gz to /data/MNIST/raw/train-images-idx3-ubyte.gz\n"
          ]
        },
        {
          "output_type": "display_data",
          "data": {
            "text/plain": [
              "  0%|          | 0/9912422 [00:00<?, ?it/s]"
            ],
            "application/vnd.jupyter.widget-view+json": {
              "version_major": 2,
              "version_minor": 0,
              "model_id": "8e17ebee13da474fb1cf7c4070ce1709"
            }
          },
          "metadata": {}
        },
        {
          "output_type": "stream",
          "name": "stdout",
          "text": [
            "Extracting /data/MNIST/raw/train-images-idx3-ubyte.gz to /data/MNIST/raw\n",
            "\n",
            "Downloading http://yann.lecun.com/exdb/mnist/train-labels-idx1-ubyte.gz\n",
            "Downloading http://yann.lecun.com/exdb/mnist/train-labels-idx1-ubyte.gz to /data/MNIST/raw/train-labels-idx1-ubyte.gz\n"
          ]
        },
        {
          "output_type": "display_data",
          "data": {
            "text/plain": [
              "  0%|          | 0/28881 [00:00<?, ?it/s]"
            ],
            "application/vnd.jupyter.widget-view+json": {
              "version_major": 2,
              "version_minor": 0,
              "model_id": "59c308ec1a944ec599bf6edb8f98839b"
            }
          },
          "metadata": {}
        },
        {
          "output_type": "stream",
          "name": "stdout",
          "text": [
            "Extracting /data/MNIST/raw/train-labels-idx1-ubyte.gz to /data/MNIST/raw\n",
            "\n",
            "Downloading http://yann.lecun.com/exdb/mnist/t10k-images-idx3-ubyte.gz\n",
            "Downloading http://yann.lecun.com/exdb/mnist/t10k-images-idx3-ubyte.gz to /data/MNIST/raw/t10k-images-idx3-ubyte.gz\n"
          ]
        },
        {
          "output_type": "display_data",
          "data": {
            "text/plain": [
              "  0%|          | 0/1648877 [00:00<?, ?it/s]"
            ],
            "application/vnd.jupyter.widget-view+json": {
              "version_major": 2,
              "version_minor": 0,
              "model_id": "81d06db012144b658e94080d4033d557"
            }
          },
          "metadata": {}
        },
        {
          "output_type": "stream",
          "name": "stdout",
          "text": [
            "Extracting /data/MNIST/raw/t10k-images-idx3-ubyte.gz to /data/MNIST/raw\n",
            "\n",
            "Downloading http://yann.lecun.com/exdb/mnist/t10k-labels-idx1-ubyte.gz\n",
            "Downloading http://yann.lecun.com/exdb/mnist/t10k-labels-idx1-ubyte.gz to /data/MNIST/raw/t10k-labels-idx1-ubyte.gz\n"
          ]
        },
        {
          "output_type": "display_data",
          "data": {
            "text/plain": [
              "  0%|          | 0/4542 [00:00<?, ?it/s]"
            ],
            "application/vnd.jupyter.widget-view+json": {
              "version_major": 2,
              "version_minor": 0,
              "model_id": "2d79de2188504732a7c86563c7e53fb1"
            }
          },
          "metadata": {}
        },
        {
          "output_type": "stream",
          "name": "stdout",
          "text": [
            "Extracting /data/MNIST/raw/t10k-labels-idx1-ubyte.gz to /data/MNIST/raw\n",
            "\n"
          ]
        }
      ]
    },
    {
      "cell_type": "markdown",
      "source": [
        "###Fully-connected dense neural networks\n",
        "\n",
        "\n",
        "A basic **neural network** in pytorch consist fo a number of **layers**. The simplest network would incluse just one fully conncted layer , which is called **Linear Layer**, with 784 inputs (one input for each pixel of the input image) and 10 output (one output for each class)\n",
        "\n",
        "\n",
        "As we discussed above, the dimension of our digit images is  1×28×28 , i.e. each image contains  28×28=784 different pixels. Because linear layer expects its input as one-dimensional vector, we need to insert another layer into the network, called Flatten, to change input tensor shape from 1×28×28  to 784.\n",
        "\n",
        "After Flatten, there is a main linear layer (called Dense in PyTorch terminology) that converts 784 inputs to 10 outputs - one per class. We want  \n",
        "n -th output of the network to return the probability of the input digit being equal to n. This basically means is that the inputs of the dense layers are pixels and the output of the dense layer are probabilities. The layer here is actually the mesh of connections between input and output.\n",
        "\n",
        "Because the output of a fully-connected layer is not normalized to be between 0 and 1, it cannot be thought of as probability. Moreover, if want outputs to be probabilities of different digits, they all need to add up to 1. To turn output vectors into probability vector, a function called **Softmax** is often used as the last activation function in a classification neural network. For example,  \n",
        "softmax([−1,1,2])=[0.035,0.25,0.705].\n",
        "What **Softmax** does is take a list of output and transform them into a list of probabilities(probab distribution function)\n",
        "\n",
        "\n",
        "In PyTorch, we often prefer to use **LogSoftmax** function, which will also compute logarithms of output probabilities. To turn the output vector into the actual probabilities, we need to take torch.exp of the output. *Why is the logarithm of the probabilies preferred?*"
      ],
      "metadata": {
        "id": "4-XOvDbimJRC"
      }
    },
    {
      "cell_type": "code",
      "source": [
        "#Defining our network\n",
        "net = nn.Sequential(\n",
        "    nn.Flatten(),\n",
        "    nn.Linear(784,10), #784 inputs, 10 outputs\n",
        "    nn.LogSoftmax()\n",
        ")"
      ],
      "metadata": {
        "id": "1QCoqStsmHu9"
      },
      "execution_count": 4,
      "outputs": []
    },
    {
      "cell_type": "markdown",
      "source": [
        "A network defined in this way can take any digit as input and produce a vector of probabilities as an output. Let's see how this network performs by giving it a digit from our dataset"
      ],
      "metadata": {
        "id": "SE1tWhiH86kX"
      }
    },
    {
      "cell_type": "code",
      "source": [
        "print(\"Digit to be predicted: \" , data_train[0][1])\n",
        "output_layer = torch.exp(net(data_train[0][0]))\n",
        "output_layer"
      ],
      "metadata": {
        "colab": {
          "base_uri": "https://localhost:8080/"
        },
        "id": "zqhwnjwc87qW",
        "outputId": "259515b8-8f60-4d5d-c9b3-1890db6d1b01"
      },
      "execution_count": 5,
      "outputs": [
        {
          "output_type": "stream",
          "name": "stdout",
          "text": [
            "Digit to be predicted:  5\n"
          ]
        },
        {
          "output_type": "stream",
          "name": "stderr",
          "text": [
            "/usr/local/lib/python3.8/dist-packages/torch/nn/modules/container.py:204: UserWarning: Implicit dimension choice for log_softmax has been deprecated. Change the call to include dim=X as an argument.\n",
            "  input = module(input)\n"
          ]
        },
        {
          "output_type": "execute_result",
          "data": {
            "text/plain": [
              "tensor([[0.0990, 0.1161, 0.1075, 0.0920, 0.1166, 0.1078, 0.0803, 0.1245, 0.0638,\n",
              "         0.0925]], grad_fn=<ExpBackward0>)"
            ]
          },
          "metadata": {},
          "execution_count": 5
        }
      ]
    },
    {
      "cell_type": "markdown",
      "source": [
        "Because we use LogSoftmax as final activation of our network, we pass network output through torch.exp to get probabilities. the network predicts similar probabilities for each digit. This is because it has not been trained on how to recognize the digits. We need to give it our training data to train it on our dataset.\n",
        "\n",
        "To train the model we will need to create batches from our dataset of a certain size, let's say 64. PyTorch has an object called DataLoader that can create batches of our data for us automatically:"
      ],
      "metadata": {
        "id": "DU1OROTy-cwB"
      }
    },
    {
      "cell_type": "code",
      "source": [
        "train_loader = torch.utils.data.DataLoader(data_train,batch_size=64)\n",
        "#we can use larger batch_size for testing, since it's just summing an evaluating\n",
        "test_loader = torch.utils.data.DataLoader(data_test,batch_size=128)"
      ],
      "metadata": {
        "id": "HprJEQhd-PE_"
      },
      "execution_count": 6,
      "outputs": []
    },
    {
      "cell_type": "markdown",
      "source": [
        "##**Training Process**\n",
        "\n",
        "The training  process steps are as follows:\n",
        " - We take a mininatch from the input dataset, which consist of input data(feature) and expected result(label)\n",
        " - We calculate the predicted result for this minibatch\n",
        " - The difference between this predicted result and the real labels(expected result) of the minibatch is calculated using the loss function. The loss function shows how different the output of the network is from the expected output. The goal of our training is to minimize the loss.\n",
        " - we calculate the gradient of this loss function with respect to the model weights (parameter), which are  then used to adjust the weights to optimize the performance of the network. The amount of adjustment is controlled by a parameter called the **learning rate**, and the details of optimization algorithm are defined in the **optimizer** object\n",
        " - we repeat those steps untill the whole dataset is processed.One complete pass through the dataset is called **an epoch**"
      ],
      "metadata": {
        "id": "tpwUE-EmA13D"
      }
    },
    {
      "cell_type": "code",
      "source": [
        "from prompt_toolkit.output.vt100 import Output\n",
        "#function that performs one epoch training/ Training Loop\n",
        "\n",
        "def train_epoch(net,dataloader,lr=0.01, optimizer=None,loss_fn=nn.NLLLoss()):\n",
        "  optimizer = optimizer or torch.optim.Adam(net.parameters(),lr=lr)\n",
        "  net.train()\n",
        "  total_loss,acc,count=0,0,0\n",
        "\n",
        "  for features,labels in dataloader:\n",
        "    optimizer.zero_grad()\n",
        "    out = net(features)\n",
        "    #print(out)\n",
        "    loss = loss_fn(out,labels) #cross_entropy(out,labels)\n",
        "    loss.backward() #optimize the weights/ calling the optimizer\n",
        "    optimizer.step()\n",
        "    total_loss += loss\n",
        "    _,predicted = torch.max(out,1)#produces a tuple with the maximum together with its indice. \n",
        "    #print(predicted) \n",
        "    acc+=(predicted==labels).sum() #output is compared with label\n",
        "    count+=len(labels)\n",
        "  return total_loss.item()/count, acc.item()/count\n",
        "\n",
        "train_epoch(net,train_loader)"
      ],
      "metadata": {
        "colab": {
          "base_uri": "https://localhost:8080/"
        },
        "id": "1HTEBHqfAyjY",
        "outputId": "ad38e23a-5f55-4766-96b1-8246937e4600"
      },
      "execution_count": 7,
      "outputs": [
        {
          "output_type": "execute_result",
          "data": {
            "text/plain": [
              "(0.005927326456705729, 0.89335)"
            ]
          },
          "metadata": {},
          "execution_count": 7
        }
      ]
    },
    {
      "cell_type": "markdown",
      "source": [
        "The function takes the following parameters:\n",
        "\n",
        "- **Neural network**\n",
        "- **DataLoader** which defines the data to train on in minibatches\n",
        "- **Loss Function**, which is a function that measures the difference between the expected result and the one produced by the network.\n",
        "In most of the classification tasks NLLLoss is used, so we will make it a default.\n",
        "-**Optimizer**, which defined an optimization algorithm. The most traditional algorithm is stochastic gradient descent, but we will use a more advanced version called Adam by default.\n",
        "-**Learning rate** defines the speed at which the network learns. During learning, we show the same data multiple times, and each time weights are adjusted. If the learning rate is too high, new values will overwrite the knowledge from the old ones, and the network would perform badly. If the learning rate is too small it results in a very slow learning process.\n",
        "\n",
        "\n",
        "here is what we do when training\n",
        "- Switch the network to training mode (net.train())\n",
        "- Go over all batches in the dataset, and for each batch do the following:\n",
        "    - compute predictions made by the network on this batch (out)\n",
        "    - compute loss, which is the discrepancy between predicted and expected values\n",
        "    - try to minimize the loss by adjusting weights of the network (optimizer.step())\n",
        "    - compute the number of correctly predicted cases (accuracy)- \n",
        "\n",
        "\n",
        "The function calculates and returns the average loss per data item, and training accuracy (percentage of cases guessed correctly). By observing this loss during training we can see whether the network is improving and learning from the data provided.\n",
        "\n",
        "It is also important to control the accuracy on the test dataset (also called validation accuracy). A good neural network with a lot of parameters can predict with decent accuracy on any training dataset, but it may poorly generalize to other data. That's why in most cases we set aside part of our data, and then periodically check how well the model performs on them. Here is the function to evaluate the network on test dataset:"
      ],
      "metadata": {
        "id": "s7JVOeTrJWwr"
      }
    },
    {
      "cell_type": "code",
      "source": [
        "output = torch.tensor([[-9.2491e+00, -2.5006e+01, -1.0071e+01, -1.7095e+01, -4.9578e-03,\n",
        "         -1.2524e+01, -6.9332e+00, -8.3594e+00, -8.4668e+00, -5.6887e+00],\n",
        "        [-3.5888e+01, -5.4708e+01, -3.7948e+01, -2.0568e+01, -3.6885e+01,\n",
        "         -2.0782e+01, -4.8444e+01, -4.7684e-07, -2.4562e+01, -1.4666e+01],\n",
        "        [-1.1225e+01, -8.7756e+00, -3.6962e+00, -4.9507e+00, -8.7494e+00,\n",
        "         -6.0843e+00, -1.3895e+01, -1.3421e+01, -3.7623e-02, -6.0234e+00],\n",
        "        [-1.6569e+01, -2.4067e+01, -1.4415e+01, -1.1506e+01, -9.1833e+00,\n",
        "         -9.3837e+00, -1.5841e+01, -4.6587e+00, -7.0496e+00, -1.0600e-02],\n",
        "        [-2.2707e-04, -3.4867e+01, -9.1716e+00, -1.2371e+01, -2.5050e+01,\n",
        "         -9.0669e+00, -1.6277e+01, -1.9303e+01, -1.2943e+01, -1.3894e+01],\n",
        "        [-1.9041e+01, -2.5999e-03, -6.9193e+00, -6.9053e+00, -1.8584e+01,\n",
        "         -9.9499e+00, -1.0073e+01, -1.0976e+01, -7.7349e+00, -9.7010e+00],\n",
        "        [-1.5395e+01, -2.7796e+01, -2.5034e-06, -1.7508e+01, -3.2397e+01,\n",
        "         -1.8563e+01, -1.7345e+01, -3.5559e+01, -1.2993e+01, -2.3517e+01],\n",
        "        [-1.7804e+01, -2.5416e+01, -7.5113e+00, -2.6652e-03, -3.6180e+01,\n",
        "         -1.1668e+01, -6.1629e+00, -5.0397e+01, -1.8501e+01, -4.2716e+01],\n",
        "        [-1.3280e+01, -1.6205e+01, -9.3545e+00, -1.3316e+01, -1.4414e-02,\n",
        "         -8.9028e+00, -5.0319e+00, -8.6906e+00, -6.8825e+00, -5.0570e+00],\n",
        "        [-7.6593e+00, -8.9592e+00, -1.2835e+00, -3.2985e+00, -1.1915e+01,\n",
        "         -3.8934e-01, -9.6734e+00, -1.7743e+01, -4.8496e+00, -1.2998e+01],\n",
        "        [-2.6162e+01, -1.5347e+01, -1.1609e+01, -1.3155e+01, -2.3301e+01,\n",
        "         -1.4584e+01, -1.7404e-05, -3.6056e+01, -1.2075e+01, -2.0368e+01],\n",
        "        [-2.0131e+01, -3.3215e+01, -1.9570e+01, -8.4138e+00, -2.5798e+01,\n",
        "         -1.3336e+01, -3.7832e+01, -4.6135e-04, -1.6596e+01, -8.3441e+00],\n",
        "        [-1.2271e+01, -7.2287e+00, -2.5704e+00, -5.1415e+00, -1.1781e+01,\n",
        "         -8.3842e+00, -8.4914e+00, -1.8795e+01, -8.7402e-02, -8.7125e+00],\n",
        "        [-1.8512e+01, -2.1325e+01, -1.2821e+01, -6.7576e+00, -6.0144e+00,\n",
        "         -6.8513e+00, -1.8080e+01, -2.6201e+00, -7.3232e+00, -8.1338e-02],\n",
        "        [-1.2594e-03, -3.7524e+01, -1.3001e+01, -1.0002e+01, -2.4934e+01,\n",
        "         -6.7217e+00, -3.5961e+01, -1.4595e+01, -1.4063e+01, -1.2165e+01],\n",
        "        [-1.7395e+01, -7.3995e-03, -5.0331e+00, -8.2157e+00, -1.6531e+01,\n",
        "         -1.0624e+01, -9.9477e+00, -1.2806e+01, -7.5914e+00, -1.2539e+01],\n",
        "        [-1.9985e+01, -3.8906e+01, -4.0531e-06, -1.7084e+01, -2.5454e+01,\n",
        "         -2.0514e+01, -1.8225e+01, -3.6163e+01, -1.2423e+01, -1.8182e+01],\n",
        "        [-1.9590e+01, -2.5701e+01, -1.3956e+01, -3.9338e-05, -3.1721e+01,\n",
        "         -1.0166e+01, -2.2167e+01, -1.8196e+01, -2.0519e+01, -1.6305e+01],\n",
        "        [-1.0714e+01, -1.8172e+01, -7.7789e+00, -1.2503e+01, -3.2609e-02,\n",
        "         -7.3122e+00, -6.5705e+00, -5.3056e+00, -5.8235e+00, -3.8328e+00],\n",
        "        [-1.0708e+01, -1.6084e+01, -1.1109e+01, -9.9328e+00, -1.4832e+01,\n",
        "         -3.8719e-03, -6.7992e+00, -2.9028e+01, -5.9282e+00, -1.8160e+01],\n",
        "        [-2.5278e+01, -2.6391e+01, -9.4652e+00, -2.1885e+01, -1.8088e+01,\n",
        "         -1.8594e+01, -7.7483e-05, -2.7937e+01, -1.9808e+01, -2.3935e+01],\n",
        "        [-3.5310e+01, -4.7818e+01, -3.5637e+01, -2.6354e+01, -3.7891e+01,\n",
        "         -2.4741e+01, -4.7829e+01, -2.3842e-07, -2.6356e+01, -1.5207e+01],\n",
        "        [-9.5458e+00, -3.5981e+01, -1.3709e+01, -1.7225e+01, -1.4997e+01,\n",
        "         -5.8243e+00, -1.9398e+01, -3.7039e+00, -2.9768e+00, -8.1873e-02],\n",
        "        [-7.2865e+00, -3.2932e+01, -1.3329e+01, -2.0864e+01, -5.5323e+00,\n",
        "         -1.3102e+01, -9.0295e+00, -7.0493e+00, -6.0167e+00, -8.1035e-03],\n",
        "        [-2.6255e+01, -4.3552e+01, -2.2368e+01, -7.5697e+00, -3.0083e+01,\n",
        "         -1.3563e+01, -4.4995e+01, -7.2250e-04, -1.7981e+01, -8.4919e+00],\n",
        "        [-9.7875e-03, -3.2153e+01, -5.5459e+00, -1.1431e+01, -2.9505e+01,\n",
        "         -1.1012e+01, -5.1485e+00, -2.8245e+01, -1.3881e+01, -2.6763e+01],\n",
        "        [-2.3933e+01, -2.3567e+01, -1.0044e+01, -2.1143e+01, -1.8827e+01,\n",
        "         -1.8562e+01, -4.3391e-05, -3.4469e+01, -1.8896e+01, -2.4072e+01],\n",
        "        [-3.8861e-05, -3.1681e+01, -1.0394e+01, -1.4147e+01, -3.1779e+01,\n",
        "         -1.1865e+01, -1.4482e+01, -3.2602e+01, -1.7444e+01, -2.4478e+01],\n",
        "        [-2.3372e+01, -2.4634e+01, -1.6652e+01, -1.1921e+01, -2.2137e+01,\n",
        "         -1.9256e+01, -3.7981e+01, -7.0380e-04, -1.7150e+01, -7.2692e+00],\n",
        "        [-1.5563e+01, -9.0386e+00, -1.0068e+01, -1.7129e-04, -2.9670e+01,\n",
        "         -1.1570e+01, -1.5292e+01, -3.0373e+01, -1.4826e+01, -2.6433e+01],\n",
        "        [-1.9538e+01, -2.9891e+01, -1.5307e+01, -8.4044e+00, -2.2946e+01,\n",
        "         -1.1885e+01, -3.1576e+01, -2.4852e-04, -1.6383e+01, -1.0961e+01],\n",
        "        [-1.9770e+01, -2.2250e+01, -8.2689e+00, -2.7188e-04, -2.5059e+01,\n",
        "         -1.3713e+01, -2.0195e+01, -2.7329e+01, -1.1155e+01, -1.6372e+01],\n",
        "        [-2.0915e+01, -3.7150e+01, -2.1064e+01, -1.0836e+01, -2.6940e+01,\n",
        "         -1.0982e+01, -3.8572e+01, -1.3863e-04, -1.5462e+01, -9.1938e+00],\n",
        "        [-1.6137e+01, -2.4010e+01, -1.0900e+01, -1.2565e+01, -6.8245e+00,\n",
        "         -1.1538e+01, -1.1709e+01, -6.6174e+00, -7.4208e+00, -3.0671e-03],\n",
        "        [-2.1089e+01, -1.4409e+01, -1.2241e+01, -1.0172e+01, -2.2318e+01,\n",
        "         -2.0288e+01, -3.3997e+01, -5.0925e-04, -1.5699e+01, -7.6728e+00],\n",
        "        [-1.1876e+01, -2.5322e+01, -9.3677e+00, -1.7867e+01, -6.4037e-02,\n",
        "         -9.9334e+00, -2.8091e+00, -9.4335e+00, -8.2337e+00, -6.6585e+00],\n",
        "        [-9.5318e-03, -2.6574e+01, -4.6670e+00, -1.5221e+01, -3.3641e+01,\n",
        "         -1.4776e+01, -9.3750e+00, -2.9563e+01, -1.4157e+01, -2.9580e+01],\n",
        "        [-2.1562e+01, -4.6471e+01,  0.0000e+00, -1.7570e+01, -3.6054e+01,\n",
        "         -2.2534e+01, -2.3459e+01, -5.3665e+01, -2.2205e+01, -3.6872e+01],\n",
        "        [-2.4710e+01, -2.6004e+01, -9.8300e+00, -2.1279e+01, -1.7323e+01,\n",
        "         -1.4548e+01, -5.4239e-05, -3.0668e+01, -1.7915e+01, -2.9649e+01],\n",
        "        [-1.2537e+01, -1.4249e+01, -3.0761e+00, -5.2457e+00, -1.4939e+01,\n",
        "         -2.8728e+00, -1.1705e-01, -3.4176e+01, -5.9883e+00, -1.9514e+01],\n",
        "        [-1.2652e+01, -1.3600e+01, -1.0896e+01, -1.6288e+01, -1.7645e+01,\n",
        "         -1.8201e+01, -1.9167e-04, -2.4967e+01, -8.7187e+00, -1.2179e+01],\n",
        "        [-2.2980e+01, -1.8828e+01, -9.5143e+00, -7.8386e+00, -2.1787e+01,\n",
        "         -4.0389e+00, -1.8251e-02, -3.9919e+01, -1.7074e+01, -3.5595e+01],\n",
        "        [-1.0766e+01, -2.2028e+01, -1.2542e-03, -1.1604e+01, -1.7961e+01,\n",
        "         -1.5066e+01, -1.3769e+01, -8.5913e+00, -1.0748e+01, -6.8932e+00],\n",
        "        [-1.1886e+01, -1.7824e+01, -7.0373e+00, -9.2438e+00, -1.0341e+01,\n",
        "         -5.9859e+00, -1.3730e+01, -3.8416e+00, -5.5251e+00, -2.9402e-02],\n",
        "        [-5.3526e+00, -4.8621e+00, -3.5554e+00, -5.9616e+00, -1.3291e+01,\n",
        "         -6.6831e-02, -9.2850e+00, -2.2309e+01, -3.8663e+00, -1.7408e+01],\n",
        "        [-1.9876e+01, -3.3050e+01, -1.3249e+01, -3.1590e-05, -3.9242e+01,\n",
        "         -1.0423e+01, -2.5494e+01, -3.6688e+01, -1.8734e+01, -2.9529e+01],\n",
        "        [-1.4181e+01, -2.7830e+01, -1.5224e+01, -1.5096e+01, -1.0638e+01,\n",
        "         -1.4446e+01, -1.6906e+01, -4.8485e+00, -7.0627e+00, -8.7607e-03],\n",
        "        [-8.7853e+00, -3.3065e+01, -1.5759e+01, -3.7815e+01, -1.8659e+01,\n",
        "         -6.3646e+00, -1.5676e+01, -1.0267e+01, -6.6512e-03, -5.3560e+00],\n",
        "        [-2.1486e+01, -2.6670e+01, -1.5004e+01, -4.2915e-06, -3.6361e+01,\n",
        "         -1.2463e+01, -1.6038e+01, -5.0570e+01, -1.9351e+01, -3.7056e+01],\n",
        "        [-6.1544e+00, -2.3361e+01, -7.8878e+00, -1.7121e+01, -1.2842e-01,\n",
        "         -9.5413e+00, -6.3102e+00, -3.4306e+00, -3.9949e+00, -2.7280e+00],\n",
        "        [-7.5217e-04, -3.1550e+01, -9.5103e+00, -8.2656e+00, -2.4300e+01,\n",
        "         -7.7888e+00, -1.6632e+01, -2.8948e+01, -1.1993e+01, -1.6691e+01],\n",
        "        [-2.9123e+00, -1.5556e+01, -4.1357e+00, -6.8475e+00, -1.0096e+01,\n",
        "         -7.5418e-02, -9.8176e+00, -1.0657e+01, -6.7915e+00, -1.4787e+01],\n",
        "        [-1.6169e+01, -2.0677e+01, -9.0580e+00, -1.6433e+01, -1.2263e-01,\n",
        "         -1.1094e+01, -2.1622e+00, -1.2327e+01, -1.0737e+01, -8.6213e+00],\n",
        "        [-1.1121e+01, -2.3099e+01, -8.1272e+00, -1.1458e+01, -1.3395e+01,\n",
        "         -7.0787e+00, -1.1714e-03, -2.1081e+01, -1.2112e+01, -1.7497e+01],\n",
        "        [-1.8797e+01, -2.3780e+01, -7.5879e+00, -4.6328e-03, -2.4384e+01,\n",
        "         -1.0869e+01, -3.0954e+01, -1.3427e+01, -1.1640e+01, -5.5001e+00],\n",
        "        [-1.2584e+01, -7.8905e+00, -7.5281e+00, -7.2308e+00, -2.6012e-02,\n",
        "         -6.0239e+00, -6.4685e+00, -7.7636e+00, -4.3588e+00, -4.9840e+00],\n",
        "        [-1.6578e+01, -1.2562e+01, -6.0041e+00, -6.7711e+00, -9.1578e+00,\n",
        "         -1.0427e+01, -1.0338e+01, -1.8265e+01, -3.8580e-03, -9.6489e+00],\n",
        "        [-1.6090e-03, -2.6485e+01, -9.4029e+00, -8.8794e+00, -1.9130e+01,\n",
        "         -6.7776e+00, -8.9687e+00, -2.0317e+01, -9.1763e+00, -1.1033e+01],\n",
        "        [-5.5085e+00, -1.3316e+01, -6.7662e+00, -8.1429e+00, -1.1641e+01,\n",
        "         -4.4586e+00, -1.8216e-02, -2.1125e+01, -6.9424e+00, -1.3642e+01],\n",
        "        [-4.1359e+00, -2.0059e+01, -6.8932e+00, -1.2622e+01, -7.2384e-02,\n",
        "         -8.0617e+00, -5.9197e+00, -4.8055e+00, -5.6650e+00, -3.2657e+00],\n",
        "        [-1.9301e+01, -1.7099e+01, -9.2553e+00, -4.9593e+00, -1.3721e+01,\n",
        "         -8.7898e+00, -2.0972e+01, -5.4649e+00, -7.7380e-01, -6.4009e-01],\n",
        "        [-2.1290e+01, -2.0515e-03, -6.4418e+00, -8.6765e+00, -1.4431e+01,\n",
        "         -1.1418e+01, -1.0557e+01, -9.1833e+00, -9.1295e+00, -1.0216e+01],\n",
        "        [-2.4313e+01, -2.7297e+01, -1.1803e+01, -7.8678e-06, -2.8113e+01,\n",
        "         -1.5106e+01, -3.0054e+01, -3.2251e+01, -1.6148e+01, -2.3549e+01],\n",
        "        [-1.4399e+01, -1.7877e+01, -7.1552e+00, -1.3817e+01, -2.3891e-02,\n",
        "         -8.1724e+00, -3.9529e+00, -1.2569e+01, -6.1214e+00, -6.7732e+00]])\n"
      ],
      "metadata": {
        "id": "imMc0d1OU5OU"
      },
      "execution_count": 8,
      "outputs": []
    },
    {
      "cell_type": "code",
      "source": [
        "output.shape"
      ],
      "metadata": {
        "colab": {
          "base_uri": "https://localhost:8080/"
        },
        "id": "8jTAE3kIVQzE",
        "outputId": "42c5c79a-ab56-4f99-ab80-bf0cf934e40d"
      },
      "execution_count": 9,
      "outputs": [
        {
          "output_type": "execute_result",
          "data": {
            "text/plain": [
              "torch.Size([64, 10])"
            ]
          },
          "metadata": {},
          "execution_count": 9
        }
      ]
    },
    {
      "cell_type": "code",
      "source": [
        "#above is the output of one batch we see that it outputs 64 vectors of length 10\n",
        "# if we perform the argmax of this it gives us for each of those vector an the argmax sothat we get a vector of length 64 ---- result for the batch! prediction for each images in the batch \n",
        "output.argmax(1)"
      ],
      "metadata": {
        "colab": {
          "base_uri": "https://localhost:8080/"
        },
        "id": "XGNfZqgEVMF6",
        "outputId": "e29ded43-a516-49b8-b422-09594dd52376"
      },
      "execution_count": 10,
      "outputs": [
        {
          "output_type": "execute_result",
          "data": {
            "text/plain": [
              "tensor([4, 7, 8, 9, 0, 1, 2, 3, 4, 5, 6, 7, 8, 9, 0, 1, 2, 3, 4, 5, 6, 7, 9, 9,\n",
              "        7, 0, 6, 0, 7, 3, 7, 3, 7, 9, 7, 4, 0, 2, 6, 6, 6, 6, 2, 9, 5, 3, 9, 8,\n",
              "        3, 4, 0, 5, 4, 6, 3, 4, 8, 0, 6, 4, 9, 1, 3, 4])"
            ]
          },
          "metadata": {},
          "execution_count": 10
        }
      ]
    },
    {
      "cell_type": "code",
      "source": [
        "torch.max(output,1)[1]"
      ],
      "metadata": {
        "colab": {
          "base_uri": "https://localhost:8080/"
        },
        "id": "8sUqHHwIWTb7",
        "outputId": "e5270ae3-8cf0-4569-b72d-f6aee452cb2e"
      },
      "execution_count": 11,
      "outputs": [
        {
          "output_type": "execute_result",
          "data": {
            "text/plain": [
              "tensor([4, 7, 8, 9, 0, 1, 2, 3, 4, 5, 6, 7, 8, 9, 0, 1, 2, 3, 4, 5, 6, 7, 9, 9,\n",
              "        7, 0, 6, 0, 7, 3, 7, 3, 7, 9, 7, 4, 0, 2, 6, 6, 6, 6, 2, 9, 5, 3, 9, 8,\n",
              "        3, 4, 0, 5, 4, 6, 3, 4, 8, 0, 6, 4, 9, 1, 3, 4])"
            ]
          },
          "metadata": {},
          "execution_count": 11
        }
      ]
    },
    {
      "cell_type": "code",
      "source": [
        "def validate(net, dataloader,loss_fn = nn.NLLLoss()):\n",
        "  net.eval()\n",
        "  count,acc,loss=0,0,0\n",
        "  with torch.no_grad():\n",
        "    for features,labels in dataloader:\n",
        "      out=net(features)\n",
        "      loss+=loss_fn(out,labels)\n",
        "      pred=torch.max(out,1)[1] # or (_,pred = torch.max(out,1) or out.argmax(1)))\n",
        "      acc+=(pred==labels).sum()\n",
        "      count+=len(labels)\n",
        "    return loss.item()/count, acc.item()/count\n",
        "validate(net,test_loader)"
      ],
      "metadata": {
        "colab": {
          "base_uri": "https://localhost:8080/"
        },
        "id": "oEfSdV23S3MC",
        "outputId": "ca52ba64-99f9-416e-f268-0f7d5fe71095"
      },
      "execution_count": 12,
      "outputs": [
        {
          "output_type": "execute_result",
          "data": {
            "text/plain": [
              "(0.002941293716430664, 0.8937)"
            ]
          },
          "metadata": {},
          "execution_count": 12
        }
      ]
    },
    {
      "cell_type": "markdown",
      "source": [
        "##**Overfitting**\n",
        "\n",
        "Normally when training a neural network, we train the model for several epochs observing training and validation accuracy. In the beginning, both training and validation accuracy should increase, as the network picks up the patterns in the dataset. However, at some point it can happen that training accuracy increases while validation accuracy starts to decrease. That would be an indication of overfitting, that is model does well on your training dataset, but not on new data.\n",
        "\n",
        "Below is the training function that can be used to perform both training and validation. It prints the training and validation accuracy for each epoch, and also returns the history that can be used to plot the loss and accuracy on the graph.\n"
      ],
      "metadata": {
        "id": "QRnGrWnUXkWL"
      }
    },
    {
      "cell_type": "code",
      "source": [
        "from torch.nn.modules.loss import NLLLoss\n",
        "#training and validation in one function\n",
        "\n",
        "def train(net,train_loader,test_loader,epochs=5, lr=0.01,optimizer=None,loss_fn=NLLLoss()):\n",
        "  optimizer = optimizer or torch.optim.Adam(lr=lr,params=net.parameters())\n",
        "  res = {'train_accs':[],'train_losses':[],'val_accs':[],'val_losses':[] }\n",
        "  for e in range(epochs):\n",
        "    tl,ta = train_epoch(net,train_loader,optimizer=optimizer,lr=lr,loss_fn=loss_fn)\n",
        "    vl,va = validate(net,test_loader,loss_fn=loss_fn)\n",
        "    print(f'Epoch{e:2}, Train accuracy = {ta:.3f}, Train loss = {tl:.3f}, Validation accuracy = {va:.3f}, Validation loss = {vl:.3f}')\n",
        "    res['train_accs'].append(ta)\n",
        "    res['train_losses'].append(tl)\n",
        "    res['val_accs'].append(va)\n",
        "    res['val_losses'].append(vl)\n",
        "  return res"
      ],
      "metadata": {
        "id": "l_HYlJBKDgw3"
      },
      "execution_count": 13,
      "outputs": []
    },
    {
      "cell_type": "code",
      "source": [
        "#reinitialize the network to start from scratch\n",
        "\n",
        "net = nn.Sequential(\n",
        "    nn.Flatten(),\n",
        "    nn.Linear(784,10), #784 inputs, 10 outputs\n",
        "    nn.LogSoftmax()\n",
        ")\n",
        "\n",
        "\n",
        "hist = train(net,train_loader,test_loader,epochs=10)"
      ],
      "metadata": {
        "colab": {
          "base_uri": "https://localhost:8080/"
        },
        "id": "Uvrzvg5kLmlg",
        "outputId": "324c377e-7bc6-488e-a185-f963d63d1294"
      },
      "execution_count": 14,
      "outputs": [
        {
          "output_type": "stream",
          "name": "stdout",
          "text": [
            "Epoch 0, Train accuracy = 0.893, Train loss = 0.006, Validation accuracy = 0.893, Validation loss = 0.003\n",
            "Epoch 1, Train accuracy = 0.910, Train loss = 0.005, Validation accuracy = 0.899, Validation loss = 0.003\n",
            "Epoch 2, Train accuracy = 0.913, Train loss = 0.005, Validation accuracy = 0.899, Validation loss = 0.003\n",
            "Epoch 3, Train accuracy = 0.915, Train loss = 0.005, Validation accuracy = 0.898, Validation loss = 0.003\n",
            "Epoch 4, Train accuracy = 0.917, Train loss = 0.005, Validation accuracy = 0.897, Validation loss = 0.003\n",
            "Epoch 5, Train accuracy = 0.917, Train loss = 0.005, Validation accuracy = 0.895, Validation loss = 0.003\n",
            "Epoch 6, Train accuracy = 0.918, Train loss = 0.005, Validation accuracy = 0.893, Validation loss = 0.003\n",
            "Epoch 7, Train accuracy = 0.919, Train loss = 0.005, Validation accuracy = 0.892, Validation loss = 0.003\n",
            "Epoch 8, Train accuracy = 0.919, Train loss = 0.005, Validation accuracy = 0.891, Validation loss = 0.003\n",
            "Epoch 9, Train accuracy = 0.919, Train loss = 0.005, Validation accuracy = 0.890, Validation loss = 0.003\n"
          ]
        }
      ]
    },
    {
      "cell_type": "markdown",
      "source": [
        "This function logs messages with the accuracy on training and validation data from each epoch. It also returns this data as a dictionary (called history). We can then visualize this data to better understand our model training."
      ],
      "metadata": {
        "id": "HMkxRMgKOqDd"
      }
    },
    {
      "cell_type": "code",
      "source": [
        "plt.figure(figsize = (15,5))\n",
        "\n",
        "plt.subplot(121)\n",
        "plt.plot(hist['train_accs'], label='Training acc')\n",
        "plt.plot(hist['val_accs'], label='Validation acc')\n",
        "plt.legend()\n",
        "\n",
        "plt.subplot(122)\n",
        "plt.plot(hist['train_losses'], label='Training loss')\n",
        "plt.plot(hist['val_losses'], label='Validation loss')\n",
        "plt.legend()"
      ],
      "metadata": {
        "colab": {
          "base_uri": "https://localhost:8080/",
          "height": 338
        },
        "id": "3wj4-9WzOs2S",
        "outputId": "7c8b55e1-30df-418b-e192-83dac684050c"
      },
      "execution_count": 15,
      "outputs": [
        {
          "output_type": "execute_result",
          "data": {
            "text/plain": [
              "<matplotlib.legend.Legend at 0x7ff2d0904dc0>"
            ]
          },
          "metadata": {},
          "execution_count": 15
        },
        {
          "output_type": "display_data",
          "data": {
            "text/plain": [
              "<Figure size 1080x360 with 2 Axes>"
            ],
            "image/png": "[encoded data removed]"
          },
          "metadata": {
            "needs_background": "light"
          }
        }
      ]
    },
    {
      "cell_type": "markdown",
      "source": [
        "the diagram on the left shows the training accuracy increasing (which corresponds to the network learning to classify our training data better and better), while validation accuracy starts to fall. The diagram on the right show the training loss and validation loss, you can see the training loss decreasing (meaning its performing better) and the validation loss increasing (meaning its performing worse). These graphs would indicate the model is overfitted --- ***It is possible to take/save the model just befor the overfitting barrier?***"
      ],
      "metadata": {
        "id": "O9xhORDhSgYq"
      }
    },
    {
      "cell_type": "markdown",
      "source": [
        "####**Visualizing network weights**\n",
        "\n",
        "\n",
        "The Dense layer in our network is also calld linear, because it performs linear transformation of its input, which can be defined as $y=Wx+b$. Where W is the matrix of weights and b is tghe bias. Weights matrix W is in fact responsible for what out network can do,i.e for recognizing digits. It has size 784 X 10 --10 outputs for 1 input image.\n",
        "\n",
        "\n",
        "Lets visualize our weights of our neural network and see what they look like. When the network is more complex than just one layer it can be a difficult to visualize the results like this, because in complex network weights do not make much sense when visualized. However, in our case each of 10 dimensions of weight matrix W correspond to individual digits, and thus can be visualized to see how the digit recognition takes place.\n",
        "\n",
        "In the code below, we will \n",
        "first get the matrix W into weight_tensor variable. It can be obtained by \n",
        "\n",
        "*  calling the net.parameters() method (which returns both  \n",
        "W  and  b )\n",
        "*  Then calling next to get the first of two parameters.\n",
        "*  Then we will go over each dimension, reshape it to  28×28 size\n",
        "*  Plot. "
      ],
      "metadata": {
        "id": "Rx7YcQEtTNTa"
      }
    },
    {
      "cell_type": "code",
      "source": [
        "weight_tensor = next(net.parameters())\n",
        "fig,ax = plt.subplots(1,10,figsize=(15,4))\n",
        "for i,x in enumerate(weight_tensor):\n",
        "  ax[i].imshow(x.view(28,28).detach())"
      ],
      "metadata": {
        "colab": {
          "base_uri": "https://localhost:8080/",
          "height": 122
        },
        "id": "LR081dubTKUJ",
        "outputId": "9019ca18-278d-4115-debb-6750d8ec75b9"
      },
      "execution_count": 17,
      "outputs": [
        {
          "output_type": "display_data",
          "data": {
            "text/plain": [
              "<Figure size 1080x288 with 10 Axes>"
            ],
            "image/png": "[encoded data removed]"
          },
          "metadata": {
            "needs_background": "light"
          }
        }
      ]
    },
    {
      "cell_type": "markdown",
      "source": [
        " #### **Multi-layered perceptron**\n",
        "\n",
        "To further increase accuracy, we may want to include one or more hidden layers.\n",
        "An important thing to note here is the non-linear activation function between layers, called ReLU. It is important to introduce those non-linear activation functions, because they are one of the reasons neural networks achieve high expressive power.Indeed, it can be demonstrated mathematically that if a network consisted just of a series of linear layers, it would essentially be equivalent to one linear layer.Thus inserting non-linear functions in between layers is important!\n",
        "\n",
        "ReLU is a simplest activation function, which is defined as follows:\n",
        "$$\n",
        "\\mathrm{ReLU}(x) = \\begin{cases} 0 & x<0 \\\\ x & x\\ge0 \\end{cases}\n",
        "$$\n",
        "\n",
        "Other activation functions used in deep learning are sigmoid and tanh, but ReLU is most often used in computer vision, because it can be quickly computed, and using other functions does not bring any significant benefits."
      ],
      "metadata": {
        "id": "7OB0LVCGVexW"
      }
    },
    {
      "cell_type": "markdown",
      "source": [
        "######**Redefinition of the the network**"
      ],
      "metadata": {
        "id": "eN3MIrhHX002"
      }
    },
    {
      "cell_type": "code",
      "source": [
        "net = nn.Sequential(\n",
        "    nn.Flatten(),\n",
        "    nn.Linear(784,100), #784 inputs, 100 outputs\n",
        "    nn.ReLU(), #Activation Function\n",
        "    nn.Linear(100,10), # 100 inputs, 10 outputs\n",
        "    nn.LogSoftmax(dim=0)\n",
        ")\n",
        "\n",
        "summary(net,input_size=(1,28,28))"
      ],
      "metadata": {
        "colab": {
          "base_uri": "https://localhost:8080/"
        },
        "id": "XSB5y-4gXzhu",
        "outputId": "abab9e4d-b918-413d-883d-3e7bf945be24"
      },
      "execution_count": 18,
      "outputs": [
        {
          "output_type": "execute_result",
          "data": {
            "text/plain": [
              "==========================================================================================\n",
              "Layer (type:depth-idx)                   Output Shape              Param #\n",
              "==========================================================================================\n",
              "Sequential                               [1, 10]                   --\n",
              "├─Flatten: 1-1                           [1, 784]                  --\n",
              "├─Linear: 1-2                            [1, 100]                  78,500\n",
              "├─ReLU: 1-3                              [1, 100]                  --\n",
              "├─Linear: 1-4                            [1, 10]                   1,010\n",
              "├─LogSoftmax: 1-5                        [1, 10]                   --\n",
              "==========================================================================================\n",
              "Total params: 79,510\n",
              "Trainable params: 79,510\n",
              "Non-trainable params: 0\n",
              "Total mult-adds (M): 0.08\n",
              "==========================================================================================\n",
              "Input size (MB): 0.00\n",
              "Forward/backward pass size (MB): 0.00\n",
              "Params size (MB): 0.32\n",
              "Estimated Total Size (MB): 0.32\n",
              "=========================================================================================="
            ]
          },
          "metadata": {},
          "execution_count": 18
        }
      ]
    },
    {
      "cell_type": "markdown",
      "source": [
        "Here we use summary() function to display a detailed layer-by-layer structure of a network with some other useful information. In particular, we can see:\n",
        "\n",
        "Layer-by-layer structure of a network, and output size of each layer\n",
        "Number of parameters of each layer, as well as for the whole network. The more parameters the network has, the more data samples it needs to be trained on without overfitting.\n",
        "\n",
        "\n",
        "Let's see how the number of parameters is calculated.\n",
        "\n",
        "*  First linear layer has 784 inputs and 100 outputs. The layer is defined by  \n",
        "W1x+b1 , where W1 has size 784×100 , and  b1  - 100 .Thus total number of parameters for this layer is 784×100+100=78500\n",
        "* Similarly, number of parameters for the second layer is 100×10+10=1010\n",
        "* Activation functions, as well as Flatten layers do not have parameters.\n",
        "\n",
        "There is another syntax that we can use to define the same network by using classes:"
      ],
      "metadata": {
        "id": "iovZ7KlKY6Rm"
      }
    },
    {
      "cell_type": "code",
      "source": [
        "from torch.nn.functional import relu, log_softmax\n",
        "\n",
        "class MyNet(nn.Module):\n",
        "  def __init__ (self):\n",
        "    super(MyNet, self).__init__()\n",
        "    self.flatten = nn.Flatten()\n",
        "    self.hidden = nn.Linear(784,100)\n",
        "    self.out = nn.Linear(100,10)\n",
        "    #log_softmax and relu are not defined as parameters of the class\n",
        "  def forward(self,x):\n",
        "    x=self.flatten(x)\n",
        "    x=self.hidden(x)\n",
        "    x=relu(x)\n",
        "    x=self.out(x)\n",
        "    x=log_softmax(x,dim=0)\n",
        "    return x\n",
        "net= MyNet()\n",
        "summary(net,input_size=(1,28,28),device='cpu')\n"
      ],
      "metadata": {
        "colab": {
          "base_uri": "https://localhost:8080/"
        },
        "id": "cNEionOqZ7jy",
        "outputId": "e665f12e-f69e-484f-acda-ec99942597d0"
      },
      "execution_count": 20,
      "outputs": [
        {
          "output_type": "execute_result",
          "data": {
            "text/plain": [
              "==========================================================================================\n",
              "Layer (type:depth-idx)                   Output Shape              Param #\n",
              "==========================================================================================\n",
              "MyNet                                    [1, 10]                   --\n",
              "├─Flatten: 1-1                           [1, 784]                  --\n",
              "├─Linear: 1-2                            [1, 100]                  78,500\n",
              "├─Linear: 1-3                            [1, 10]                   1,010\n",
              "==========================================================================================\n",
              "Total params: 79,510\n",
              "Trainable params: 79,510\n",
              "Non-trainable params: 0\n",
              "Total mult-adds (M): 0.08\n",
              "==========================================================================================\n",
              "Input size (MB): 0.00\n",
              "Forward/backward pass size (MB): 0.00\n",
              "Params size (MB): 0.32\n",
              "Estimated Total Size (MB): 0.32\n",
              "=========================================================================================="
            ]
          },
          "metadata": {},
          "execution_count": 20
        }
      ]
    },
    {
      "cell_type": "markdown",
      "source": [
        "Class definition consists of two parts:\n",
        "\n",
        "* In the **constructor** (__init__) we define all layers that our network will have. ****Those layers are stored as internal variables of the class***, and PyTorch will automatically know that parameters of those layers should be optimized when training. Internally, PyTorch uses parameters() method to look for all trainable parameters, and nn.Module will automatically collect all trainable parameters from all sub-modules.\n",
        "* We define the **forward method** that does the forward pass computation of our neural network. In our case, we start with a parameter tensor x, and explicitly pass it through all the layers and activation functions, starting from flatten, up to final linear layer out. **When we apply our neural network to some input data x by writing out = net(x), the forward method is called**.\n",
        "\n",
        "\n",
        "In fact, Sequential networks are represented in a very similar manner, they just store a list of layers and apply them sequentially during the forward pass. Here we have a chance to represent this process more explicitly, which eventually gives us more flexibility. ***That is one of the reasons that using classes for neural network definition is a recommended and preferred practice***."
      ],
      "metadata": {
        "id": "GlIkc6ODcuQv"
      }
    },
    {
      "cell_type": "code",
      "source": [
        "#trying with the training with the new class definition\n",
        "\n",
        "hist = train(net,train_loader,test_loader,epochs=5)\n",
        "# from pytorchcv plot_results(hist)"
      ],
      "metadata": {
        "colab": {
          "base_uri": "https://localhost:8080/"
        },
        "id": "oH3OuYVbdrLT",
        "outputId": "e2e2f0c1-d465-4b52-c6a2-2a09c73a4ba6"
      },
      "execution_count": 25,
      "outputs": [
        {
          "output_type": "stream",
          "name": "stdout",
          "text": [
            "Epoch 0, Train accuracy = 0.961, Train loss = 0.033, Validation accuracy = 0.950, Validation loss = 0.022\n",
            "Epoch 1, Train accuracy = 0.962, Train loss = 0.033, Validation accuracy = 0.955, Validation loss = 0.022\n",
            "Epoch 2, Train accuracy = 0.963, Train loss = 0.033, Validation accuracy = 0.956, Validation loss = 0.022\n",
            "Epoch 3, Train accuracy = 0.965, Train loss = 0.032, Validation accuracy = 0.950, Validation loss = 0.022\n",
            "Epoch 4, Train accuracy = 0.965, Train loss = 0.032, Validation accuracy = 0.957, Validation loss = 0.022\n"
          ]
        }
      ]
    },
    {
      "cell_type": "code",
      "source": [
        "plt.figure(figsize = (15,5))\n",
        "\n",
        "plt.subplot(121)\n",
        "plt.plot(hist['train_accs'], label='Training acc')\n",
        "plt.plot(hist['val_accs'], label='Validation acc')\n",
        "plt.legend()\n",
        "\n",
        "plt.subplot(122)\n",
        "plt.plot(hist['train_losses'], label='Training loss')\n",
        "plt.plot(hist['val_losses'], label='Validation loss')\n",
        "plt.legend()"
      ],
      "metadata": {
        "colab": {
          "base_uri": "https://localhost:8080/",
          "height": 338
        },
        "id": "enWx21yAg1XA",
        "outputId": "caeddb0e-44fb-451d-f6ab-a5b57d7c12d2"
      },
      "execution_count": 26,
      "outputs": [
        {
          "output_type": "execute_result",
          "data": {
            "text/plain": [
              "<matplotlib.legend.Legend at 0x7ff2be49ce50>"
            ]
          },
          "metadata": {},
          "execution_count": 26
        },
        {
          "output_type": "display_data",
          "data": {
            "text/plain": [
              "<Figure size 1080x360 with 2 Axes>"
            ],
            "image/png": "[encoded data removed]"
          },
          "metadata": {
            "needs_background": "light"
          }
        }
      ]
    },
    {
      "cell_type": "markdown",
      "source": [
        "##Takeaway\n",
        "\n",
        "Training a neural network in PyTorch can be programmed with a training loop. It may seem like a complicated process, but in real life we need to write it once, and we can then re-use this training code later without changing it.\n",
        "\n",
        "We can see that a single-layer and multi-layer dense neural networks show relatively good performance, but if we try to apply them to real-world images, the accuracy will not be too high. In the next unit, we will introduce the concept of **convolutions**, which allow us to get much better performance for image recognition.  "
      ],
      "metadata": {
        "id": "DyN53ttUgSBS"
      }
    }
  ]
}