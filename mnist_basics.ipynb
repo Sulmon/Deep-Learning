{
  "nbformat": 4,
  "nbformat_minor": 0,
  "metadata": {
    "colab": {
      "name": "Untitled0.ipynb",
      "provenance": [],
      "collapsed_sections": []
    },
    "kernelspec": {
      "name": "python3",
      "display_name": "Python 3"
    },
    "language_info": {
      "name": "python"
    },
    "accelerator": "GPU",
    "gpuClass": "standard"
  },
  "cells": [
    {
      "cell_type": "code",
      "source": [
        "!pip install fastbook"
      ],
      "metadata": {
        "colab": {
          "base_uri": "https://localhost:8080/"
        },
        "id": "9KA4OS0BbCWW",
        "outputId": "abbb6d22-a683-404b-9d5d-f0803ca15948"
      },
      "execution_count": 125,
      "outputs": [
        {
          "output_type": "stream",
          "name": "stdout",
          "text": [
            "Looking in indexes: https://pypi.org/simple, https://us-python.pkg.dev/colab-wheels/public/simple/\n",
            "Requirement already satisfied: fastbook in /usr/local/lib/python3.7/dist-packages (0.0.26)\n",
            "Requirement already satisfied: packaging in /usr/local/lib/python3.7/dist-packages (from fastbook) (21.3)\n",
            "Requirement already satisfied: pandas in /usr/local/lib/python3.7/dist-packages (from fastbook) (1.3.5)\n",
            "Requirement already satisfied: fastai>=2.6 in /usr/local/lib/python3.7/dist-packages (from fastbook) (2.7.7)\n",
            "Requirement already satisfied: graphviz in /usr/local/lib/python3.7/dist-packages (from fastbook) (0.10.1)\n",
            "Requirement already satisfied: pip in /usr/local/lib/python3.7/dist-packages (from fastbook) (21.1.3)\n",
            "Requirement already satisfied: datasets in /usr/local/lib/python3.7/dist-packages (from fastbook) (2.4.0)\n",
            "Requirement already satisfied: requests in /usr/local/lib/python3.7/dist-packages (from fastbook) (2.23.0)\n",
            "Requirement already satisfied: transformers in /usr/local/lib/python3.7/dist-packages (from fastbook) (4.21.1)\n",
            "Requirement already satisfied: sentencepiece in /usr/local/lib/python3.7/dist-packages (from fastbook) (0.1.97)\n",
            "Requirement already satisfied: torchvision>=0.8.2 in /usr/local/lib/python3.7/dist-packages (from fastai>=2.6->fastbook) (0.13.0+cu113)\n",
            "Requirement already satisfied: matplotlib in /usr/local/lib/python3.7/dist-packages (from fastai>=2.6->fastbook) (3.2.2)\n",
            "Requirement already satisfied: pyyaml in /usr/local/lib/python3.7/dist-packages (from fastai>=2.6->fastbook) (6.0)\n",
            "Requirement already satisfied: scipy in /usr/local/lib/python3.7/dist-packages (from fastai>=2.6->fastbook) (1.7.3)\n",
            "Requirement already satisfied: scikit-learn in /usr/local/lib/python3.7/dist-packages (from fastai>=2.6->fastbook) (1.0.2)\n",
            "Requirement already satisfied: fastcore<1.6,>=1.4.5 in /usr/local/lib/python3.7/dist-packages (from fastai>=2.6->fastbook) (1.5.13)\n",
            "Requirement already satisfied: fastprogress>=0.2.4 in /usr/local/lib/python3.7/dist-packages (from fastai>=2.6->fastbook) (1.0.3)\n",
            "Requirement already satisfied: fastdownload<2,>=0.0.5 in /usr/local/lib/python3.7/dist-packages (from fastai>=2.6->fastbook) (0.0.7)\n",
            "Requirement already satisfied: pillow>6.0.0 in /usr/local/lib/python3.7/dist-packages (from fastai>=2.6->fastbook) (7.1.2)\n",
            "Requirement already satisfied: spacy<4 in /usr/local/lib/python3.7/dist-packages (from fastai>=2.6->fastbook) (3.4.1)\n",
            "Requirement already satisfied: torch<1.13,>=1.7 in /usr/local/lib/python3.7/dist-packages (from fastai>=2.6->fastbook) (1.12.0+cu113)\n",
            "Requirement already satisfied: catalogue<2.1.0,>=2.0.6 in /usr/local/lib/python3.7/dist-packages (from spacy<4->fastai>=2.6->fastbook) (2.0.8)\n",
            "Requirement already satisfied: cymem<2.1.0,>=2.0.2 in /usr/local/lib/python3.7/dist-packages (from spacy<4->fastai>=2.6->fastbook) (2.0.6)\n",
            "Requirement already satisfied: tqdm<5.0.0,>=4.38.0 in /usr/local/lib/python3.7/dist-packages (from spacy<4->fastai>=2.6->fastbook) (4.64.0)\n",
            "Requirement already satisfied: pathy>=0.3.5 in /usr/local/lib/python3.7/dist-packages (from spacy<4->fastai>=2.6->fastbook) (0.6.2)\n",
            "Requirement already satisfied: jinja2 in /usr/local/lib/python3.7/dist-packages (from spacy<4->fastai>=2.6->fastbook) (2.11.3)\n",
            "Requirement already satisfied: typer<0.5.0,>=0.3.0 in /usr/local/lib/python3.7/dist-packages (from spacy<4->fastai>=2.6->fastbook) (0.4.2)\n",
            "Requirement already satisfied: spacy-loggers<2.0.0,>=1.0.0 in /usr/local/lib/python3.7/dist-packages (from spacy<4->fastai>=2.6->fastbook) (1.0.3)\n",
            "Requirement already satisfied: murmurhash<1.1.0,>=0.28.0 in /usr/local/lib/python3.7/dist-packages (from spacy<4->fastai>=2.6->fastbook) (1.0.7)\n",
            "Requirement already satisfied: preshed<3.1.0,>=3.0.2 in /usr/local/lib/python3.7/dist-packages (from spacy<4->fastai>=2.6->fastbook) (3.0.6)\n",
            "Requirement already satisfied: srsly<3.0.0,>=2.4.3 in /usr/local/lib/python3.7/dist-packages (from spacy<4->fastai>=2.6->fastbook) (2.4.4)\n",
            "Requirement already satisfied: setuptools in /usr/local/lib/python3.7/dist-packages (from spacy<4->fastai>=2.6->fastbook) (57.4.0)\n",
            "Requirement already satisfied: thinc<8.2.0,>=8.1.0 in /usr/local/lib/python3.7/dist-packages (from spacy<4->fastai>=2.6->fastbook) (8.1.0)\n",
            "Requirement already satisfied: typing-extensions<4.2.0,>=3.7.4 in /usr/local/lib/python3.7/dist-packages (from spacy<4->fastai>=2.6->fastbook) (4.1.1)\n",
            "Requirement already satisfied: spacy-legacy<3.1.0,>=3.0.9 in /usr/local/lib/python3.7/dist-packages (from spacy<4->fastai>=2.6->fastbook) (3.0.9)\n",
            "Requirement already satisfied: wasabi<1.1.0,>=0.9.1 in /usr/local/lib/python3.7/dist-packages (from spacy<4->fastai>=2.6->fastbook) (0.10.1)\n",
            "Requirement already satisfied: numpy>=1.15.0 in /usr/local/lib/python3.7/dist-packages (from spacy<4->fastai>=2.6->fastbook) (1.21.6)\n",
            "Requirement already satisfied: langcodes<4.0.0,>=3.2.0 in /usr/local/lib/python3.7/dist-packages (from spacy<4->fastai>=2.6->fastbook) (3.3.0)\n",
            "Requirement already satisfied: pydantic!=1.8,!=1.8.1,<1.10.0,>=1.7.4 in /usr/local/lib/python3.7/dist-packages (from spacy<4->fastai>=2.6->fastbook) (1.9.1)\n",
            "Requirement already satisfied: zipp>=0.5 in /usr/local/lib/python3.7/dist-packages (from catalogue<2.1.0,>=2.0.6->spacy<4->fastai>=2.6->fastbook) (3.8.1)\n",
            "Requirement already satisfied: pyparsing!=3.0.5,>=2.0.2 in /usr/local/lib/python3.7/dist-packages (from packaging->fastbook) (3.0.9)\n",
            "Requirement already satisfied: smart-open<6.0.0,>=5.2.1 in /usr/local/lib/python3.7/dist-packages (from pathy>=0.3.5->spacy<4->fastai>=2.6->fastbook) (5.2.1)\n",
            "Requirement already satisfied: certifi>=2017.4.17 in /usr/local/lib/python3.7/dist-packages (from requests->fastbook) (2022.6.15)\n",
            "Requirement already satisfied: chardet<4,>=3.0.2 in /usr/local/lib/python3.7/dist-packages (from requests->fastbook) (3.0.4)\n",
            "Requirement already satisfied: urllib3!=1.25.0,!=1.25.1,<1.26,>=1.21.1 in /usr/local/lib/python3.7/dist-packages (from requests->fastbook) (1.25.11)\n",
            "Requirement already satisfied: idna<3,>=2.5 in /usr/local/lib/python3.7/dist-packages (from requests->fastbook) (2.10)\n",
            "Requirement already satisfied: blis<0.8.0,>=0.7.8 in /usr/local/lib/python3.7/dist-packages (from thinc<8.2.0,>=8.1.0->spacy<4->fastai>=2.6->fastbook) (0.7.8)\n",
            "Requirement already satisfied: click<9.0.0,>=7.1.1 in /usr/local/lib/python3.7/dist-packages (from typer<0.5.0,>=0.3.0->spacy<4->fastai>=2.6->fastbook) (7.1.2)\n",
            "Requirement already satisfied: responses<0.19 in /usr/local/lib/python3.7/dist-packages (from datasets->fastbook) (0.18.0)\n",
            "Requirement already satisfied: aiohttp in /usr/local/lib/python3.7/dist-packages (from datasets->fastbook) (3.8.1)\n",
            "Requirement already satisfied: multiprocess in /usr/local/lib/python3.7/dist-packages (from datasets->fastbook) (0.70.13)\n",
            "Requirement already satisfied: fsspec[http]>=2021.11.1 in /usr/local/lib/python3.7/dist-packages (from datasets->fastbook) (2022.7.1)\n",
            "Requirement already satisfied: xxhash in /usr/local/lib/python3.7/dist-packages (from datasets->fastbook) (3.0.0)\n",
            "Requirement already satisfied: dill<0.3.6 in /usr/local/lib/python3.7/dist-packages (from datasets->fastbook) (0.3.5.1)\n",
            "Requirement already satisfied: huggingface-hub<1.0.0,>=0.1.0 in /usr/local/lib/python3.7/dist-packages (from datasets->fastbook) (0.8.1)\n",
            "Requirement already satisfied: importlib-metadata in /usr/local/lib/python3.7/dist-packages (from datasets->fastbook) (4.12.0)\n",
            "Requirement already satisfied: pyarrow>=6.0.0 in /usr/local/lib/python3.7/dist-packages (from datasets->fastbook) (6.0.1)\n",
            "Requirement already satisfied: filelock in /usr/local/lib/python3.7/dist-packages (from huggingface-hub<1.0.0,>=0.1.0->datasets->fastbook) (3.7.1)\n",
            "Requirement already satisfied: async-timeout<5.0,>=4.0.0a3 in /usr/local/lib/python3.7/dist-packages (from aiohttp->datasets->fastbook) (4.0.2)\n",
            "Requirement already satisfied: multidict<7.0,>=4.5 in /usr/local/lib/python3.7/dist-packages (from aiohttp->datasets->fastbook) (6.0.2)\n",
            "Requirement already satisfied: aiosignal>=1.1.2 in /usr/local/lib/python3.7/dist-packages (from aiohttp->datasets->fastbook) (1.2.0)\n",
            "Requirement already satisfied: charset-normalizer<3.0,>=2.0 in /usr/local/lib/python3.7/dist-packages (from aiohttp->datasets->fastbook) (2.1.0)\n",
            "Requirement already satisfied: frozenlist>=1.1.1 in /usr/local/lib/python3.7/dist-packages (from aiohttp->datasets->fastbook) (1.3.0)\n",
            "Requirement already satisfied: yarl<2.0,>=1.0 in /usr/local/lib/python3.7/dist-packages (from aiohttp->datasets->fastbook) (1.8.1)\n",
            "Requirement already satisfied: attrs>=17.3.0 in /usr/local/lib/python3.7/dist-packages (from aiohttp->datasets->fastbook) (22.1.0)\n",
            "Requirement already satisfied: asynctest==0.13.0 in /usr/local/lib/python3.7/dist-packages (from aiohttp->datasets->fastbook) (0.13.0)\n",
            "Requirement already satisfied: MarkupSafe>=0.23 in /usr/local/lib/python3.7/dist-packages (from jinja2->spacy<4->fastai>=2.6->fastbook) (2.0.1)\n",
            "Requirement already satisfied: python-dateutil>=2.1 in /usr/local/lib/python3.7/dist-packages (from matplotlib->fastai>=2.6->fastbook) (2.8.2)\n",
            "Requirement already satisfied: kiwisolver>=1.0.1 in /usr/local/lib/python3.7/dist-packages (from matplotlib->fastai>=2.6->fastbook) (1.4.4)\n",
            "Requirement already satisfied: cycler>=0.10 in /usr/local/lib/python3.7/dist-packages (from matplotlib->fastai>=2.6->fastbook) (0.11.0)\n",
            "Requirement already satisfied: six>=1.5 in /usr/local/lib/python3.7/dist-packages (from python-dateutil>=2.1->matplotlib->fastai>=2.6->fastbook) (1.15.0)\n",
            "Requirement already satisfied: pytz>=2017.3 in /usr/local/lib/python3.7/dist-packages (from pandas->fastbook) (2022.1)\n",
            "Requirement already satisfied: threadpoolctl>=2.0.0 in /usr/local/lib/python3.7/dist-packages (from scikit-learn->fastai>=2.6->fastbook) (3.1.0)\n",
            "Requirement already satisfied: joblib>=0.11 in /usr/local/lib/python3.7/dist-packages (from scikit-learn->fastai>=2.6->fastbook) (1.1.0)\n",
            "Requirement already satisfied: tokenizers!=0.11.3,<0.13,>=0.11.1 in /usr/local/lib/python3.7/dist-packages (from transformers->fastbook) (0.12.1)\n",
            "Requirement already satisfied: regex!=2019.12.17 in /usr/local/lib/python3.7/dist-packages (from transformers->fastbook) (2022.6.2)\n"
          ]
        }
      ]
    },
    {
      "cell_type": "code",
      "execution_count": 126,
      "metadata": {
        "id": "eN6vXLGna05F"
      },
      "outputs": [],
      "source": [
        "import fastbook\n",
        "fastbook.setup_book()"
      ]
    },
    {
      "cell_type": "code",
      "source": [
        "from fastai.vision.all import *"
      ],
      "metadata": {
        "id": "NKosGxWfboz2"
      },
      "execution_count": 127,
      "outputs": []
    },
    {
      "cell_type": "code",
      "source": [
        "#mporting  necessary libraries\n",
        "import random"
      ],
      "metadata": {
        "id": "96ysHOVsXDWG"
      },
      "execution_count": 128,
      "outputs": []
    },
    {
      "cell_type": "code",
      "source": [
        "#untaring(getting the path to a specific dataset)--- downloads directly from the net and untars it into a folder\n",
        "#S3  = 'https://s3.amazonaws.com/fast-ai-', URL = f'{S3}sample/',  MNIST_SAMPLE = f'{URL}mnist_sample.tgz'\n",
        "#so URLs.MNIST_SAMPLE= 'https://s3.amazonaws.com/fast-ai-sample/mnist_sample.tgz'\n",
        "path = untar_data(URLs.MNIST_SAMPLE)"
      ],
      "metadata": {
        "id": "k1h6pEEAgIV8"
      },
      "execution_count": 129,
      "outputs": []
    },
    {
      "cell_type": "code",
      "source": [
        "#this means the files have been downloaded in the current directry under different subdirectories\n",
        "path"
      ],
      "metadata": {
        "colab": {
          "base_uri": "https://localhost:8080/"
        },
        "id": "5LCz9pVzsdWO",
        "outputId": "c0aed42a-f751-4d2f-8d98-83023094e75a"
      },
      "execution_count": 130,
      "outputs": [
        {
          "output_type": "execute_result",
          "data": {
            "text/plain": [
              "Path('.')"
            ]
          },
          "metadata": {},
          "execution_count": 130
        }
      ]
    },
    {
      "cell_type": "code",
      "source": [
        "#DOnt know what this does\n",
        "#this renders Path('/root/.fastai/data/mnist_sample') as the current directory '.' or base path\n",
        "#and make  the representation easier\n",
        "Path.BASE_PATH= path"
      ],
      "metadata": {
        "id": "8dJ-p_rfnBkG"
      },
      "execution_count": 131,
      "outputs": []
    },
    {
      "cell_type": "code",
      "source": [
        "#subdirectories contained in the actual path\n",
        "path.ls()"
      ],
      "metadata": {
        "colab": {
          "base_uri": "https://localhost:8080/"
        },
        "id": "_UgtKDaKo1wO",
        "outputId": "4b1503a9-09c0-4ea2-bfad-82a8ba1acd4d"
      },
      "execution_count": 132,
      "outputs": [
        {
          "output_type": "execute_result",
          "data": {
            "text/plain": [
              "(#3) [Path('train'),Path('labels.csv'),Path('valid')]"
            ]
          },
          "metadata": {},
          "execution_count": 132
        }
      ]
    },
    {
      "cell_type": "code",
      "source": [
        "#now we can have a look at each directory\n",
        "(path/'labels.csv').is_file()"
      ],
      "metadata": {
        "colab": {
          "base_uri": "https://localhost:8080/"
        },
        "id": "jAhgYlIfsqkT",
        "outputId": "26032649-6170-4c5f-e6dd-b2b207ce6b1a"
      },
      "execution_count": 133,
      "outputs": [
        {
          "output_type": "execute_result",
          "data": {
            "text/plain": [
              "True"
            ]
          },
          "metadata": {},
          "execution_count": 133
        }
      ]
    },
    {
      "cell_type": "code",
      "source": [
        "(path/'train').ls()"
      ],
      "metadata": {
        "colab": {
          "base_uri": "https://localhost:8080/"
        },
        "id": "3qH9eU1_s3oq",
        "outputId": "6b55bac3-df51-40b9-efd1-ed43cc99e401"
      },
      "execution_count": 134,
      "outputs": [
        {
          "output_type": "execute_result",
          "data": {
            "text/plain": [
              "(#2) [Path('train/7'),Path('train/3')]"
            ]
          },
          "metadata": {},
          "execution_count": 134
        }
      ]
    },
    {
      "cell_type": "code",
      "source": [
        "(path/'valid').ls()"
      ],
      "metadata": {
        "colab": {
          "base_uri": "https://localhost:8080/"
        },
        "id": "8XTgjAaqs54l",
        "outputId": "e343dcdd-2d44-4ba2-f6b6-0a7feef8831a"
      },
      "execution_count": 135,
      "outputs": [
        {
          "output_type": "execute_result",
          "data": {
            "text/plain": [
              "(#2) [Path('valid/7'),Path('valid/3')]"
            ]
          },
          "metadata": {},
          "execution_count": 135
        }
      ]
    },
    {
      "cell_type": "code",
      "source": [
        "#we can see tha the train directory has 2 sub_folders one for 3s and one for 7s\n",
        "# now we are going to put all the content of the 3s into one list and do the same for 7s\n",
        "threes = (path/'train'/'3').ls().sorted()\n",
        "sevens =  (path/'train'/'7').ls().sorted()"
      ],
      "metadata": {
        "id": "2wcldyOrtFYn"
      },
      "execution_count": 136,
      "outputs": []
    },
    {
      "cell_type": "code",
      "source": [
        "threes"
      ],
      "metadata": {
        "colab": {
          "base_uri": "https://localhost:8080/"
        },
        "id": "gFSuVIujt3M6",
        "outputId": "cab13add-540b-49a4-c05a-68dd00793464"
      },
      "execution_count": 137,
      "outputs": [
        {
          "output_type": "execute_result",
          "data": {
            "text/plain": [
              "(#6131) [Path('train/3/10.png'),Path('train/3/10000.png'),Path('train/3/10011.png'),Path('train/3/10031.png'),Path('train/3/10034.png'),Path('train/3/10042.png'),Path('train/3/10052.png'),Path('train/3/1007.png'),Path('train/3/10074.png'),Path('train/3/10091.png')...]"
            ]
          },
          "metadata": {},
          "execution_count": 137
        }
      ]
    },
    {
      "cell_type": "code",
      "source": [
        "sevens"
      ],
      "metadata": {
        "colab": {
          "base_uri": "https://localhost:8080/"
        },
        "id": "_NzUhZJzt7Aa",
        "outputId": "cc27f975-fb5a-4f3c-9dbc-687d442541f1"
      },
      "execution_count": 138,
      "outputs": [
        {
          "output_type": "execute_result",
          "data": {
            "text/plain": [
              "(#6265) [Path('train/7/10002.png'),Path('train/7/1001.png'),Path('train/7/10014.png'),Path('train/7/10019.png'),Path('train/7/10039.png'),Path('train/7/10046.png'),Path('train/7/10050.png'),Path('train/7/10063.png'),Path('train/7/10077.png'),Path('train/7/10086.png')...]"
            ]
          },
          "metadata": {},
          "execution_count": 138
        }
      ]
    },
    {
      "cell_type": "markdown",
      "source": [
        "so there are are 6131 training images for 3s and 6265 training images for 7s"
      ],
      "metadata": {
        "id": "OT06hp_At8hq"
      }
    },
    {
      "cell_type": "code",
      "source": [
        "#le'S Check how they look\n",
        "im_10_png = Image.open(threes[1])\n",
        "im_10_png"
      ],
      "metadata": {
        "colab": {
          "base_uri": "https://localhost:8080/",
          "height": 45
        },
        "id": "FmKI8EkVuHcs",
        "outputId": "c375353a-754c-481d-af7d-4f208c97773c"
      },
      "execution_count": 139,
      "outputs": [
        {
          "output_type": "execute_result",
          "data": {
            "text/plain": [
              "<PIL.PngImagePlugin.PngImageFile image mode=L size=28x28 at 0x7FAAA6D80910>"
            ],
            "image/png": "[encoded data removed]"
          },
          "metadata": {},
          "execution_count": 139
        }
      ]
    },
    {
      "cell_type": "code",
      "source": [
        "im_1000_png = Image.open(threes[1])\n",
        "im_1000_png"
      ],
      "metadata": {
        "colab": {
          "base_uri": "https://localhost:8080/",
          "height": 45
        },
        "id": "NsHa0PGUvUka",
        "outputId": "f89c7981-4649-4d14-aa15-d1c9d3c31584"
      },
      "execution_count": 140,
      "outputs": [
        {
          "output_type": "execute_result",
          "data": {
            "text/plain": [
              "<PIL.PngImagePlugin.PngImageFile image mode=L size=28x28 at 0x7FAAAA92C790>"
            ],
            "image/png": "[encoded data removed]"
          },
          "metadata": {},
          "execution_count": 140
        }
      ]
    },
    {
      "cell_type": "code",
      "source": [
        "im_1011_png = Image.open(threes[1])\n",
        "im_1011_png"
      ],
      "metadata": {
        "colab": {
          "base_uri": "https://localhost:8080/",
          "height": 45
        },
        "id": "ikV5BL8OvT43",
        "outputId": "b975752e-fbea-48a7-c86b-c1caafaa37e2"
      },
      "execution_count": 141,
      "outputs": [
        {
          "output_type": "execute_result",
          "data": {
            "text/plain": [
              "<PIL.PngImagePlugin.PngImageFile image mode=L size=28x28 at 0x7FAAAA8DB650>"
            ],
            "image/png": "[encoded data removed]"
          },
          "metadata": {},
          "execution_count": 141
        }
      ]
    },
    {
      "cell_type": "code",
      "source": [
        "#because everything is reperesented in computers in terms of numbers and that deep learning algorithms also works well with numbers rather than object as they are, we \n",
        "#are now going to transform this images in appropriate forms (numpy arrays- tensors)\n",
        "\n",
        "im_1011_as_np_array = array(im_1011_png)\n",
        "im_1011_as_np_array.shape"
      ],
      "metadata": {
        "colab": {
          "base_uri": "https://localhost:8080/"
        },
        "id": "vIDGv-l6vnvP",
        "outputId": "b52a4f4a-bd18-4e1a-d481-7fbd3a64412d"
      },
      "execution_count": 142,
      "outputs": [
        {
          "output_type": "execute_result",
          "data": {
            "text/plain": [
              "(28, 28)"
            ]
          },
          "metadata": {},
          "execution_count": 142
        }
      ]
    },
    {
      "cell_type": "code",
      "source": [
        "im_1011_as_np_array"
      ],
      "metadata": {
        "colab": {
          "base_uri": "https://localhost:8080/"
        },
        "id": "5XrMD88mScl5",
        "outputId": "b80a7c6e-42bb-495d-c373-6241b23f4fc9"
      },
      "execution_count": 143,
      "outputs": [
        {
          "output_type": "execute_result",
          "data": {
            "text/plain": [
              "array([[  0,   0,   0,   0,   0,   0,   0,   0,   0,   0,   0,   0,   0,   0,   0,   0,   0,   0,   0,   0,   0,   0,   0,   0,   0,   0,   0,   0],\n",
              "       [  0,   0,   0,   0,   0,   0,   0,   0,   0,   0,   0,   0,   0,   0,   0,   0,   0,   0,   0,   0,   0,   0,   0,   0,   0,   0,   0,   0],\n",
              "       [  0,   0,   0,   0,   0,   0,   0,   0,   0,   0,   0,   0,   0,   0,   0,   0,   0,   0,   0,   0,   0,   0,   0,   0,   0,   0,   0,   0],\n",
              "       [  0,   0,   0,   0,   0,   0,   0,   0,   0,   0,   0,   0,   0,   0,   0,   0,   0,   0,   0,   0,   0,   0,   0,   0,   0,   0,   0,   0],\n",
              "       [  0,   0,   0,   0,   0,   0,   0,   0,   0,   0,   0,   0,   0,   0,   0,   0,   0,   0,   0,   0,   0,   0,   0,   0,   0,   0,   0,   0],\n",
              "       [  0,   0,   0,   0,   0,   0,   0,   0,   0,  29, 150, 195, 254, 255, 254, 176, 193, 150,  96,   0,   0,   0,   0,   0,   0,   0,   0,   0],\n",
              "       [  0,   0,   0,   0,   0,   0,   0,  48, 166, 224, 253, 253, 234, 196, 253, 253, 253, 253, 233,   0,   0,   0,   0,   0,   0,   0,   0,   0],\n",
              "       [  0,   0,   0,   0,   0,  93, 244, 249, 253, 187,  46,  10,   8,   4,  10, 194, 253, 253, 233,   0,   0,   0,   0,   0,   0,   0,   0,   0],\n",
              "       [  0,   0,   0,   0,   0, 107, 253, 253, 230,  48,   0,   0,   0,   0,   0, 192, 253, 253, 156,   0,   0,   0,   0,   0,   0,   0,   0,   0],\n",
              "       [  0,   0,   0,   0,   0,   3,  20,  20,  15,   0,   0,   0,   0,   0,  43, 224, 253, 245,  74,   0,   0,   0,   0,   0,   0,   0,   0,   0],\n",
              "       [  0,   0,   0,   0,   0,   0,   0,   0,   0,   0,   0,   0,   0,   0, 249, 253, 245, 126,   0,   0,   0,   0,   0,   0,   0,   0,   0,   0],\n",
              "       [  0,   0,   0,   0,   0,   0,   0,   0,   0,   0,   0,  14, 101, 223, 253, 248, 124,   0,   0,   0,   0,   0,   0,   0,   0,   0,   0,   0],\n",
              "       [  0,   0,   0,   0,   0,   0,   0,   0,   0,  11, 166, 239, 253, 253, 253, 187,  30,   0,   0,   0,   0,   0,   0,   0,   0,   0,   0,   0],\n",
              "       [  0,   0,   0,   0,   0,   0,   0,   0,   0,  16, 248, 250, 253, 253, 253, 253, 232, 213, 111,   2,   0,   0,   0,   0,   0,   0,   0,   0],\n",
              "       [  0,   0,   0,   0,   0,   0,   0,   0,   0,   0,   0,  43,  98,  98, 208, 253, 253, 253, 253, 187,  22,   0,   0,   0,   0,   0,   0,   0],\n",
              "       [  0,   0,   0,   0,   0,   0,   0,   0,   0,   0,   0,   0,   0,   0,   9,  51, 119, 253, 253, 253,  76,   0,   0,   0,   0,   0,   0,   0],\n",
              "       [  0,   0,   0,   0,   0,   0,   0,   0,   0,   0,   0,   0,   0,   0,   0,   0,   1, 183, 253, 253, 139,   0,   0,   0,   0,   0,   0,   0],\n",
              "       [  0,   0,   0,   0,   0,   0,   0,   0,   0,   0,   0,   0,   0,   0,   0,   0,   0, 182, 253, 253, 104,   0,   0,   0,   0,   0,   0,   0],\n",
              "       [  0,   0,   0,   0,   0,   0,   0,   0,   0,   0,   0,   0,   0,   0,   0,   0,  85, 249, 253, 253,  36,   0,   0,   0,   0,   0,   0,   0],\n",
              "       [  0,   0,   0,   0,   0,   0,   0,   0,   0,   0,   0,   0,   0,   0,   0,  60, 214, 253, 253, 173,  11,   0,   0,   0,   0,   0,   0,   0],\n",
              "       [  0,   0,   0,   0,   0,   0,   0,   0,   0,   0,   0,   0,   0,   0,  98, 247, 253, 253, 226,   9,   0,   0,   0,   0,   0,   0,   0,   0],\n",
              "       [  0,   0,   0,   0,   0,   0,   0,   0,   0,   0,   0,   0,  42, 150, 252, 253, 253, 233,  53,   0,   0,   0,   0,   0,   0,   0,   0,   0],\n",
              "       [  0,   0,   0,   0,   0,   0,  42, 115,  42,  60, 115, 159, 240, 253, 253, 250, 175,  25,   0,   0,   0,   0,   0,   0,   0,   0,   0,   0],\n",
              "       [  0,   0,   0,   0,   0,   0, 187, 253, 253, 253, 253, 253, 253, 253, 197,  86,   0,   0,   0,   0,   0,   0,   0,   0,   0,   0,   0,   0],\n",
              "       [  0,   0,   0,   0,   0,   0, 103, 253, 253, 253, 253, 253, 232,  67,   1,   0,   0,   0,   0,   0,   0,   0,   0,   0,   0,   0,   0,   0],\n",
              "       [  0,   0,   0,   0,   0,   0,   0,   0,   0,   0,   0,   0,   0,   0,   0,   0,   0,   0,   0,   0,   0,   0,   0,   0,   0,   0,   0,   0],\n",
              "       [  0,   0,   0,   0,   0,   0,   0,   0,   0,   0,   0,   0,   0,   0,   0,   0,   0,   0,   0,   0,   0,   0,   0,   0,   0,   0,   0,   0],\n",
              "       [  0,   0,   0,   0,   0,   0,   0,   0,   0,   0,   0,   0,   0,   0,   0,   0,   0,   0,   0,   0,   0,   0,   0,   0,   0,   0,   0,   0]], dtype=uint8)"
            ]
          },
          "metadata": {},
          "execution_count": 143
        }
      ]
    },
    {
      "cell_type": "markdown",
      "source": [
        "we can see that when  we transform the image into an array we get a 28x28 array of pixel values ranging from 0-255\n",
        "we can also have this into a Pytorch tensor by applying the tensor function directly "
      ],
      "metadata": {
        "id": "863SsVJLQZD1"
      }
    },
    {
      "cell_type": "code",
      "source": [
        "#the tensor function is a  wrapper for as_tensor of pytorch but can take multiple arrays at once\n",
        "im_1011_as_pytorch_tensor = tensor(im_1011_png)\n",
        "im_1011_as_pytorch_tensor.shape"
      ],
      "metadata": {
        "colab": {
          "base_uri": "https://localhost:8080/"
        },
        "id": "8JR5WCqMwsjp",
        "outputId": "29c6c97d-5360-4aed-f2ef-c89920e685cc"
      },
      "execution_count": 144,
      "outputs": [
        {
          "output_type": "execute_result",
          "data": {
            "text/plain": [
              "torch.Size([28, 28])"
            ]
          },
          "metadata": {},
          "execution_count": 144
        }
      ]
    },
    {
      "cell_type": "code",
      "source": [
        "im_1011_as_pytorch_tensor"
      ],
      "metadata": {
        "colab": {
          "base_uri": "https://localhost:8080/"
        },
        "id": "4bHHTpW0SVUu",
        "outputId": "484650e5-bfc1-4846-8483-71d43bef8b71"
      },
      "execution_count": 145,
      "outputs": [
        {
          "output_type": "execute_result",
          "data": {
            "text/plain": [
              "tensor([[  0,   0,   0,   0,   0,   0,   0,   0,   0,   0,   0,   0,   0,   0,   0,   0,   0,   0,   0,   0,   0,   0,   0,   0,   0,   0,   0,   0],\n",
              "        [  0,   0,   0,   0,   0,   0,   0,   0,   0,   0,   0,   0,   0,   0,   0,   0,   0,   0,   0,   0,   0,   0,   0,   0,   0,   0,   0,   0],\n",
              "        [  0,   0,   0,   0,   0,   0,   0,   0,   0,   0,   0,   0,   0,   0,   0,   0,   0,   0,   0,   0,   0,   0,   0,   0,   0,   0,   0,   0],\n",
              "        [  0,   0,   0,   0,   0,   0,   0,   0,   0,   0,   0,   0,   0,   0,   0,   0,   0,   0,   0,   0,   0,   0,   0,   0,   0,   0,   0,   0],\n",
              "        [  0,   0,   0,   0,   0,   0,   0,   0,   0,   0,   0,   0,   0,   0,   0,   0,   0,   0,   0,   0,   0,   0,   0,   0,   0,   0,   0,   0],\n",
              "        [  0,   0,   0,   0,   0,   0,   0,   0,   0,  29, 150, 195, 254, 255, 254, 176, 193, 150,  96,   0,   0,   0,   0,   0,   0,   0,   0,   0],\n",
              "        [  0,   0,   0,   0,   0,   0,   0,  48, 166, 224, 253, 253, 234, 196, 253, 253, 253, 253, 233,   0,   0,   0,   0,   0,   0,   0,   0,   0],\n",
              "        [  0,   0,   0,   0,   0,  93, 244, 249, 253, 187,  46,  10,   8,   4,  10, 194, 253, 253, 233,   0,   0,   0,   0,   0,   0,   0,   0,   0],\n",
              "        [  0,   0,   0,   0,   0, 107, 253, 253, 230,  48,   0,   0,   0,   0,   0, 192, 253, 253, 156,   0,   0,   0,   0,   0,   0,   0,   0,   0],\n",
              "        [  0,   0,   0,   0,   0,   3,  20,  20,  15,   0,   0,   0,   0,   0,  43, 224, 253, 245,  74,   0,   0,   0,   0,   0,   0,   0,   0,   0],\n",
              "        [  0,   0,   0,   0,   0,   0,   0,   0,   0,   0,   0,   0,   0,   0, 249, 253, 245, 126,   0,   0,   0,   0,   0,   0,   0,   0,   0,   0],\n",
              "        [  0,   0,   0,   0,   0,   0,   0,   0,   0,   0,   0,  14, 101, 223, 253, 248, 124,   0,   0,   0,   0,   0,   0,   0,   0,   0,   0,   0],\n",
              "        [  0,   0,   0,   0,   0,   0,   0,   0,   0,  11, 166, 239, 253, 253, 253, 187,  30,   0,   0,   0,   0,   0,   0,   0,   0,   0,   0,   0],\n",
              "        [  0,   0,   0,   0,   0,   0,   0,   0,   0,  16, 248, 250, 253, 253, 253, 253, 232, 213, 111,   2,   0,   0,   0,   0,   0,   0,   0,   0],\n",
              "        [  0,   0,   0,   0,   0,   0,   0,   0,   0,   0,   0,  43,  98,  98, 208, 253, 253, 253, 253, 187,  22,   0,   0,   0,   0,   0,   0,   0],\n",
              "        [  0,   0,   0,   0,   0,   0,   0,   0,   0,   0,   0,   0,   0,   0,   9,  51, 119, 253, 253, 253,  76,   0,   0,   0,   0,   0,   0,   0],\n",
              "        [  0,   0,   0,   0,   0,   0,   0,   0,   0,   0,   0,   0,   0,   0,   0,   0,   1, 183, 253, 253, 139,   0,   0,   0,   0,   0,   0,   0],\n",
              "        [  0,   0,   0,   0,   0,   0,   0,   0,   0,   0,   0,   0,   0,   0,   0,   0,   0, 182, 253, 253, 104,   0,   0,   0,   0,   0,   0,   0],\n",
              "        [  0,   0,   0,   0,   0,   0,   0,   0,   0,   0,   0,   0,   0,   0,   0,   0,  85, 249, 253, 253,  36,   0,   0,   0,   0,   0,   0,   0],\n",
              "        [  0,   0,   0,   0,   0,   0,   0,   0,   0,   0,   0,   0,   0,   0,   0,  60, 214, 253, 253, 173,  11,   0,   0,   0,   0,   0,   0,   0],\n",
              "        [  0,   0,   0,   0,   0,   0,   0,   0,   0,   0,   0,   0,   0,   0,  98, 247, 253, 253, 226,   9,   0,   0,   0,   0,   0,   0,   0,   0],\n",
              "        [  0,   0,   0,   0,   0,   0,   0,   0,   0,   0,   0,   0,  42, 150, 252, 253, 253, 233,  53,   0,   0,   0,   0,   0,   0,   0,   0,   0],\n",
              "        [  0,   0,   0,   0,   0,   0,  42, 115,  42,  60, 115, 159, 240, 253, 253, 250, 175,  25,   0,   0,   0,   0,   0,   0,   0,   0,   0,   0],\n",
              "        [  0,   0,   0,   0,   0,   0, 187, 253, 253, 253, 253, 253, 253, 253, 197,  86,   0,   0,   0,   0,   0,   0,   0,   0,   0,   0,   0,   0],\n",
              "        [  0,   0,   0,   0,   0,   0, 103, 253, 253, 253, 253, 253, 232,  67,   1,   0,   0,   0,   0,   0,   0,   0,   0,   0,   0,   0,   0,   0],\n",
              "        [  0,   0,   0,   0,   0,   0,   0,   0,   0,   0,   0,   0,   0,   0,   0,   0,   0,   0,   0,   0,   0,   0,   0,   0,   0,   0,   0,   0],\n",
              "        [  0,   0,   0,   0,   0,   0,   0,   0,   0,   0,   0,   0,   0,   0,   0,   0,   0,   0,   0,   0,   0,   0,   0,   0,   0,   0,   0,   0],\n",
              "        [  0,   0,   0,   0,   0,   0,   0,   0,   0,   0,   0,   0,   0,   0,   0,   0,   0,   0,   0,   0,   0,   0,   0,   0,   0,   0,   0,   0]], dtype=torch.uint8)"
            ]
          },
          "metadata": {},
          "execution_count": 145
        }
      ]
    },
    {
      "cell_type": "code",
      "source": [
        "#for visualising this pixelated frame we can transform the tensor or ndarray in a dataframe and\n",
        "#color the background according to the value of the content of each cell\n",
        "\n",
        "#we select just a a part of the image\n",
        "df = pd.DataFrame(im_1011_as_pytorch_tensor[4:15,4:22])\n",
        "df.style.set_properties(**{'font-size':'6pt'}).background_gradient(\"Greys\")"
      ],
      "metadata": {
        "colab": {
          "base_uri": "https://localhost:8080/",
          "height": 394
        },
        "id": "0qaZdPsNeJyw",
        "outputId": "473816fe-33c6-437c-b34d-aabc402347b1"
      },
      "execution_count": 146,
      "outputs": [
        {
          "output_type": "execute_result",
          "data": {
            "text/plain": [
              "<pandas.io.formats.style.Styler at 0x7faaa6d7fa10>"
            ],
            "text/html": [
              "<style type=\"text/css\">\n",
              "#T_252b4_row0_col0, #T_252b4_row0_col1, #T_252b4_row0_col2, #T_252b4_row0_col3, #T_252b4_row0_col4, #T_252b4_row0_col5, #T_252b4_row0_col6, #T_252b4_row0_col7, #T_252b4_row0_col8, #T_252b4_row0_col9, #T_252b4_row0_col10, #T_252b4_row0_col11, #T_252b4_row0_col12, #T_252b4_row0_col13, #T_252b4_row0_col14, #T_252b4_row0_col15, #T_252b4_row0_col16, #T_252b4_row0_col17, #T_252b4_row1_col0, #T_252b4_row1_col1, #T_252b4_row1_col2, #T_252b4_row1_col3, #T_252b4_row1_col4, #T_252b4_row1_col15, #T_252b4_row1_col16, #T_252b4_row1_col17, #T_252b4_row2_col0, #T_252b4_row2_col1, #T_252b4_row2_col2, #T_252b4_row2_col15, #T_252b4_row2_col16, #T_252b4_row2_col17, #T_252b4_row3_col0, #T_252b4_row3_col15, #T_252b4_row3_col16, #T_252b4_row3_col17, #T_252b4_row4_col0, #T_252b4_row4_col6, #T_252b4_row4_col7, #T_252b4_row4_col8, #T_252b4_row4_col9, #T_252b4_row4_col10, #T_252b4_row4_col15, #T_252b4_row4_col16, #T_252b4_row4_col17, #T_252b4_row5_col0, #T_252b4_row5_col5, #T_252b4_row5_col6, #T_252b4_row5_col7, #T_252b4_row5_col8, #T_252b4_row5_col9, #T_252b4_row5_col15, #T_252b4_row5_col16, #T_252b4_row5_col17, #T_252b4_row6_col0, #T_252b4_row6_col1, #T_252b4_row6_col2, #T_252b4_row6_col3, #T_252b4_row6_col4, #T_252b4_row6_col5, #T_252b4_row6_col6, #T_252b4_row6_col7, #T_252b4_row6_col8, #T_252b4_row6_col9, #T_252b4_row6_col14, #T_252b4_row6_col15, #T_252b4_row6_col16, #T_252b4_row6_col17, #T_252b4_row7_col0, #T_252b4_row7_col1, #T_252b4_row7_col2, #T_252b4_row7_col3, #T_252b4_row7_col4, #T_252b4_row7_col5, #T_252b4_row7_col6, #T_252b4_row7_col13, #T_252b4_row7_col14, #T_252b4_row7_col15, #T_252b4_row7_col16, #T_252b4_row7_col17, #T_252b4_row8_col0, #T_252b4_row8_col1, #T_252b4_row8_col2, #T_252b4_row8_col3, #T_252b4_row8_col4, #T_252b4_row8_col13, #T_252b4_row8_col14, #T_252b4_row8_col15, #T_252b4_row8_col16, #T_252b4_row8_col17, #T_252b4_row9_col0, #T_252b4_row9_col1, #T_252b4_row9_col2, #T_252b4_row9_col3, #T_252b4_row9_col4, #T_252b4_row9_col16, #T_252b4_row9_col17, #T_252b4_row10_col0, #T_252b4_row10_col1, #T_252b4_row10_col2, #T_252b4_row10_col3, #T_252b4_row10_col4, #T_252b4_row10_col5, #T_252b4_row10_col6, #T_252b4_row10_col17 {\n",
              "  font-size: 6pt;\n",
              "  background-color: #ffffff;\n",
              "  color: #000000;\n",
              "}\n",
              "#T_252b4_row1_col5 {\n",
              "  font-size: 6pt;\n",
              "  background-color: #efefef;\n",
              "  color: #000000;\n",
              "}\n",
              "#T_252b4_row1_col6, #T_252b4_row1_col13 {\n",
              "  font-size: 6pt;\n",
              "  background-color: #7c7c7c;\n",
              "  color: #f1f1f1;\n",
              "}\n",
              "#T_252b4_row1_col7 {\n",
              "  font-size: 6pt;\n",
              "  background-color: #4a4a4a;\n",
              "  color: #f1f1f1;\n",
              "}\n",
              "#T_252b4_row1_col8, #T_252b4_row1_col9, #T_252b4_row1_col10, #T_252b4_row2_col5, #T_252b4_row2_col6, #T_252b4_row2_col7, #T_252b4_row2_col11, #T_252b4_row2_col12, #T_252b4_row2_col13, #T_252b4_row3_col4, #T_252b4_row3_col12, #T_252b4_row3_col13, #T_252b4_row4_col1, #T_252b4_row4_col2, #T_252b4_row4_col3, #T_252b4_row4_col12, #T_252b4_row4_col13, #T_252b4_row5_col12, #T_252b4_row6_col11, #T_252b4_row9_col11, #T_252b4_row10_col11, #T_252b4_row10_col12, #T_252b4_row10_col13, #T_252b4_row10_col14, #T_252b4_row10_col15, #T_252b4_row10_col16 {\n",
              "  font-size: 6pt;\n",
              "  background-color: #000000;\n",
              "  color: #f1f1f1;\n",
              "}\n",
              "#T_252b4_row1_col11 {\n",
              "  font-size: 6pt;\n",
              "  background-color: #606060;\n",
              "  color: #f1f1f1;\n",
              "}\n",
              "#T_252b4_row1_col12 {\n",
              "  font-size: 6pt;\n",
              "  background-color: #4d4d4d;\n",
              "  color: #f1f1f1;\n",
              "}\n",
              "#T_252b4_row1_col14 {\n",
              "  font-size: 6pt;\n",
              "  background-color: #bbbbbb;\n",
              "  color: #000000;\n",
              "}\n",
              "#T_252b4_row2_col3 {\n",
              "  font-size: 6pt;\n",
              "  background-color: #e4e4e4;\n",
              "  color: #000000;\n",
              "}\n",
              "#T_252b4_row2_col4, #T_252b4_row8_col6 {\n",
              "  font-size: 6pt;\n",
              "  background-color: #6b6b6b;\n",
              "  color: #f1f1f1;\n",
              "}\n",
              "#T_252b4_row2_col8, #T_252b4_row2_col14, #T_252b4_row3_col14 {\n",
              "  font-size: 6pt;\n",
              "  background-color: #171717;\n",
              "  color: #f1f1f1;\n",
              "}\n",
              "#T_252b4_row2_col9, #T_252b4_row3_col11 {\n",
              "  font-size: 6pt;\n",
              "  background-color: #4b4b4b;\n",
              "  color: #f1f1f1;\n",
              "}\n",
              "#T_252b4_row2_col10, #T_252b4_row7_col10, #T_252b4_row8_col8, #T_252b4_row8_col10, #T_252b4_row9_col8, #T_252b4_row9_col10 {\n",
              "  font-size: 6pt;\n",
              "  background-color: #010101;\n",
              "  color: #f1f1f1;\n",
              "}\n",
              "#T_252b4_row3_col1 {\n",
              "  font-size: 6pt;\n",
              "  background-color: #272727;\n",
              "  color: #f1f1f1;\n",
              "}\n",
              "#T_252b4_row3_col2 {\n",
              "  font-size: 6pt;\n",
              "  background-color: #0a0a0a;\n",
              "  color: #f1f1f1;\n",
              "}\n",
              "#T_252b4_row3_col3 {\n",
              "  font-size: 6pt;\n",
              "  background-color: #050505;\n",
              "  color: #f1f1f1;\n",
              "}\n",
              "#T_252b4_row3_col5 {\n",
              "  font-size: 6pt;\n",
              "  background-color: #333333;\n",
              "  color: #f1f1f1;\n",
              "}\n",
              "#T_252b4_row3_col6 {\n",
              "  font-size: 6pt;\n",
              "  background-color: #e6e6e6;\n",
              "  color: #000000;\n",
              "}\n",
              "#T_252b4_row3_col7, #T_252b4_row3_col10 {\n",
              "  font-size: 6pt;\n",
              "  background-color: #fafafa;\n",
              "  color: #000000;\n",
              "}\n",
              "#T_252b4_row3_col8 {\n",
              "  font-size: 6pt;\n",
              "  background-color: #fbfbfb;\n",
              "  color: #000000;\n",
              "}\n",
              "#T_252b4_row3_col9 {\n",
              "  font-size: 6pt;\n",
              "  background-color: #fdfdfd;\n",
              "  color: #000000;\n",
              "}\n",
              "#T_252b4_row4_col4 {\n",
              "  font-size: 6pt;\n",
              "  background-color: #1b1b1b;\n",
              "  color: #f1f1f1;\n",
              "}\n",
              "#T_252b4_row4_col5 {\n",
              "  font-size: 6pt;\n",
              "  background-color: #e0e0e0;\n",
              "  color: #000000;\n",
              "}\n",
              "#T_252b4_row4_col11 {\n",
              "  font-size: 6pt;\n",
              "  background-color: #4e4e4e;\n",
              "  color: #f1f1f1;\n",
              "}\n",
              "#T_252b4_row4_col14 {\n",
              "  font-size: 6pt;\n",
              "  background-color: #767676;\n",
              "  color: #f1f1f1;\n",
              "}\n",
              "#T_252b4_row5_col1 {\n",
              "  font-size: 6pt;\n",
              "  background-color: #fcfcfc;\n",
              "  color: #000000;\n",
              "}\n",
              "#T_252b4_row5_col2, #T_252b4_row5_col3 {\n",
              "  font-size: 6pt;\n",
              "  background-color: #f6f6f6;\n",
              "  color: #000000;\n",
              "}\n",
              "#T_252b4_row5_col4, #T_252b4_row7_col7 {\n",
              "  font-size: 6pt;\n",
              "  background-color: #f8f8f8;\n",
              "  color: #000000;\n",
              "}\n",
              "#T_252b4_row5_col10, #T_252b4_row10_col7 {\n",
              "  font-size: 6pt;\n",
              "  background-color: #e8e8e8;\n",
              "  color: #000000;\n",
              "}\n",
              "#T_252b4_row5_col11 {\n",
              "  font-size: 6pt;\n",
              "  background-color: #222222;\n",
              "  color: #f1f1f1;\n",
              "}\n",
              "#T_252b4_row5_col13, #T_252b4_row6_col12 {\n",
              "  font-size: 6pt;\n",
              "  background-color: #090909;\n",
              "  color: #f1f1f1;\n",
              "}\n",
              "#T_252b4_row5_col14 {\n",
              "  font-size: 6pt;\n",
              "  background-color: #d0d0d0;\n",
              "  color: #000000;\n",
              "}\n",
              "#T_252b4_row6_col10, #T_252b4_row7_col11, #T_252b4_row9_col6 {\n",
              "  font-size: 6pt;\n",
              "  background-color: #060606;\n",
              "  color: #f1f1f1;\n",
              "}\n",
              "#T_252b4_row6_col13 {\n",
              "  font-size: 6pt;\n",
              "  background-color: #979797;\n",
              "  color: #f1f1f1;\n",
              "}\n",
              "#T_252b4_row7_col8 {\n",
              "  font-size: 6pt;\n",
              "  background-color: #b6b6b6;\n",
              "  color: #000000;\n",
              "}\n",
              "#T_252b4_row7_col9 {\n",
              "  font-size: 6pt;\n",
              "  background-color: #252525;\n",
              "  color: #f1f1f1;\n",
              "}\n",
              "#T_252b4_row7_col12 {\n",
              "  font-size: 6pt;\n",
              "  background-color: #999999;\n",
              "  color: #f1f1f1;\n",
              "}\n",
              "#T_252b4_row8_col5 {\n",
              "  font-size: 6pt;\n",
              "  background-color: #f9f9f9;\n",
              "  color: #000000;\n",
              "}\n",
              "#T_252b4_row8_col7 {\n",
              "  font-size: 6pt;\n",
              "  background-color: #101010;\n",
              "  color: #f1f1f1;\n",
              "}\n",
              "#T_252b4_row8_col9, #T_252b4_row9_col9 {\n",
              "  font-size: 6pt;\n",
              "  background-color: #020202;\n",
              "  color: #f1f1f1;\n",
              "}\n",
              "#T_252b4_row8_col11 {\n",
              "  font-size: 6pt;\n",
              "  background-color: #545454;\n",
              "  color: #f1f1f1;\n",
              "}\n",
              "#T_252b4_row8_col12 {\n",
              "  font-size: 6pt;\n",
              "  background-color: #f1f1f1;\n",
              "  color: #000000;\n",
              "}\n",
              "#T_252b4_row9_col5 {\n",
              "  font-size: 6pt;\n",
              "  background-color: #f7f7f7;\n",
              "  color: #000000;\n",
              "}\n",
              "#T_252b4_row9_col7 {\n",
              "  font-size: 6pt;\n",
              "  background-color: #030303;\n",
              "  color: #f1f1f1;\n",
              "}\n",
              "#T_252b4_row9_col12 {\n",
              "  font-size: 6pt;\n",
              "  background-color: #181818;\n",
              "  color: #f1f1f1;\n",
              "}\n",
              "#T_252b4_row9_col13 {\n",
              "  font-size: 6pt;\n",
              "  background-color: #303030;\n",
              "  color: #f1f1f1;\n",
              "}\n",
              "#T_252b4_row9_col14 {\n",
              "  font-size: 6pt;\n",
              "  background-color: #a9a9a9;\n",
              "  color: #f1f1f1;\n",
              "}\n",
              "#T_252b4_row9_col15 {\n",
              "  font-size: 6pt;\n",
              "  background-color: #fefefe;\n",
              "  color: #000000;\n",
              "}\n",
              "#T_252b4_row10_col8, #T_252b4_row10_col9 {\n",
              "  font-size: 6pt;\n",
              "  background-color: #bababa;\n",
              "  color: #000000;\n",
              "}\n",
              "#T_252b4_row10_col10 {\n",
              "  font-size: 6pt;\n",
              "  background-color: #393939;\n",
              "  color: #f1f1f1;\n",
              "}\n",
              "</style>\n",
              "<table id=\"T_252b4_\" class=\"dataframe\">\n",
              "  <thead>\n",
              "    <tr>\n",
              "      <th class=\"blank level0\" >&nbsp;</th>\n",
              "      <th class=\"col_heading level0 col0\" >0</th>\n",
              "      <th class=\"col_heading level0 col1\" >1</th>\n",
              "      <th class=\"col_heading level0 col2\" >2</th>\n",
              "      <th class=\"col_heading level0 col3\" >3</th>\n",
              "      <th class=\"col_heading level0 col4\" >4</th>\n",
              "      <th class=\"col_heading level0 col5\" >5</th>\n",
              "      <th class=\"col_heading level0 col6\" >6</th>\n",
              "      <th class=\"col_heading level0 col7\" >7</th>\n",
              "      <th class=\"col_heading level0 col8\" >8</th>\n",
              "      <th class=\"col_heading level0 col9\" >9</th>\n",
              "      <th class=\"col_heading level0 col10\" >10</th>\n",
              "      <th class=\"col_heading level0 col11\" >11</th>\n",
              "      <th class=\"col_heading level0 col12\" >12</th>\n",
              "      <th class=\"col_heading level0 col13\" >13</th>\n",
              "      <th class=\"col_heading level0 col14\" >14</th>\n",
              "      <th class=\"col_heading level0 col15\" >15</th>\n",
              "      <th class=\"col_heading level0 col16\" >16</th>\n",
              "      <th class=\"col_heading level0 col17\" >17</th>\n",
              "    </tr>\n",
              "  </thead>\n",
              "  <tbody>\n",
              "    <tr>\n",
              "      <th id=\"T_252b4_level0_row0\" class=\"row_heading level0 row0\" >0</th>\n",
              "      <td id=\"T_252b4_row0_col0\" class=\"data row0 col0\" >0</td>\n",
              "      <td id=\"T_252b4_row0_col1\" class=\"data row0 col1\" >0</td>\n",
              "      <td id=\"T_252b4_row0_col2\" class=\"data row0 col2\" >0</td>\n",
              "      <td id=\"T_252b4_row0_col3\" class=\"data row0 col3\" >0</td>\n",
              "      <td id=\"T_252b4_row0_col4\" class=\"data row0 col4\" >0</td>\n",
              "      <td id=\"T_252b4_row0_col5\" class=\"data row0 col5\" >0</td>\n",
              "      <td id=\"T_252b4_row0_col6\" class=\"data row0 col6\" >0</td>\n",
              "      <td id=\"T_252b4_row0_col7\" class=\"data row0 col7\" >0</td>\n",
              "      <td id=\"T_252b4_row0_col8\" class=\"data row0 col8\" >0</td>\n",
              "      <td id=\"T_252b4_row0_col9\" class=\"data row0 col9\" >0</td>\n",
              "      <td id=\"T_252b4_row0_col10\" class=\"data row0 col10\" >0</td>\n",
              "      <td id=\"T_252b4_row0_col11\" class=\"data row0 col11\" >0</td>\n",
              "      <td id=\"T_252b4_row0_col12\" class=\"data row0 col12\" >0</td>\n",
              "      <td id=\"T_252b4_row0_col13\" class=\"data row0 col13\" >0</td>\n",
              "      <td id=\"T_252b4_row0_col14\" class=\"data row0 col14\" >0</td>\n",
              "      <td id=\"T_252b4_row0_col15\" class=\"data row0 col15\" >0</td>\n",
              "      <td id=\"T_252b4_row0_col16\" class=\"data row0 col16\" >0</td>\n",
              "      <td id=\"T_252b4_row0_col17\" class=\"data row0 col17\" >0</td>\n",
              "    </tr>\n",
              "    <tr>\n",
              "      <th id=\"T_252b4_level0_row1\" class=\"row_heading level0 row1\" >1</th>\n",
              "      <td id=\"T_252b4_row1_col0\" class=\"data row1 col0\" >0</td>\n",
              "      <td id=\"T_252b4_row1_col1\" class=\"data row1 col1\" >0</td>\n",
              "      <td id=\"T_252b4_row1_col2\" class=\"data row1 col2\" >0</td>\n",
              "      <td id=\"T_252b4_row1_col3\" class=\"data row1 col3\" >0</td>\n",
              "      <td id=\"T_252b4_row1_col4\" class=\"data row1 col4\" >0</td>\n",
              "      <td id=\"T_252b4_row1_col5\" class=\"data row1 col5\" >29</td>\n",
              "      <td id=\"T_252b4_row1_col6\" class=\"data row1 col6\" >150</td>\n",
              "      <td id=\"T_252b4_row1_col7\" class=\"data row1 col7\" >195</td>\n",
              "      <td id=\"T_252b4_row1_col8\" class=\"data row1 col8\" >254</td>\n",
              "      <td id=\"T_252b4_row1_col9\" class=\"data row1 col9\" >255</td>\n",
              "      <td id=\"T_252b4_row1_col10\" class=\"data row1 col10\" >254</td>\n",
              "      <td id=\"T_252b4_row1_col11\" class=\"data row1 col11\" >176</td>\n",
              "      <td id=\"T_252b4_row1_col12\" class=\"data row1 col12\" >193</td>\n",
              "      <td id=\"T_252b4_row1_col13\" class=\"data row1 col13\" >150</td>\n",
              "      <td id=\"T_252b4_row1_col14\" class=\"data row1 col14\" >96</td>\n",
              "      <td id=\"T_252b4_row1_col15\" class=\"data row1 col15\" >0</td>\n",
              "      <td id=\"T_252b4_row1_col16\" class=\"data row1 col16\" >0</td>\n",
              "      <td id=\"T_252b4_row1_col17\" class=\"data row1 col17\" >0</td>\n",
              "    </tr>\n",
              "    <tr>\n",
              "      <th id=\"T_252b4_level0_row2\" class=\"row_heading level0 row2\" >2</th>\n",
              "      <td id=\"T_252b4_row2_col0\" class=\"data row2 col0\" >0</td>\n",
              "      <td id=\"T_252b4_row2_col1\" class=\"data row2 col1\" >0</td>\n",
              "      <td id=\"T_252b4_row2_col2\" class=\"data row2 col2\" >0</td>\n",
              "      <td id=\"T_252b4_row2_col3\" class=\"data row2 col3\" >48</td>\n",
              "      <td id=\"T_252b4_row2_col4\" class=\"data row2 col4\" >166</td>\n",
              "      <td id=\"T_252b4_row2_col5\" class=\"data row2 col5\" >224</td>\n",
              "      <td id=\"T_252b4_row2_col6\" class=\"data row2 col6\" >253</td>\n",
              "      <td id=\"T_252b4_row2_col7\" class=\"data row2 col7\" >253</td>\n",
              "      <td id=\"T_252b4_row2_col8\" class=\"data row2 col8\" >234</td>\n",
              "      <td id=\"T_252b4_row2_col9\" class=\"data row2 col9\" >196</td>\n",
              "      <td id=\"T_252b4_row2_col10\" class=\"data row2 col10\" >253</td>\n",
              "      <td id=\"T_252b4_row2_col11\" class=\"data row2 col11\" >253</td>\n",
              "      <td id=\"T_252b4_row2_col12\" class=\"data row2 col12\" >253</td>\n",
              "      <td id=\"T_252b4_row2_col13\" class=\"data row2 col13\" >253</td>\n",
              "      <td id=\"T_252b4_row2_col14\" class=\"data row2 col14\" >233</td>\n",
              "      <td id=\"T_252b4_row2_col15\" class=\"data row2 col15\" >0</td>\n",
              "      <td id=\"T_252b4_row2_col16\" class=\"data row2 col16\" >0</td>\n",
              "      <td id=\"T_252b4_row2_col17\" class=\"data row2 col17\" >0</td>\n",
              "    </tr>\n",
              "    <tr>\n",
              "      <th id=\"T_252b4_level0_row3\" class=\"row_heading level0 row3\" >3</th>\n",
              "      <td id=\"T_252b4_row3_col0\" class=\"data row3 col0\" >0</td>\n",
              "      <td id=\"T_252b4_row3_col1\" class=\"data row3 col1\" >93</td>\n",
              "      <td id=\"T_252b4_row3_col2\" class=\"data row3 col2\" >244</td>\n",
              "      <td id=\"T_252b4_row3_col3\" class=\"data row3 col3\" >249</td>\n",
              "      <td id=\"T_252b4_row3_col4\" class=\"data row3 col4\" >253</td>\n",
              "      <td id=\"T_252b4_row3_col5\" class=\"data row3 col5\" >187</td>\n",
              "      <td id=\"T_252b4_row3_col6\" class=\"data row3 col6\" >46</td>\n",
              "      <td id=\"T_252b4_row3_col7\" class=\"data row3 col7\" >10</td>\n",
              "      <td id=\"T_252b4_row3_col8\" class=\"data row3 col8\" >8</td>\n",
              "      <td id=\"T_252b4_row3_col9\" class=\"data row3 col9\" >4</td>\n",
              "      <td id=\"T_252b4_row3_col10\" class=\"data row3 col10\" >10</td>\n",
              "      <td id=\"T_252b4_row3_col11\" class=\"data row3 col11\" >194</td>\n",
              "      <td id=\"T_252b4_row3_col12\" class=\"data row3 col12\" >253</td>\n",
              "      <td id=\"T_252b4_row3_col13\" class=\"data row3 col13\" >253</td>\n",
              "      <td id=\"T_252b4_row3_col14\" class=\"data row3 col14\" >233</td>\n",
              "      <td id=\"T_252b4_row3_col15\" class=\"data row3 col15\" >0</td>\n",
              "      <td id=\"T_252b4_row3_col16\" class=\"data row3 col16\" >0</td>\n",
              "      <td id=\"T_252b4_row3_col17\" class=\"data row3 col17\" >0</td>\n",
              "    </tr>\n",
              "    <tr>\n",
              "      <th id=\"T_252b4_level0_row4\" class=\"row_heading level0 row4\" >4</th>\n",
              "      <td id=\"T_252b4_row4_col0\" class=\"data row4 col0\" >0</td>\n",
              "      <td id=\"T_252b4_row4_col1\" class=\"data row4 col1\" >107</td>\n",
              "      <td id=\"T_252b4_row4_col2\" class=\"data row4 col2\" >253</td>\n",
              "      <td id=\"T_252b4_row4_col3\" class=\"data row4 col3\" >253</td>\n",
              "      <td id=\"T_252b4_row4_col4\" class=\"data row4 col4\" >230</td>\n",
              "      <td id=\"T_252b4_row4_col5\" class=\"data row4 col5\" >48</td>\n",
              "      <td id=\"T_252b4_row4_col6\" class=\"data row4 col6\" >0</td>\n",
              "      <td id=\"T_252b4_row4_col7\" class=\"data row4 col7\" >0</td>\n",
              "      <td id=\"T_252b4_row4_col8\" class=\"data row4 col8\" >0</td>\n",
              "      <td id=\"T_252b4_row4_col9\" class=\"data row4 col9\" >0</td>\n",
              "      <td id=\"T_252b4_row4_col10\" class=\"data row4 col10\" >0</td>\n",
              "      <td id=\"T_252b4_row4_col11\" class=\"data row4 col11\" >192</td>\n",
              "      <td id=\"T_252b4_row4_col12\" class=\"data row4 col12\" >253</td>\n",
              "      <td id=\"T_252b4_row4_col13\" class=\"data row4 col13\" >253</td>\n",
              "      <td id=\"T_252b4_row4_col14\" class=\"data row4 col14\" >156</td>\n",
              "      <td id=\"T_252b4_row4_col15\" class=\"data row4 col15\" >0</td>\n",
              "      <td id=\"T_252b4_row4_col16\" class=\"data row4 col16\" >0</td>\n",
              "      <td id=\"T_252b4_row4_col17\" class=\"data row4 col17\" >0</td>\n",
              "    </tr>\n",
              "    <tr>\n",
              "      <th id=\"T_252b4_level0_row5\" class=\"row_heading level0 row5\" >5</th>\n",
              "      <td id=\"T_252b4_row5_col0\" class=\"data row5 col0\" >0</td>\n",
              "      <td id=\"T_252b4_row5_col1\" class=\"data row5 col1\" >3</td>\n",
              "      <td id=\"T_252b4_row5_col2\" class=\"data row5 col2\" >20</td>\n",
              "      <td id=\"T_252b4_row5_col3\" class=\"data row5 col3\" >20</td>\n",
              "      <td id=\"T_252b4_row5_col4\" class=\"data row5 col4\" >15</td>\n",
              "      <td id=\"T_252b4_row5_col5\" class=\"data row5 col5\" >0</td>\n",
              "      <td id=\"T_252b4_row5_col6\" class=\"data row5 col6\" >0</td>\n",
              "      <td id=\"T_252b4_row5_col7\" class=\"data row5 col7\" >0</td>\n",
              "      <td id=\"T_252b4_row5_col8\" class=\"data row5 col8\" >0</td>\n",
              "      <td id=\"T_252b4_row5_col9\" class=\"data row5 col9\" >0</td>\n",
              "      <td id=\"T_252b4_row5_col10\" class=\"data row5 col10\" >43</td>\n",
              "      <td id=\"T_252b4_row5_col11\" class=\"data row5 col11\" >224</td>\n",
              "      <td id=\"T_252b4_row5_col12\" class=\"data row5 col12\" >253</td>\n",
              "      <td id=\"T_252b4_row5_col13\" class=\"data row5 col13\" >245</td>\n",
              "      <td id=\"T_252b4_row5_col14\" class=\"data row5 col14\" >74</td>\n",
              "      <td id=\"T_252b4_row5_col15\" class=\"data row5 col15\" >0</td>\n",
              "      <td id=\"T_252b4_row5_col16\" class=\"data row5 col16\" >0</td>\n",
              "      <td id=\"T_252b4_row5_col17\" class=\"data row5 col17\" >0</td>\n",
              "    </tr>\n",
              "    <tr>\n",
              "      <th id=\"T_252b4_level0_row6\" class=\"row_heading level0 row6\" >6</th>\n",
              "      <td id=\"T_252b4_row6_col0\" class=\"data row6 col0\" >0</td>\n",
              "      <td id=\"T_252b4_row6_col1\" class=\"data row6 col1\" >0</td>\n",
              "      <td id=\"T_252b4_row6_col2\" class=\"data row6 col2\" >0</td>\n",
              "      <td id=\"T_252b4_row6_col3\" class=\"data row6 col3\" >0</td>\n",
              "      <td id=\"T_252b4_row6_col4\" class=\"data row6 col4\" >0</td>\n",
              "      <td id=\"T_252b4_row6_col5\" class=\"data row6 col5\" >0</td>\n",
              "      <td id=\"T_252b4_row6_col6\" class=\"data row6 col6\" >0</td>\n",
              "      <td id=\"T_252b4_row6_col7\" class=\"data row6 col7\" >0</td>\n",
              "      <td id=\"T_252b4_row6_col8\" class=\"data row6 col8\" >0</td>\n",
              "      <td id=\"T_252b4_row6_col9\" class=\"data row6 col9\" >0</td>\n",
              "      <td id=\"T_252b4_row6_col10\" class=\"data row6 col10\" >249</td>\n",
              "      <td id=\"T_252b4_row6_col11\" class=\"data row6 col11\" >253</td>\n",
              "      <td id=\"T_252b4_row6_col12\" class=\"data row6 col12\" >245</td>\n",
              "      <td id=\"T_252b4_row6_col13\" class=\"data row6 col13\" >126</td>\n",
              "      <td id=\"T_252b4_row6_col14\" class=\"data row6 col14\" >0</td>\n",
              "      <td id=\"T_252b4_row6_col15\" class=\"data row6 col15\" >0</td>\n",
              "      <td id=\"T_252b4_row6_col16\" class=\"data row6 col16\" >0</td>\n",
              "      <td id=\"T_252b4_row6_col17\" class=\"data row6 col17\" >0</td>\n",
              "    </tr>\n",
              "    <tr>\n",
              "      <th id=\"T_252b4_level0_row7\" class=\"row_heading level0 row7\" >7</th>\n",
              "      <td id=\"T_252b4_row7_col0\" class=\"data row7 col0\" >0</td>\n",
              "      <td id=\"T_252b4_row7_col1\" class=\"data row7 col1\" >0</td>\n",
              "      <td id=\"T_252b4_row7_col2\" class=\"data row7 col2\" >0</td>\n",
              "      <td id=\"T_252b4_row7_col3\" class=\"data row7 col3\" >0</td>\n",
              "      <td id=\"T_252b4_row7_col4\" class=\"data row7 col4\" >0</td>\n",
              "      <td id=\"T_252b4_row7_col5\" class=\"data row7 col5\" >0</td>\n",
              "      <td id=\"T_252b4_row7_col6\" class=\"data row7 col6\" >0</td>\n",
              "      <td id=\"T_252b4_row7_col7\" class=\"data row7 col7\" >14</td>\n",
              "      <td id=\"T_252b4_row7_col8\" class=\"data row7 col8\" >101</td>\n",
              "      <td id=\"T_252b4_row7_col9\" class=\"data row7 col9\" >223</td>\n",
              "      <td id=\"T_252b4_row7_col10\" class=\"data row7 col10\" >253</td>\n",
              "      <td id=\"T_252b4_row7_col11\" class=\"data row7 col11\" >248</td>\n",
              "      <td id=\"T_252b4_row7_col12\" class=\"data row7 col12\" >124</td>\n",
              "      <td id=\"T_252b4_row7_col13\" class=\"data row7 col13\" >0</td>\n",
              "      <td id=\"T_252b4_row7_col14\" class=\"data row7 col14\" >0</td>\n",
              "      <td id=\"T_252b4_row7_col15\" class=\"data row7 col15\" >0</td>\n",
              "      <td id=\"T_252b4_row7_col16\" class=\"data row7 col16\" >0</td>\n",
              "      <td id=\"T_252b4_row7_col17\" class=\"data row7 col17\" >0</td>\n",
              "    </tr>\n",
              "    <tr>\n",
              "      <th id=\"T_252b4_level0_row8\" class=\"row_heading level0 row8\" >8</th>\n",
              "      <td id=\"T_252b4_row8_col0\" class=\"data row8 col0\" >0</td>\n",
              "      <td id=\"T_252b4_row8_col1\" class=\"data row8 col1\" >0</td>\n",
              "      <td id=\"T_252b4_row8_col2\" class=\"data row8 col2\" >0</td>\n",
              "      <td id=\"T_252b4_row8_col3\" class=\"data row8 col3\" >0</td>\n",
              "      <td id=\"T_252b4_row8_col4\" class=\"data row8 col4\" >0</td>\n",
              "      <td id=\"T_252b4_row8_col5\" class=\"data row8 col5\" >11</td>\n",
              "      <td id=\"T_252b4_row8_col6\" class=\"data row8 col6\" >166</td>\n",
              "      <td id=\"T_252b4_row8_col7\" class=\"data row8 col7\" >239</td>\n",
              "      <td id=\"T_252b4_row8_col8\" class=\"data row8 col8\" >253</td>\n",
              "      <td id=\"T_252b4_row8_col9\" class=\"data row8 col9\" >253</td>\n",
              "      <td id=\"T_252b4_row8_col10\" class=\"data row8 col10\" >253</td>\n",
              "      <td id=\"T_252b4_row8_col11\" class=\"data row8 col11\" >187</td>\n",
              "      <td id=\"T_252b4_row8_col12\" class=\"data row8 col12\" >30</td>\n",
              "      <td id=\"T_252b4_row8_col13\" class=\"data row8 col13\" >0</td>\n",
              "      <td id=\"T_252b4_row8_col14\" class=\"data row8 col14\" >0</td>\n",
              "      <td id=\"T_252b4_row8_col15\" class=\"data row8 col15\" >0</td>\n",
              "      <td id=\"T_252b4_row8_col16\" class=\"data row8 col16\" >0</td>\n",
              "      <td id=\"T_252b4_row8_col17\" class=\"data row8 col17\" >0</td>\n",
              "    </tr>\n",
              "    <tr>\n",
              "      <th id=\"T_252b4_level0_row9\" class=\"row_heading level0 row9\" >9</th>\n",
              "      <td id=\"T_252b4_row9_col0\" class=\"data row9 col0\" >0</td>\n",
              "      <td id=\"T_252b4_row9_col1\" class=\"data row9 col1\" >0</td>\n",
              "      <td id=\"T_252b4_row9_col2\" class=\"data row9 col2\" >0</td>\n",
              "      <td id=\"T_252b4_row9_col3\" class=\"data row9 col3\" >0</td>\n",
              "      <td id=\"T_252b4_row9_col4\" class=\"data row9 col4\" >0</td>\n",
              "      <td id=\"T_252b4_row9_col5\" class=\"data row9 col5\" >16</td>\n",
              "      <td id=\"T_252b4_row9_col6\" class=\"data row9 col6\" >248</td>\n",
              "      <td id=\"T_252b4_row9_col7\" class=\"data row9 col7\" >250</td>\n",
              "      <td id=\"T_252b4_row9_col8\" class=\"data row9 col8\" >253</td>\n",
              "      <td id=\"T_252b4_row9_col9\" class=\"data row9 col9\" >253</td>\n",
              "      <td id=\"T_252b4_row9_col10\" class=\"data row9 col10\" >253</td>\n",
              "      <td id=\"T_252b4_row9_col11\" class=\"data row9 col11\" >253</td>\n",
              "      <td id=\"T_252b4_row9_col12\" class=\"data row9 col12\" >232</td>\n",
              "      <td id=\"T_252b4_row9_col13\" class=\"data row9 col13\" >213</td>\n",
              "      <td id=\"T_252b4_row9_col14\" class=\"data row9 col14\" >111</td>\n",
              "      <td id=\"T_252b4_row9_col15\" class=\"data row9 col15\" >2</td>\n",
              "      <td id=\"T_252b4_row9_col16\" class=\"data row9 col16\" >0</td>\n",
              "      <td id=\"T_252b4_row9_col17\" class=\"data row9 col17\" >0</td>\n",
              "    </tr>\n",
              "    <tr>\n",
              "      <th id=\"T_252b4_level0_row10\" class=\"row_heading level0 row10\" >10</th>\n",
              "      <td id=\"T_252b4_row10_col0\" class=\"data row10 col0\" >0</td>\n",
              "      <td id=\"T_252b4_row10_col1\" class=\"data row10 col1\" >0</td>\n",
              "      <td id=\"T_252b4_row10_col2\" class=\"data row10 col2\" >0</td>\n",
              "      <td id=\"T_252b4_row10_col3\" class=\"data row10 col3\" >0</td>\n",
              "      <td id=\"T_252b4_row10_col4\" class=\"data row10 col4\" >0</td>\n",
              "      <td id=\"T_252b4_row10_col5\" class=\"data row10 col5\" >0</td>\n",
              "      <td id=\"T_252b4_row10_col6\" class=\"data row10 col6\" >0</td>\n",
              "      <td id=\"T_252b4_row10_col7\" class=\"data row10 col7\" >43</td>\n",
              "      <td id=\"T_252b4_row10_col8\" class=\"data row10 col8\" >98</td>\n",
              "      <td id=\"T_252b4_row10_col9\" class=\"data row10 col9\" >98</td>\n",
              "      <td id=\"T_252b4_row10_col10\" class=\"data row10 col10\" >208</td>\n",
              "      <td id=\"T_252b4_row10_col11\" class=\"data row10 col11\" >253</td>\n",
              "      <td id=\"T_252b4_row10_col12\" class=\"data row10 col12\" >253</td>\n",
              "      <td id=\"T_252b4_row10_col13\" class=\"data row10 col13\" >253</td>\n",
              "      <td id=\"T_252b4_row10_col14\" class=\"data row10 col14\" >253</td>\n",
              "      <td id=\"T_252b4_row10_col15\" class=\"data row10 col15\" >187</td>\n",
              "      <td id=\"T_252b4_row10_col16\" class=\"data row10 col16\" >22</td>\n",
              "      <td id=\"T_252b4_row10_col17\" class=\"data row10 col17\" >0</td>\n",
              "    </tr>\n",
              "  </tbody>\n",
              "</table>\n"
            ]
          },
          "metadata": {},
          "execution_count": 146
        }
      ]
    },
    {
      "cell_type": "markdown",
      "source": [
        "we can see that we selected the \n",
        "pixel of the top half othe 3 "
      ],
      "metadata": {
        "id": "JBDHJiHRfqSW"
      }
    },
    {
      "cell_type": "markdown",
      "source": [
        "**BASELINE ALGORITHM**: We check for the average of the pixel values for each ouf our groups  and then we can compate the pixel average of any new image with our baseline and classify accordingly.For every pixel position, we want to compute the average over all the images of the intensity of that pixel.For that it would be great if we had a data structure that could group all the images into one single data structure that can be manipulated at once, that is where tensors get in handy, they are the main data structure in pytorch and deep learning programming, think of them as a way to represent data/images in such a way that applying deep learning will be easy, or as the big brother of nd.array"
      ],
      "metadata": {
        "id": "_5llQXimgAJ5"
      }
    },
    {
      "cell_type": "code",
      "source": [
        "#for that we first group all the tensors in one list- one for each cathegory so a list of \n",
        "#all the 7 tensors and a list of all the 3 tensors\n",
        "\n",
        "three_tensors = [tensor(Image.open(o)) for o in threes]\n",
        "seven_tensors = [tensor(Image.open(o)) for o in sevens]\n",
        "\n",
        "(len(three_tensors),len(seven_tensors))"
      ],
      "metadata": {
        "colab": {
          "base_uri": "https://localhost:8080/"
        },
        "id": "UGhTX6ESfxg4",
        "outputId": "61102080-288e-456b-ecc7-1b65f49229a9"
      },
      "execution_count": 147,
      "outputs": [
        {
          "output_type": "execute_result",
          "data": {
            "text/plain": [
              "(6131, 6265)"
            ]
          },
          "metadata": {},
          "execution_count": 147
        }
      ]
    },
    {
      "cell_type": "code",
      "source": [
        "#torch core are basic pytorch functions used in fastai, show_image is one such function which displays a \n",
        "#a pytorch tensor containing an image\n",
        "show_image(three_tensors[1])"
      ],
      "metadata": {
        "colab": {
          "base_uri": "https://localhost:8080/",
          "height": 103
        },
        "id": "bj4Zi6MPg9FO",
        "outputId": "946005ed-a5bc-4dd1-a447-1591517e9823"
      },
      "execution_count": 148,
      "outputs": [
        {
          "output_type": "execute_result",
          "data": {
            "text/plain": [
              "<matplotlib.axes._subplots.AxesSubplot at 0x7faaa6d4a790>"
            ]
          },
          "metadata": {},
          "execution_count": 148
        },
        {
          "output_type": "display_data",
          "data": {
            "text/plain": [
              "<Figure size 72x72 with 1 Axes>"
            ],
            "image/png": "[encoded data removed]"
          },
          "metadata": {
            "needs_background": "light"
          }
        }
      ]
    },
    {
      "cell_type": "code",
      "source": [
        "#because want to calculate the average value of a pixel overall (considering all the images of a specific category) we will first of all \n",
        "#To do this we first combine all the images in this list into a single three-dimensional tensor.The most common way to describe such a tensor is to call it a rank-3 tensor. \n",
        "#We often need to stack up individual tensors in a collection into a single tensor. Pytorch has an inbuilt function to do just this. because some arithmetic\n",
        "#operations in pytorch can only be performed on floats , we cast everything into float, pixels values are expected to be between 0 and 1 when floats so we devide everything by 255\n",
        "#t\n",
        "\n",
        "\n",
        "stacked_threes = torch.stack(three_tensors).float()/255\n",
        "stacked_sevens = torch.stack(seven_tensors).float()/255\n"
      ],
      "metadata": {
        "id": "axLrGUyCi7La"
      },
      "execution_count": 149,
      "outputs": []
    },
    {
      "cell_type": "code",
      "source": [
        "#checking the shape of this single tensor now\n",
        "stacked_threes.shape"
      ],
      "metadata": {
        "colab": {
          "base_uri": "https://localhost:8080/"
        },
        "id": "SWgjn2uUqeSC",
        "outputId": "7c049b51-4c8f-444e-a07c-c7c86257f519"
      },
      "execution_count": 150,
      "outputs": [
        {
          "output_type": "execute_result",
          "data": {
            "text/plain": [
              "torch.Size([6131, 28, 28])"
            ]
          },
          "metadata": {},
          "execution_count": 150
        }
      ]
    },
    {
      "cell_type": "markdown",
      "source": [
        "we can see it's now a  rank-3 tensor with 6131 in depth and 28 x28 in surface think of it as a cube.Perhaps the most important attribute of a tensor is its shape. This tells you the length of each axis. In this case, we can see that we have 6,131 images, each of size 28×28 pixels. There is nothing specifically about this tensor that says that the first axis is the number of images, the second is the height, and the third is the width—the semantics of a tensor are entirely up to us, and how we construct it. As far as PyTorch is concerned, it is just a bunch of numbers in memory. the length of a tensor's shape is its rank"
      ],
      "metadata": {
        "id": "aaDyUanqq7u7"
      }
    },
    {
      "cell_type": "code",
      "source": [
        "#the advantage of the rank-n tensor is that although it is one single bundle we can still access individual tensors\n",
        "stacked_threes[0]\n",
        "stacked_threes[0].shape"
      ],
      "metadata": {
        "colab": {
          "base_uri": "https://localhost:8080/"
        },
        "id": "dh2-aFFAY5TF",
        "outputId": "fe887b7a-51ba-494e-c8c8-148e5ee31b9d"
      },
      "execution_count": 151,
      "outputs": [
        {
          "output_type": "execute_result",
          "data": {
            "text/plain": [
              "torch.Size([28, 28])"
            ]
          },
          "metadata": {},
          "execution_count": 151
        }
      ]
    },
    {
      "cell_type": "code",
      "source": [
        "#now we calculate the mean of all the pixels\n",
        "\n",
        "mean_threes = stacked_threes.mean(0)\n",
        "mean_sevens = stacked_sevens.mean(0)"
      ],
      "metadata": {
        "id": "Wl0IIq03svNM"
      },
      "execution_count": 152,
      "outputs": []
    },
    {
      "cell_type": "code",
      "source": [
        "#don't forget that show_image is a pytorch function that can show images stored as tensors\n",
        "show_image(mean_threes)"
      ],
      "metadata": {
        "colab": {
          "base_uri": "https://localhost:8080/",
          "height": 103
        },
        "id": "m8NFxs2P2Rw3",
        "outputId": "5f649e0f-0c55-405e-84de-e0427f45d5d2"
      },
      "execution_count": 153,
      "outputs": [
        {
          "output_type": "execute_result",
          "data": {
            "text/plain": [
              "<matplotlib.axes._subplots.AxesSubplot at 0x7faaa6a83f90>"
            ]
          },
          "metadata": {},
          "execution_count": 153
        },
        {
          "output_type": "display_data",
          "data": {
            "text/plain": [
              "<Figure size 72x72 with 1 Axes>"
            ],
            "image/png": "[encoded data removed]"
          },
          "metadata": {
            "needs_background": "light"
          }
        }
      ]
    },
    {
      "cell_type": "code",
      "source": [
        "#don't forget that show_image is a pytorch function that can show images stored as tensors\n",
        "show_image(mean_sevens)"
      ],
      "metadata": {
        "colab": {
          "base_uri": "https://localhost:8080/",
          "height": 103
        },
        "id": "qPhmE9n42a-_",
        "outputId": "95871fd6-89f4-4e34-88fb-bd04439e4f6a"
      },
      "execution_count": 154,
      "outputs": [
        {
          "output_type": "execute_result",
          "data": {
            "text/plain": [
              "<matplotlib.axes._subplots.AxesSubplot at 0x7faaaaf8b650>"
            ]
          },
          "metadata": {},
          "execution_count": 154
        },
        {
          "output_type": "display_data",
          "data": {
            "text/plain": [
              "<Figure size 72x72 with 1 Axes>"
            ],
            "image/png": "[encoded data removed]"
          },
          "metadata": {
            "needs_background": "light"
          }
        }
      ]
    },
    {
      "cell_type": "code",
      "source": [
        "#let'spick and arbitrary 3 and check it's distance from our mean 3\n",
        "\n",
        "random_3 = random.choice(stacked_threes)\n",
        "random_to_mean_abs = (random_3-mean_threes).abs().mean()\n",
        "random_to_mean_sqrt = ((random_3-mean_threes)**2).mean().sqrt()\n",
        "(random_to_mean_abs,random_to_mean_sqrt)"
      ],
      "metadata": {
        "colab": {
          "base_uri": "https://localhost:8080/"
        },
        "id": "4UVuGtAR2GnT",
        "outputId": "142ad44e-ee1e-4d70-81c2-2d975a54f247"
      },
      "execution_count": 155,
      "outputs": [
        {
          "output_type": "execute_result",
          "data": {
            "text/plain": [
              "(tensor(0.1207), tensor(0.2173))"
            ]
          },
          "metadata": {},
          "execution_count": 155
        }
      ]
    },
    {
      "cell_type": "code",
      "source": [
        "#let's check it against 7\n",
        "random_to_mean7_abs = (random_3-mean_sevens).abs().mean()\n",
        "random_to_mean7_sqrt = ((random_3-mean_sevens)**2).mean().sqrt()\n",
        "(random_to_mean7_abs,random_to_mean7_sqrt)"
      ],
      "metadata": {
        "colab": {
          "base_uri": "https://localhost:8080/"
        },
        "id": "Y4S-S4oEZmPI",
        "outputId": "7d475316-94c4-4736-f4d5-b9d1ba301d88"
      },
      "execution_count": 156,
      "outputs": [
        {
          "output_type": "execute_result",
          "data": {
            "text/plain": [
              "(tensor(0.1617), tensor(0.3079))"
            ]
          },
          "metadata": {},
          "execution_count": 156
        }
      ]
    },
    {
      "cell_type": "markdown",
      "source": [
        "In Both cases our three and the mean 3 is less thatn the distance to the ideal 7 so that the  baseline algorithm would yield a good result in this case , but keep  in mind that there might be images of 3 who are closer to the mean of 7s that that of 3s"
      ],
      "metadata": {
        "id": "3bvhx33bbaCR"
      }
    },
    {
      "cell_type": "code",
      "source": [
        "#Pytorch has both of this function as loss function in its module torch.nn.functional ---- > loss function measures the discrepancy between the real value and the predicted value\n",
        "#the lower the loss function the better, now this is just for one image but we can calculate the loss for a bunch at once---tensor"
      ],
      "metadata": {
        "id": "avVvdC38qrCU"
      },
      "execution_count": 157,
      "outputs": []
    },
    {
      "cell_type": "code",
      "source": [
        "from torch import nn\n",
        "#takes as input a specific tensor and the target tensor\n",
        "#L1 norm = mean absolute value\n",
        "l1_3 = nn.functional.l1_loss(random_3,mean_threes)\n",
        "mse_3 =nn.functional.mse_loss(random_3,mean_threes)\n",
        "(l1_3,mse_3)"
      ],
      "metadata": {
        "colab": {
          "base_uri": "https://localhost:8080/"
        },
        "id": "ld5HD8wkbX6l",
        "outputId": "9cf5d60c-6881-4cee-ae51-a0173738eba6"
      },
      "execution_count": 158,
      "outputs": [
        {
          "output_type": "execute_result",
          "data": {
            "text/plain": [
              "(tensor(0.1207), tensor(0.0472))"
            ]
          },
          "metadata": {},
          "execution_count": 158
        }
      ]
    },
    {
      "cell_type": "code",
      "source": [
        "l1_7 = nn.functional.l1_loss(random_3,mean_sevens)\n",
        "mse_7 =nn.functional.mse_loss(random_3,mean_sevens)\n",
        "(l1_7,mse_7)"
      ],
      "metadata": {
        "colab": {
          "base_uri": "https://localhost:8080/"
        },
        "id": "yIsmnhCGr058",
        "outputId": "adafcb15-34ab-43d6-fd24-234bf1bc71a7"
      },
      "execution_count": 159,
      "outputs": [
        {
          "output_type": "execute_result",
          "data": {
            "text/plain": [
              "(tensor(0.1617), tensor(0.0948))"
            ]
          },
          "metadata": {},
          "execution_count": 159
        }
      ]
    },
    {
      "cell_type": "markdown",
      "source": [
        "The main difference between the L1 norm and the mse is that the latter will penalize bigger mistakes more heavily than the former.\n",
        "\n",
        "NumPy is the most widely used library for scientific and numeric programming in Python. It provides very similar functionality and a very similar API to that provided by PyTorch; however, it does not support using the GPU or calculating gradients, which are both critical for deep learning. Therefore, in this book we will generally use PyTorch tensors instead of NumPy arrays, where possible.\n",
        "\n",
        "Python is slow compared to many languages. Anything fast in Python, NumPy, or PyTorch is likely to be a wrapper for a compiled object written (and optimized) in another language—specifically C. In fact, NumPy arrays and PyTorch tensors can finish computations many thousands of times faster than using pure Python.---> so they are most likely compiled C objects.\n",
        "\n",
        "A PyTorch tensor is nearly the same thing as a NumPy array, but with an additional restriction that unlocks some additional capabilities. It's the same in that it, too, is a multidimensional table of data, with all items of the same type.However, the restriction is that a tensor cannot use just any old type—it has to use a single basic numeric type for all components. For example, a PyTorch tensor cannot be jagged. It is always a regularly shaped multidimensional rectangular structure.To take advantage of its speed while programming in Python, try to avoid as much as possible writing loops, and replace them by commands that work directly on arrays or tensors.Perhaps the most important new coding skill for a Python programmer to learn is how to effectively use the array/tensor APIs. We will be showing lots more tricks later in this book, but here's a summary of the key things you need to know for now.\n",
        "The vast majority of methods and operators supported by NumPy on these structures are also supported by PyTorch, but PyTorch tensors have additional capabilities. One major capability is that these structures can live on the GPU, in which case their computation will be optimized for the GPU and can run much faster"
      ],
      "metadata": {
        "id": "Ed7rwv_8syUy"
      }
    },
    {
      "cell_type": "code",
      "source": [
        "stacked_threes"
      ],
      "metadata": {
        "colab": {
          "base_uri": "https://localhost:8080/"
        },
        "id": "x1p9TRhJsyD2",
        "outputId": "c8033046-1e0a-48d2-c5eb-fef1f2746225"
      },
      "execution_count": 160,
      "outputs": [
        {
          "output_type": "execute_result",
          "data": {
            "text/plain": [
              "tensor([[[0., 0., 0.,  ..., 0., 0., 0.],\n",
              "         [0., 0., 0.,  ..., 0., 0., 0.],\n",
              "         [0., 0., 0.,  ..., 0., 0., 0.],\n",
              "         ...,\n",
              "         [0., 0., 0.,  ..., 0., 0., 0.],\n",
              "         [0., 0., 0.,  ..., 0., 0., 0.],\n",
              "         [0., 0., 0.,  ..., 0., 0., 0.]],\n",
              "\n",
              "        [[0., 0., 0.,  ..., 0., 0., 0.],\n",
              "         [0., 0., 0.,  ..., 0., 0., 0.],\n",
              "         [0., 0., 0.,  ..., 0., 0., 0.],\n",
              "         ...,\n",
              "         [0., 0., 0.,  ..., 0., 0., 0.],\n",
              "         [0., 0., 0.,  ..., 0., 0., 0.],\n",
              "         [0., 0., 0.,  ..., 0., 0., 0.]],\n",
              "\n",
              "        [[0., 0., 0.,  ..., 0., 0., 0.],\n",
              "         [0., 0., 0.,  ..., 0., 0., 0.],\n",
              "         [0., 0., 0.,  ..., 0., 0., 0.],\n",
              "         ...,\n",
              "         [0., 0., 0.,  ..., 0., 0., 0.],\n",
              "         [0., 0., 0.,  ..., 0., 0., 0.],\n",
              "         [0., 0., 0.,  ..., 0., 0., 0.]],\n",
              "\n",
              "        ...,\n",
              "\n",
              "        [[0., 0., 0.,  ..., 0., 0., 0.],\n",
              "         [0., 0., 0.,  ..., 0., 0., 0.],\n",
              "         [0., 0., 0.,  ..., 0., 0., 0.],\n",
              "         ...,\n",
              "         [0., 0., 0.,  ..., 0., 0., 0.],\n",
              "         [0., 0., 0.,  ..., 0., 0., 0.],\n",
              "         [0., 0., 0.,  ..., 0., 0., 0.]],\n",
              "\n",
              "        [[0., 0., 0.,  ..., 0., 0., 0.],\n",
              "         [0., 0., 0.,  ..., 0., 0., 0.],\n",
              "         [0., 0., 0.,  ..., 0., 0., 0.],\n",
              "         ...,\n",
              "         [0., 0., 0.,  ..., 0., 0., 0.],\n",
              "         [0., 0., 0.,  ..., 0., 0., 0.],\n",
              "         [0., 0., 0.,  ..., 0., 0., 0.]],\n",
              "\n",
              "        [[0., 0., 0.,  ..., 0., 0., 0.],\n",
              "         [0., 0., 0.,  ..., 0., 0., 0.],\n",
              "         [0., 0., 0.,  ..., 0., 0., 0.],\n",
              "         ...,\n",
              "         [0., 0., 0.,  ..., 0., 0., 0.],\n",
              "         [0., 0., 0.,  ..., 0., 0., 0.],\n",
              "         [0., 0., 0.,  ..., 0., 0., 0.]]])"
            ]
          },
          "metadata": {},
          "execution_count": 160
        }
      ]
    },
    {
      "cell_type": "code",
      "source": [
        "#This is how you can index a tensor, all tensors in the 3D tensors, the first till third line of each tensor and thier first till third column,\n",
        "#now you can watch each of them by indexing them further\n",
        "stacked_threes[:,1:3,1:3][0]\n",
        "\n",
        "#all other normal numpy operation can be done on a tensor or a group of tensor(higher order)"
      ],
      "metadata": {
        "colab": {
          "base_uri": "https://localhost:8080/"
        },
        "id": "InPML6-PsUCV",
        "outputId": "a10509ab-f6e8-48c8-a7a0-215890d19eb3"
      },
      "execution_count": 161,
      "outputs": [
        {
          "output_type": "execute_result",
          "data": {
            "text/plain": [
              "tensor([[0., 0.],\n",
              "        [0., 0.]])"
            ]
          },
          "metadata": {},
          "execution_count": 161
        }
      ]
    },
    {
      "cell_type": "markdown",
      "source": [
        "now to judge the quality of a model we must define and metric(quantity) whose value will let us know how good it is.a metric is a number that is calculated based on the predictions of our model, and the correct labels in our dataset.For instance, we could use either of the functions we saw in the previous section, mean squared error, or mean absolute error, and take the average of them over the whole dataset. However, neither of these are numbers that are very understandable to most people; in practice, we normally use accuracy as the metric for classification models.\n",
        "\n",
        "nomarly the metric is calculated over a validation set in order to avoid overfitting"
      ],
      "metadata": {
        "id": "mz4Ob-tA7L1K"
      }
    },
    {
      "cell_type": "code",
      "source": [
        "#let's stack the validation set images to in one tensor\n",
        "path.ls()"
      ],
      "metadata": {
        "colab": {
          "base_uri": "https://localhost:8080/"
        },
        "id": "I2o34cHX7KYV",
        "outputId": "be6b045b-11d3-41ff-a4a4-0641f3ab32b3"
      },
      "execution_count": 162,
      "outputs": [
        {
          "output_type": "execute_result",
          "data": {
            "text/plain": [
              "(#3) [Path('train'),Path('labels.csv'),Path('valid')]"
            ]
          },
          "metadata": {},
          "execution_count": 162
        }
      ]
    },
    {
      "cell_type": "code",
      "source": [
        "(path/'valid').ls()"
      ],
      "metadata": {
        "colab": {
          "base_uri": "https://localhost:8080/"
        },
        "id": "wPzXyn7O8CEh",
        "outputId": "fbc945cf-d403-4dee-f4fa-45044f8bcdf4"
      },
      "execution_count": 163,
      "outputs": [
        {
          "output_type": "execute_result",
          "data": {
            "text/plain": [
              "(#2) [Path('valid/7'),Path('valid/3')]"
            ]
          },
          "metadata": {},
          "execution_count": 163
        }
      ]
    },
    {
      "cell_type": "code",
      "source": [
        "validation_set_7 =[ tensor(Image.open(o)).float()/255 for o in (path/'valid/7').ls()]\n",
        "validation_set_3 = [ tensor(Image.open(o)).float()/255 for o in (path/'valid/3').ls()]"
      ],
      "metadata": {
        "id": "MH63lb0L8U1V"
      },
      "execution_count": 164,
      "outputs": []
    },
    {
      "cell_type": "code",
      "source": [
        "valid_tensor_7 = torch.stack(validation_set_7)\n",
        "valid_tensor_3 = torch.stack(validation_set_3)"
      ],
      "metadata": {
        "id": "0JtIwhLi8xG7"
      },
      "execution_count": 165,
      "outputs": []
    },
    {
      "cell_type": "code",
      "source": [
        "(valid_tensor_3.shape,valid_tensor_7.shape)"
      ],
      "metadata": {
        "colab": {
          "base_uri": "https://localhost:8080/"
        },
        "id": "OPI4SGaq9nin",
        "outputId": "bf2f6d7f-f94b-4e97-8544-0681d76ee560"
      },
      "execution_count": 166,
      "outputs": [
        {
          "output_type": "execute_result",
          "data": {
            "text/plain": [
              "(torch.Size([1010, 28, 28]), torch.Size([1028, 28, 28]))"
            ]
          },
          "metadata": {},
          "execution_count": 166
        }
      ]
    },
    {
      "cell_type": "code",
      "source": [
        "def mnist_distance(a,b) :\n",
        "  #nn.functional.l1_loss(a,b)\n",
        "  return (a-b).abs().mean((-1,-2))\n",
        "#the (-1,-2) tells pytorch to execute the mean over the last two axis of our tensor that is the x and y of the image and not consider along the length of the tensor\n",
        "# that is why when you use an inbult nn.functional function it does not consider this pecularity and calculates the mean also over the length axis of the tensor and gives a scalar\n",
        "#tensor of dim = 0\n",
        "mnist_distance(random_3,mean_threes)"
      ],
      "metadata": {
        "colab": {
          "base_uri": "https://localhost:8080/"
        },
        "id": "fL8AiTwXA_Et",
        "outputId": "bd32ecf3-3cc7-4fb1-b071-21a10504bd53"
      },
      "execution_count": 167,
      "outputs": [
        {
          "output_type": "execute_result",
          "data": {
            "text/plain": [
              "tensor(0.1207)"
            ]
          },
          "metadata": {},
          "execution_count": 167
        }
      ]
    },
    {
      "cell_type": "code",
      "source": [
        "#now we want to calculate the distance for all the validation tensor at once, this is where pytorch shines using broadcasting,\n",
        "#somehow broadcasting doesn't work with inbuild nn.funcitonal functions\n",
        "valid_3_dist = mnist_distance(valid_tensor_3,mean_threes)\n",
        "valid_3_dist, valid_3_dist.shape"
      ],
      "metadata": {
        "colab": {
          "base_uri": "https://localhost:8080/"
        },
        "id": "ym5UYeMjCLHa",
        "outputId": "e50ce8bb-1917-4dbf-9f1e-ff136a26068e"
      },
      "execution_count": 168,
      "outputs": [
        {
          "output_type": "execute_result",
          "data": {
            "text/plain": [
              "(tensor([0.1238, 0.1378, 0.1258,  ..., 0.1108, 0.1303, 0.1120]),\n",
              " torch.Size([1010]))"
            ]
          },
          "metadata": {},
          "execution_count": 168
        }
      ]
    },
    {
      "cell_type": "code",
      "source": [
        "valid_7_dist = mnist_distance(valid_tensor_7,mean_sevens)\n",
        "valid_7_dist, valid_7_dist.shape"
      ],
      "metadata": {
        "colab": {
          "base_uri": "https://localhost:8080/"
        },
        "id": "a-ttDMhADRwz",
        "outputId": "f4bd0df0-ff75-4417-bb9a-c9f15dd54985"
      },
      "execution_count": 169,
      "outputs": [
        {
          "output_type": "execute_result",
          "data": {
            "text/plain": [
              "(tensor([0.0877, 0.1051, 0.1079,  ..., 0.1188, 0.1356, 0.0997]),\n",
              " torch.Size([1028]))"
            ]
          },
          "metadata": {},
          "execution_count": 169
        }
      ]
    },
    {
      "cell_type": "markdown",
      "source": [
        "There are a couple of important points about how broadcasting is implemented, which make it valuable not just for expressivity but also for performance:\n",
        "\n",
        "PyTorch doesn't actually copy mean3 1,010 times. It pretends it were a tensor of that shape, but doesn't actually allocate any additional memory\n",
        "It does the whole calculation in C (or, if you're using a GPU, in CUDA, the equivalent of C on the GPU), tens of thousands of times faster than pure Python (up to millions of times faster on a GPU!).\n",
        "This is true of all broadcasting and elementwise operations and functions done in PyTorch. It's the most important technique for you to know to create efficient PyTorch code."
      ],
      "metadata": {
        "id": "Pm5Dwj-OD6WK"
      }
    },
    {
      "cell_type": "code",
      "source": [
        "#now we create a function that is going to tell us if an image is a 3 or not\n",
        "\n",
        "def is_3(image):\n",
        "  return mnist_distance(image, mean_threes) < mnist_distance(image, mean_sevens)\n"
      ],
      "metadata": {
        "id": "4KctHHzlFlhX"
      },
      "execution_count": 170,
      "outputs": []
    },
    {
      "cell_type": "code",
      "source": [
        "#let's test it on a random_3 of the training set\n",
        "\n",
        "is_3(random.choice(stacked_threes))"
      ],
      "metadata": {
        "colab": {
          "base_uri": "https://localhost:8080/"
        },
        "id": "F2DWOlAtGYli",
        "outputId": "3baa1c82-3c71-4920-924b-8b93127a4f2c"
      },
      "execution_count": 171,
      "outputs": [
        {
          "output_type": "execute_result",
          "data": {
            "text/plain": [
              "tensor(True)"
            ]
          },
          "metadata": {},
          "execution_count": 171
        }
      ]
    },
    {
      "cell_type": "code",
      "source": [
        "#now let's use it against our validation set\n",
        "is_3(valid_tensor_3)"
      ],
      "metadata": {
        "colab": {
          "base_uri": "https://localhost:8080/"
        },
        "id": "MheqjhH_Gt4-",
        "outputId": "c87bfe3c-b9b5-41a8-82bf-3f56693c7c9e"
      },
      "execution_count": 172,
      "outputs": [
        {
          "output_type": "execute_result",
          "data": {
            "text/plain": [
              "tensor([True, True, True,  ..., True, True, True])"
            ]
          },
          "metadata": {},
          "execution_count": 172
        }
      ]
    },
    {
      "cell_type": "code",
      "source": [
        "is_3(valid_tensor_7)"
      ],
      "metadata": {
        "colab": {
          "base_uri": "https://localhost:8080/"
        },
        "id": "6VVIah8yHOQ5",
        "outputId": "fe8016fa-f053-4bd5-e8f2-e769b3211282"
      },
      "execution_count": 173,
      "outputs": [
        {
          "output_type": "execute_result",
          "data": {
            "text/plain": [
              "tensor([False, False, False,  ..., False, False, False])"
            ]
          },
          "metadata": {},
          "execution_count": 173
        }
      ]
    },
    {
      "cell_type": "code",
      "source": [
        "#let'S define our metric based on this ---ACCURACY\n",
        "\n",
        "accuracy_3s = is_3(valid_tensor_3).float().mean()\n",
        "accuracy_7s = 1 - is_3(valid_tensor_7).float().mean()\n",
        "\n",
        "accuracy_3s , accuracy_7s,(accuracy_3s+accuracy_7s)/2\n"
      ],
      "metadata": {
        "colab": {
          "base_uri": "https://localhost:8080/"
        },
        "id": "pmbv2a7DHVel",
        "outputId": "b21ade08-b865-4896-9c4e-f917cc63a0cc"
      },
      "execution_count": 174,
      "outputs": [
        {
          "output_type": "execute_result",
          "data": {
            "text/plain": [
              "(tensor(0.9168), tensor(0.9854), tensor(0.9511))"
            ]
          },
          "metadata": {},
          "execution_count": 174
        }
      ]
    },
    {
      "cell_type": "markdown",
      "source": [
        "**so  our baseline model has an accuracy of 0.9511, we are getting over 90% accuracy on both 3s and 7s**\n",
        "\n",
        "To do better, perhaps it is time to try a system that does some real learning—that is, that can automatically modify itself to improve its performance. In other words, it's time to talk about the training process, and SGD."
      ],
      "metadata": {
        "id": "fMxPK9LkH6xi"
      }
    },
    {
      "cell_type": "markdown",
      "source": [
        "**STOCHASTIC GRADIENT DESCENT(SGD)**"
      ],
      "metadata": {
        "id": "0LYsDk2fIcSI"
      }
    },
    {
      "cell_type": "markdown",
      "source": [
        "Suppose we arrange for some automatic means of testing the effectiveness of any current weight assignment in terms of actual performance and provide a mechanism for altering the weight assignment so as to maximize the performance. We need not go into the details of such a procedure to see that it could be made entirely automatic and to see that a machine so programmed would \"learn\" from its experience.this is the key to allowing us to have a model that can get better and better—that can learn:But our pixel similarity approach does not really do this. We do not have any kind of weight assignment, or any way of improving based on testing the effectiveness of a weight assignment. In other words, we can't really improve our pixel similarity approach by modifying a set of parameters.Instead of trying to find the similarity between an image and an \"ideal image,\" we could instead look at each individual pixel and come up with a set of weights for each one, such that the highest weights are associated with those pixels most likely to be black for a particular category. For instance, pixels toward the bottom right are not very likely to be activated for a 7, so they should have a low weight for a 7, but they are likely to be activated for an 8, so they should have a high weight for an 8.\n",
        "\n",
        "\n",
        "So look at each pixel--> what is the probability that this particular pixel has to be relevant for a specific digit and we assign it the appropriate weight and we change this weights untill the error is minimal"
      ],
      "metadata": {
        "id": "4VXd2MupIopw"
      }
    },
    {
      "cell_type": "markdown",
      "source": [
        "To be more specific, here are the steps that we are going to require, to turn this function into a machine learning classifier:\n",
        "\n",
        "\n",
        "1.  Initialize the weights\n",
        "2.   For each image, use these weights to predict whether it appears to be a 3 or a 7.\n",
        "\n",
        "1.  Based on these predictions, calculate how good the model is (its loss).\n",
        "2.   Calculate the gradient, which measures for each weight, how changing that weight would change the loss\n",
        "\n",
        "1.   Step (that is, change) all the weights based on that calculation.\n",
        "2.   Go back to the step 2, and repeat the process.\n",
        "\n",
        "1.   Iterate until you decide to stop the training process (for instance, because the model is good enough or you don't want to wait any longer).\n",
        "\n",
        "\n",
        "These seven steps, illustrated in <>, are the key to the training of all deep learning models. That deep learning turns out to rely entirely on these steps is extremely surprising and counterintuitive. It's amazing that this process can solve such complex problems. But, as you'll see, it really does!\n",
        "\n",
        "\n",
        "\n"
      ],
      "metadata": {
        "id": "2WNrcvYWLtm2"
      }
    },
    {
      "cell_type": "code",
      "source": [
        "#id gradient_descent\n",
        "#caption The gradient descent process\n",
        "#alt Graph showing the steps for Gradient Descent\n",
        "import graphviz as g\n",
        "t=g.Graph('''\n",
        "init->predict->loss->gradient->step->stop\n",
        "step->predict[label=repeat]\n",
        "''')\n",
        "print(t)"
      ],
      "metadata": {
        "colab": {
          "base_uri": "https://localhost:8080/"
        },
        "id": "7dh8xiuxInj5",
        "outputId": "de1fb001-71e9-4f32-eec0-1129bedb29f7"
      },
      "execution_count": 175,
      "outputs": [
        {
          "output_type": "stream",
          "name": "stdout",
          "text": [
            "graph \"\n",
            "init->predict->loss->gradient->step->stop\n",
            "step->predict[label=repeat]\n",
            "\" {\n",
            "}\n"
          ]
        }
      ]
    },
    {
      "cell_type": "markdown",
      "source": [
        "\n",
        "\n",
        "1.   We initialise the parameters to random values since our algorithm is going to improve it anyways\n",
        "2.   Loss : We need a function that will return the number that is small if the performance of the model is good \n",
        "1.   find out in which direction and by how much to change the weight untill we get a satisfactory weight overall(low lost function), the best way to do it is by using gradients\n",
        "2.  decide when to stop---e.g untill accuracy start getting worse or we run out of time.\n",
        "\n",
        "the procedure of gradient descent is the same always and is not changing the only way we can improve it is by adjusting the step\n",
        "\n",
        "For instance, the derivative of the quadratic function at the value 3 tells us how rapidly the function changes at the value 3. More specifically, you may recall that gradient is defined as rise/run, that is, the change in the value of the function, divided by the change in the value of the parameter. When we know how our function will change, then we know what we need to do to make it smaller.\n",
        "\n",
        "One important thing to be aware of is that our function has lots of weights that we need to adjust, so when we calculate the derivative we won't get back one number, but lots of them—a gradient for every weight. But there is nothing mathematically tricky here; you can calculate the derivative with respect to one weight, and treat all the other ones as constant\n",
        "\n",
        "\n",
        "Amazingly enough, PyTorch is able to automatically compute the derivative of nearly any function! What's more, it does it very fast. Most of the time, it will be at least as fast as any derivative function that you can create by hand. Let's see an example.\n",
        "\n",
        "But in deep learning, \"gradients\" usually means the value of a function's derivative at a particular argument value.PyTorch API also puts the focus on the argument, not the function you're actually computing the gradients of. It may feel backwards at first, but it's just a different perspective.\n",
        "\n",
        "backpropagation, which is the name given to the process of calculating the derivative of each layer.This is called the \"backward pass\" of the network, as opposed to the \"forward pass,\" which is where the activations are calculated. Life would probably be easier if backward was just called calculate_grad, but deep learning folks really do like to add jargon everywhere they can!\n",
        "\n"
      ],
      "metadata": {
        "id": "Au7t2gDjUbiK"
      }
    },
    {
      "cell_type": "markdown",
      "source": [
        "***Understanding SGD***"
      ],
      "metadata": {
        "id": "_FaVgYn5Vj8K"
      }
    },
    {
      "cell_type": "code",
      "source": [
        "def f(x) : return x**2"
      ],
      "metadata": {
        "id": "BWUrXM3AUEuu"
      },
      "execution_count": 176,
      "outputs": []
    },
    {
      "cell_type": "code",
      "source": [
        "#here is the standard procedure for calculating the gradient at a specific point \n",
        "#in pytorch when we want to calculate the  gradient at a specific point (value of the gradient)\n",
        "value =3.\n",
        "#1- we stick the gradient to that variable\n",
        "xt = tensor(value).requires_grad_() #----  variable : find gradient at point with value 3\n",
        "yt = f(xt) # apply the request to the function\n",
        "yt.backward()  # calculat it\n",
        "xt.grad\n"
      ],
      "metadata": {
        "colab": {
          "base_uri": "https://localhost:8080/"
        },
        "id": "y-NqpAwSV5zQ",
        "outputId": "52148cba-9705-4799-a713-47833753aa87"
      },
      "execution_count": 177,
      "outputs": [
        {
          "output_type": "execute_result",
          "data": {
            "text/plain": [
              "tensor(6.)"
            ]
          },
          "metadata": {},
          "execution_count": 177
        }
      ]
    },
    {
      "cell_type": "markdown",
      "source": [
        "The gradients only tell us the slope of our function, they don't actually tell us exactly how far to adjust the parameters. But it gives us some idea of how far; if the slope is very large, then that may suggest that we have more adjustments to do, whereas if the slope is very small, that may suggest that we are close to the optimal value."
      ],
      "metadata": {
        "id": "VxcS2wUIZ_zT"
      }
    },
    {
      "cell_type": "markdown",
      "source": [
        "**Stepping With a Learning Rate¶**\n",
        "\n",
        "Deciding how to change our parameters based on the values of the gradients is an important part of the deep learning process. Nearly all approaches start with the basic idea of multiplying the gradient by some small number, called the learning rate (LR)\n",
        "The learning rate is often a number between 0.001 and 0.1, although it could be anything. Often, people select a learning rate just by trying a few, and finding which results in the best model after training (we'll show you a better approach later in this book, called the learning rate finder)\n",
        "\n"
      ],
      "metadata": {
        "id": "XSCA4RShaCro"
      }
    },
    {
      "cell_type": "code",
      "source": [
        "#once the learning rate has been chosen we adjust our weight by using a simple function\n",
        "\n",
        "#w = w -lr* gr(w)\n",
        "\n",
        "#this is nknown as the optimizer step --- parameter update This allows us to adjust the parameter in the direction of the slope \n",
        "#by increasing the parameter when the slope is negative and decreasing the parameter when the slope is positive.\n",
        "# We want to adjust our parameters in the direction of the slope because our goal in deep learning is to minimize the loss.\n",
        "#If the learning rate is too high, it may also \"bounce\" around, rather than actually diverging;\n",
        "#this has the result of taking many steps to train successfully."
      ],
      "metadata": {
        "id": "XNyz5oqnVsjv"
      },
      "execution_count": 178,
      "outputs": []
    },
    {
      "cell_type": "code",
      "source": [
        "#example ---- > let's fint he best quadratic function that approximates a certain velocity behavior defined by\n",
        "\n",
        "\n",
        "time = torch.arange(0,20).float();\n",
        "time\n",
        "#randn return a set of n random number from a normal distribution\n",
        "speed = torch.randn(20)*3 + 0.75*(time-9.5)**2 + 1 "
      ],
      "metadata": {
        "id": "G56eZ92tjuJV"
      },
      "execution_count": 179,
      "outputs": []
    },
    {
      "cell_type": "code",
      "source": [
        "plt.scatter(time,speed)"
      ],
      "metadata": {
        "colab": {
          "base_uri": "https://localhost:8080/",
          "height": 286
        },
        "id": "KfaAZlTUkEsg",
        "outputId": "f5683e6d-f9ff-4053-b79f-09b93a8729a6"
      },
      "execution_count": 180,
      "outputs": [
        {
          "output_type": "execute_result",
          "data": {
            "text/plain": [
              "<matplotlib.collections.PathCollection at 0x7faaaa050bd0>"
            ]
          },
          "metadata": {},
          "execution_count": 180
        },
        {
          "output_type": "display_data",
          "data": {
            "text/plain": [
              "<Figure size 432x288 with 1 Axes>"
            ],
            "image/png": "[encoded data removed]"
          },
          "metadata": {
            "needs_background": "light"
          }
        }
      ]
    },
    {
      "cell_type": "code",
      "source": [
        "#we wan to distinguish between the function's input and its parameters, the values that define which quadratic we're trying\n",
        "\n",
        "def f(t, params):\n",
        "  #t = input params =parameter\n",
        "  a,b,c= params\n",
        "  return a*(t**2)+(b*t)+c\n",
        "\n",
        "  #since every quadratic function is fully defined by the three parameters a, b, and c. Thus, to find the best quadratic function, we only need to find the best values for a, b, and c.\n",
        "  #We need to define first what we mean by \"best.\" We define this precisely by choosing a loss function,For continuous data, it's common to use mean squared error:\n",
        "\n",
        "  def mse(preds, targets):\n",
        "    return ((preds-targets)**2).mean()"
      ],
      "metadata": {
        "id": "xRjIQbHosHYm"
      },
      "execution_count": 181,
      "outputs": []
    },
    {
      "cell_type": "code",
      "source": [
        "#step 1 \n",
        "#initialize the parameters randomly a,b,c\n",
        "##reminds pytorch that they will be requiring the gradient at this weights\n",
        "params = torch.randn(3).requires_grad_()\n",
        "orig_params=params.clone()"
      ],
      "metadata": {
        "id": "CJ425B5sugt9"
      },
      "execution_count": 182,
      "outputs": []
    },
    {
      "cell_type": "code",
      "source": [
        "#step 2 calculate the prediction\n",
        "\n",
        "preds=f(time,params)"
      ],
      "metadata": {
        "id": "rIog1SNxuzH9"
      },
      "execution_count": 183,
      "outputs": []
    },
    {
      "cell_type": "code",
      "source": [
        "def show_preds(preds,ax=None):\n",
        " if ax is None: ax=plt.subplots()[1]\n",
        " ax.scatter(time,speed)\n",
        " ax.scatter(time,to_np(preds),color ='red')\n",
        " ax.set_ylim(-300,100)"
      ],
      "metadata": {
        "id": "ZuTXtH_MvLdN"
      },
      "execution_count": 184,
      "outputs": []
    },
    {
      "cell_type": "code",
      "source": [
        "show_preds(preds)"
      ],
      "metadata": {
        "colab": {
          "base_uri": "https://localhost:8080/",
          "height": 273
        },
        "id": "PccCrwnMvohc",
        "outputId": "9aec344f-fa3a-4e13-b0c3-d35080a2c772"
      },
      "execution_count": 185,
      "outputs": [
        {
          "output_type": "display_data",
          "data": {
            "text/plain": [
              "<Figure size 432x288 with 1 Axes>"
            ],
            "image/png": "[encoded data removed]"
          },
          "metadata": {
            "needs_background": "light"
          }
        }
      ]
    },
    {
      "cell_type": "code",
      "source": [
        "#calculate the loss\n",
        "\n",
        "loss = mse(preds,speed)\n",
        "loss"
      ],
      "metadata": {
        "colab": {
          "base_uri": "https://localhost:8080/"
        },
        "id": "Ura2OdcZwJTD",
        "outputId": "cea2427f-6ea4-41d8-d090-9a72df70e5dd"
      },
      "execution_count": 186,
      "outputs": [
        {
          "output_type": "execute_result",
          "data": {
            "text/plain": [
              "TensorBase(84908.7344, grad_fn=<AliasBackward0>)"
            ]
          },
          "metadata": {},
          "execution_count": 186
        }
      ]
    },
    {
      "cell_type": "code",
      "source": [
        "#calculate the gradient of the loss function according to the parameters\n",
        "loss.backward()\n",
        "params.grad"
      ],
      "metadata": {
        "colab": {
          "base_uri": "https://localhost:8080/"
        },
        "id": "n9HXM0lXwdEV",
        "outputId": "2202210b-4b8d-43bd-ab9f-1043997ac8c5"
      },
      "execution_count": 187,
      "outputs": [
        {
          "output_type": "execute_result",
          "data": {
            "text/plain": [
              "tensor([-97354.4844,  -6253.1025,   -447.8495])"
            ]
          },
          "metadata": {},
          "execution_count": 187
        }
      ]
    },
    {
      "cell_type": "code",
      "source": [
        "params.grad*1e-5"
      ],
      "metadata": {
        "colab": {
          "base_uri": "https://localhost:8080/"
        },
        "id": "9RGr1zOKw32s",
        "outputId": "7b3438f9-03f8-4fa7-c795-bc1cf6283f90"
      },
      "execution_count": 188,
      "outputs": [
        {
          "output_type": "execute_result",
          "data": {
            "text/plain": [
              "tensor([-0.9735, -0.0625, -0.0045])"
            ]
          },
          "metadata": {},
          "execution_count": 188
        }
      ]
    },
    {
      "cell_type": "code",
      "source": [
        "#let's  use these gradients to improve our parameters, let's pic 1e-5 as learning rate\n",
        "params"
      ],
      "metadata": {
        "colab": {
          "base_uri": "https://localhost:8080/"
        },
        "id": "hYEpPpjPw7Ry",
        "outputId": "0ab4e582-d5b7-4e08-ca56-3bed8cf8eb5e"
      },
      "execution_count": 189,
      "outputs": [
        {
          "output_type": "execute_result",
          "data": {
            "text/plain": [
              "tensor([-1.5500, -0.7509,  0.8372], requires_grad=True)"
            ]
          },
          "metadata": {},
          "execution_count": 189
        }
      ]
    },
    {
      "cell_type": "code",
      "source": [
        "#step the weights\n",
        "\n",
        "lr= 1e-5\n",
        "params.data -= lr*params.grad.data\n",
        "params.grad = None"
      ],
      "metadata": {
        "id": "mvHeMG0axQ91"
      },
      "execution_count": 190,
      "outputs": []
    },
    {
      "cell_type": "code",
      "source": [
        "#calculate the loss again\n",
        "preds = f(time,params)\n",
        "mse(preds,speed)"
      ],
      "metadata": {
        "colab": {
          "base_uri": "https://localhost:8080/"
        },
        "id": "o9lfquk-zn6-",
        "outputId": "ce8a6294-c3d5-452c-c9f5-9790c100b173"
      },
      "execution_count": 191,
      "outputs": [
        {
          "output_type": "execute_result",
          "data": {
            "text/plain": [
              "TensorBase(16622.5430, grad_fn=<AliasBackward0>)"
            ]
          },
          "metadata": {},
          "execution_count": 191
        }
      ]
    },
    {
      "cell_type": "code",
      "source": [
        "show_preds(preds)"
      ],
      "metadata": {
        "colab": {
          "base_uri": "https://localhost:8080/",
          "height": 273
        },
        "id": "xDoEyXkSzyiv",
        "outputId": "cd38c9d6-4f69-4639-d85f-23ef47a404da"
      },
      "execution_count": 192,
      "outputs": [
        {
          "output_type": "display_data",
          "data": {
            "text/plain": [
              "<Figure size 432x288 with 1 Axes>"
            ],
            "image/png": "[encoded data removed]"
          },
          "metadata": {
            "needs_background": "light"
          }
        }
      ]
    },
    {
      "cell_type": "code",
      "source": [
        "#we can see indeed that the function draws closer to our original function\n",
        "\n",
        "def apply_step (params, prn=True):\n",
        "  preds = f(time, params)\n",
        "  loss = mse(preds,speed)\n",
        "  loss.backward()\n",
        "  params.data -=lr*params.grad.data\n",
        "  params.grad = None\n",
        "  if prn: print(loss.item()) \n",
        "  return preds"
      ],
      "metadata": {
        "id": "g7dQg_7nz9sw"
      },
      "execution_count": 193,
      "outputs": []
    },
    {
      "cell_type": "code",
      "source": [
        "for i in range(10):apply_step(params)"
      ],
      "metadata": {
        "colab": {
          "base_uri": "https://localhost:8080/"
        },
        "id": "BWrj0X2Q07Rl",
        "outputId": "1b2ff560-4f1c-4b9a-d249-a285151b90ee"
      },
      "execution_count": 194,
      "outputs": [
        {
          "output_type": "stream",
          "name": "stdout",
          "text": [
            "16622.54296875\n",
            "3700.715576171875\n",
            "1255.5068359375\n",
            "792.7952880859375\n",
            "705.232666015625\n",
            "688.6595458984375\n",
            "685.52001953125\n",
            "684.9224853515625\n",
            "684.8057250976562\n",
            "684.7802124023438\n"
          ]
        }
      ]
    },
    {
      "cell_type": "code",
      "source": [
        "params = torch.randn(3).requires_grad_()\n",
        "orig_params=params.clone()\n",
        "params=orig_params.detach().requires_grad_()"
      ],
      "metadata": {
        "id": "SJbUM1RO33aK"
      },
      "execution_count": 195,
      "outputs": []
    },
    {
      "cell_type": "code",
      "source": [
        "_,axs = plt.subplots(1,4,figsize=(12,3))\n",
        "for ax in axs: \n",
        "  show_preds(apply_step(params,False),ax)\n",
        "plt.tight_layout()"
      ],
      "metadata": {
        "colab": {
          "base_uri": "https://localhost:8080/",
          "height": 198
        },
        "id": "p5meNjuo1Lol",
        "outputId": "fa19a262-99d4-4b59-8bfc-e67965655a3a"
      },
      "execution_count": 196,
      "outputs": [
        {
          "output_type": "display_data",
          "data": {
            "text/plain": [
              "<Figure size 864x216 with 4 Axes>"
            ],
            "image/png": "[encoded data removed]"
          },
          "metadata": {
            "needs_background": "light"
          }
        }
      ]
    },
    {
      "cell_type": "code",
      "source": [
        "#stop\n",
        "#we decided to stop arbitrarily after 10 epochs, in practice, we would watch the training and validation losses and our metrics to decide when to stop"
      ],
      "metadata": {
        "id": "0IKFWRFW4ukj"
      },
      "execution_count": 197,
      "outputs": []
    },
    {
      "cell_type": "markdown",
      "source": [
        "To summarize, at the beginning, the weights of our model can be random (training from scratch) or come from a pretrained model (transfer learning). In the first case, the output we will get from our inputs won't have anything to do with what we want, and even in the second case, it's very likely the pretrained model won't be very good at the specific task we are targeting. So the model will need to learn better weights.\n",
        "\n",
        "We begin by comparing the outputs the model gives us with our targets (we have labeled data, so we know what result the model should give) using a loss function, which returns a number that we want to make as low as possible by improving our weights.\n",
        "\n",
        "\n",
        "To do this, we take a few data items (such as images) from the training set and feed them to our model. We compare the corresponding targets using our loss function, and the score we get tells us how wrong our predictions were. We then change the weights a little bit to make it slightly better.\n",
        "\n",
        "\n",
        "Let's consider an analogy. Imagine you are lost in the mountains with your car parked at the lowest point. To find your way back to it, you might wander in a random direction, but that probably wouldn't help much. Since you know your vehicle is at the lowest point, you would be better off going downhill. By always taking a step in the direction of the steepest downward slope, you should eventually arrive at your destination.\n",
        "\n",
        "We use the magnitude of the gradient (i.e., the steepness of the slope) to tell us how big a step to take; specifically, we multiply the gradient by a number we choose called the learning rate to decide on the step size.\n",
        "\n"
      ],
      "metadata": {
        "id": "yxLYAv7O5BwZ"
      }
    },
    {
      "cell_type": "markdown",
      "source": [
        "**The MNIST Loss Function¶**"
      ],
      "metadata": {
        "id": "VC--G8JC5mOO"
      }
    },
    {
      "cell_type": "markdown",
      "source": [
        "We already have our independent variables x—these are the images themselves. We'll concatenate them all into a single tensor, and also change them from a list of matrices (a rank-3 tensor) to a list of vectors (a rank-2 tensor). We can do this using view, which is a PyTorch method that changes the shape of a tensor without changing its contents."
      ],
      "metadata": {
        "id": "gQM-Z1k2Fhe5"
      }
    },
    {
      "cell_type": "code",
      "source": [
        "#that means we explode every image  from matrix to vector of length(28*28), so all the pixels in one long array\n",
        "#reshape is an another option\n",
        "train_x = torch.cat([stacked_threes,stacked_sevens]).view(-1,28*28)"
      ],
      "metadata": {
        "id": "gu-ez1Re5u-O"
      },
      "execution_count": 198,
      "outputs": []
    },
    {
      "cell_type": "code",
      "source": [
        "train_x.shape[0] == stacked_threes.shape[0] + stacked_sevens.shape[0]"
      ],
      "metadata": {
        "colab": {
          "base_uri": "https://localhost:8080/"
        },
        "id": "KnghTTjlGeh_",
        "outputId": "5b7c44c4-6275-43ef-fd87-8e0a5fbc22da"
      },
      "execution_count": 199,
      "outputs": [
        {
          "output_type": "execute_result",
          "data": {
            "text/plain": [
              "True"
            ]
          },
          "metadata": {},
          "execution_count": 199
        }
      ]
    },
    {
      "cell_type": "code",
      "source": [
        "train_x.shape[1] == stacked_threes.shape[1]*stacked_threes.shape[2]"
      ],
      "metadata": {
        "colab": {
          "base_uri": "https://localhost:8080/"
        },
        "outputId": "c1e7de2c-4fbf-4c79-e5c5-34a339024664",
        "id": "L__XVyPmG9aJ"
      },
      "execution_count": 200,
      "outputs": [
        {
          "output_type": "execute_result",
          "data": {
            "text/plain": [
              "True"
            ]
          },
          "metadata": {},
          "execution_count": 200
        }
      ]
    },
    {
      "cell_type": "code",
      "source": [
        "#we create the labels for each image 1 for 3s and 0 for 7s\n",
        "\n",
        "train_y = tensor([1]*len(threes) + [0]*len(sevens)).unsqueeze(1)\n",
        "train_x.shape, train_y.shape"
      ],
      "metadata": {
        "colab": {
          "base_uri": "https://localhost:8080/"
        },
        "id": "KsY5JMK9HGp2",
        "outputId": "ae520ed9-2725-493f-927c-b6fbae44f1b3"
      },
      "execution_count": 201,
      "outputs": [
        {
          "output_type": "execute_result",
          "data": {
            "text/plain": [
              "(torch.Size([12396, 784]), torch.Size([12396, 1]))"
            ]
          },
          "metadata": {},
          "execution_count": 201
        }
      ]
    },
    {
      "cell_type": "code",
      "source": [
        "#we create our training dataset which to each image associates a label\n",
        "dset = list(zip(train_x,train_y))\n",
        "x,y = dset[0]\n",
        "x.shape, y"
      ],
      "metadata": {
        "colab": {
          "base_uri": "https://localhost:8080/"
        },
        "id": "YmrPonwMG2Nk",
        "outputId": "ff4f9cd2-f1e9-419f-b0b9-103472d55bd8"
      },
      "execution_count": 202,
      "outputs": [
        {
          "output_type": "execute_result",
          "data": {
            "text/plain": [
              "(torch.Size([784]), tensor([1]))"
            ]
          },
          "metadata": {},
          "execution_count": 202
        }
      ]
    },
    {
      "cell_type": "code",
      "source": [
        "#we create our validation dataset in the same format\n",
        "\n",
        "valid_x = torch.cat([valid_tensor_3,valid_tensor_7]).view(-1,28*28)\n",
        "valid_y = tensor([1]*len(validation_set_3) + [0]*len(validation_set_7)).unsqueeze(1)\n",
        "valid_dset = list(zip(valid_x,valid_y))\n"
      ],
      "metadata": {
        "id": "wxj74gbBMYwf"
      },
      "execution_count": 203,
      "outputs": []
    },
    {
      "cell_type": "code",
      "source": [
        "#step-1 initialising the parameters\n",
        "\n",
        "def init_params(size, std=1.0):\n",
        "  return (torch.randn(size)*std).requires_grad_()"
      ],
      "metadata": {
        "id": "kKhuk4UCNThG"
      },
      "execution_count": 204,
      "outputs": []
    },
    {
      "cell_type": "code",
      "source": [
        "#defining the weights for one single image??\n",
        "weights = init_params((28*28,1))"
      ],
      "metadata": {
        "id": "N4qd1svkZWBj"
      },
      "execution_count": 205,
      "outputs": []
    },
    {
      "cell_type": "code",
      "source": [
        "bias = init_params(1)"
      ],
      "metadata": {
        "id": "8uCPnAuLNhab"
      },
      "execution_count": 206,
      "outputs": []
    },
    {
      "cell_type": "code",
      "source": [
        "#we can now calculate the prediction of one single image\n",
        "#w*X+b\n",
        "#In neural networks, the w in the equation y=w*x+b is called the weights, and the b is called the bias. Together, the weights and bias make up the parameters.\n",
        "(train_x[0]*weights.T).sum()+bias"
      ],
      "metadata": {
        "colab": {
          "base_uri": "https://localhost:8080/"
        },
        "id": "Ktyd04k3Zv3x",
        "outputId": "747ac068-72cb-4dd7-d768-f1283115e4ea"
      },
      "execution_count": 207,
      "outputs": [
        {
          "output_type": "execute_result",
          "data": {
            "text/plain": [
              "tensor([19.6227], grad_fn=<AddBackward0>)"
            ]
          },
          "metadata": {},
          "execution_count": 207
        }
      ]
    },
    {
      "cell_type": "code",
      "source": [
        "#while we could use python  for loop to calculate the prediction for all the image, that would be very slow because python loops don't run on GPU:nd because Python is a slow language for loops in general,\n",
        "#we need to represent as much of the computation in a model as possible using higher-level functions.\n",
        "#Matrix Multiplication is the most important mathematical operation in deep learning.\n",
        "#In Python, matrix multiplication is represented with the @ operator. Let's try it:\n",
        "\n",
        "\n",
        "def linear1(xb):\n",
        "  return xb@weights + bias\n"
      ],
      "metadata": {
        "id": "gWdbQEYnaJeC"
      },
      "execution_count": 208,
      "outputs": []
    },
    {
      "cell_type": "code",
      "source": [
        "#this takes the whole training tensor made up of 12396 vectors of 784 representing each an image and multiplies it with the weight vector --- broadcasting\n",
        "#and adds for each the bias, we get a rank-2 tensor as well with the prediction for each images\n",
        "preds = linear1(train_x)\n",
        "preds"
      ],
      "metadata": {
        "colab": {
          "base_uri": "https://localhost:8080/"
        },
        "id": "LTT4UYy5cszL",
        "outputId": "1558307e-4eb1-4736-c148-dcd0d7ab18b3"
      },
      "execution_count": 209,
      "outputs": [
        {
          "output_type": "execute_result",
          "data": {
            "text/plain": [
              "tensor([[19.6227],\n",
              "        [12.4130],\n",
              "        [ 0.1864],\n",
              "        ...,\n",
              "        [-0.6078],\n",
              "        [ 6.4030],\n",
              "        [ 5.1042]], grad_fn=<AddBackward0>)"
            ]
          },
          "metadata": {},
          "execution_count": 209
        }
      ]
    },
    {
      "cell_type": "code",
      "source": [
        "#checking our accuracy\n",
        "\n",
        "correctly_predicted = (preds>0.0).float() == train_y\n",
        "correctly_predicted"
      ],
      "metadata": {
        "colab": {
          "base_uri": "https://localhost:8080/"
        },
        "id": "RcJbrPLcdG0Q",
        "outputId": "d24f00a7-12ac-4a24-fc84-35455348c1f7"
      },
      "execution_count": 210,
      "outputs": [
        {
          "output_type": "execute_result",
          "data": {
            "text/plain": [
              "tensor([[ True],\n",
              "        [ True],\n",
              "        [ True],\n",
              "        ...,\n",
              "        [ True],\n",
              "        [False],\n",
              "        [False]])"
            ]
          },
          "metadata": {},
          "execution_count": 210
        }
      ]
    },
    {
      "cell_type": "code",
      "source": [
        "#accuracy\n",
        "correctly_predicted.float().mean()\n",
        "#our accuracy is 0.5--- > which is basically  equal to a random experiment"
      ],
      "metadata": {
        "colab": {
          "base_uri": "https://localhost:8080/"
        },
        "id": "5UT4BlVmdpZs",
        "outputId": "b8c9d636-7fa3-4d13-f5ca-68454ed2f426"
      },
      "execution_count": 211,
      "outputs": [
        {
          "output_type": "execute_result",
          "data": {
            "text/plain": [
              "tensor(0.4875)"
            ]
          },
          "metadata": {},
          "execution_count": 211
        }
      ]
    },
    {
      "cell_type": "code",
      "source": [
        "#now we need a loss function to calculate the gradient as they measure how this loss function changes if we tweak the weights\n",
        "#The gradient of a function is its slope, or its steepness, which can be defined as rise over run—that is, how much the value of the function goes up or down, divided by how much we changed the input. We can write this in mathematically as: (y_new - y_old) / (x_new - x_old).\n",
        "#A very small change in the value of a weight will often not actually change the accuracy at all. This means it is not useful to use accuracy as a loss function—if we do, most of the time our gradients will actually be 0, and the model will not be able to learn from that number.\n",
        "#In mathematical terms, accuracy is a function that is constant almost everywhere (except at the threshold, 0.5), so its derivative is nil almost everywhere (and infinity at the threshold). This then gives gradients that are 0 or infinite, which are useless for updating the model."
      ],
      "metadata": {
        "id": "8saBvNSOeOgx"
      },
      "execution_count": 212,
      "outputs": []
    },
    {
      "cell_type": "markdown",
      "source": [
        "The loss function receives not the images themselves, but the predictions from the model. Let's make one argument, prds, of values between 0 and 1, where each value is the prediction that an image is a 3. It is a vector (i.e., a rank-1 tensor), indexed over the images.The purpose of the loss function is to measure the difference between predicted values and the true values — that is, the targets (aka labels). Let's make another argument, trgts, with values of 0 or 1 which tells whether an image actually is a 3 or not. It is also a vector (i.e., another rank-1 tensor), indexed over the images.\n",
        "\n",
        "One problem with mnist_loss as currently defined is that it assumes that predictions are always between 0 and 1. We need to ensure, then, that this is actually the case! As it happens, there is a function that does exactly that—let's take a look.The sigmoid function always outputs a number between 0 and 1. It's defined as follows:Pytorch defines an accelerated version for us, so we don’t really need our own. This is an important function in deep learning, since we often want to ensure values are between 0 and 1. This is what it looks like:"
      ],
      "metadata": {
        "id": "3_CUpMeLjBk7"
      }
    },
    {
      "cell_type": "markdown",
      "source": [
        "**The key difference is that the metric is to drive human understanding and the loss is to drive automated learning**\n",
        "To drive automated learning, the loss must be a function that has a meaningful derivative. It can't have big flat sections and large jumps, but instead must be reasonably smooth. This is why we designed a loss function that would respond to small changes in confidence level.Metrics, on the other hand, are the numbers that we really care about. These are the values that are printed at the end of each epoch that tell us how our model is really doing. It is important that we learn to focus on these metrics, rather than the loss, when judging the performance of a model.\n",
        "\n",
        "\n",
        "Now that we have a loss function that is suitable for driving SGD, we can consider some of the details involved in the next phase of the learning process, which is to change or update the weights based on the gradients--- this is the optimization step\n",
        "\n",
        "\n",
        "\n"
      ],
      "metadata": {
        "id": "-shrYzZ-xtdE"
      }
    },
    {
      "cell_type": "markdown",
      "source": [
        "So instead we take a compromise between the two: we calculate the average loss for a few data items at a time. This is called a mini-batch. The number of data items in the mini-batch is called the batch size. so we take a couple of images like 20 of them we calculate the loss for each of thema and average it over 20\n",
        "A larger batch size means that you will get a more accurate and stable estimate of your dataset's gradients from the loss function, but it will take longer, and you will process fewer mini-batches per epoch.  an Epoch is a complete run through of the dataset.Choosing a good batch size is one of the decisions you need to make as a deep learning practitioner to train your model quickly and accurately. We will talk about how to make this choice throughout this book.Another good reason for using mini-batches rather than calculating the gradient on individual data items is that, in practice, we nearly always do our training on an accelerator such as a GPU. These accelerators only perform well if they have lots of work to do at a time, so it's helpful if we can give them lots of data items to work on.\n",
        "\n",
        "Rather than simply enumerating our dataset in order for every epoch, instead what we normally do is randomly shuffle it on every epoch, before we create mini-batches. PyTorch and fastai provide a class that will do the shuffling and mini-batch collation for you, called DataLoader.\n",
        "\n",
        "A DataLoader can take any Python collection and turn it into an iterator over mini-batches, like so:"
      ],
      "metadata": {
        "id": "07THGcUMdZ4t"
      }
    },
    {
      "cell_type": "code",
      "source": [
        "coll = range(15)\n",
        "dl = DataLoader(coll, batch_size=5, shuffle = True)\n",
        "list(dl)"
      ],
      "metadata": {
        "colab": {
          "base_uri": "https://localhost:8080/"
        },
        "id": "J9qNSNfqxs-u",
        "outputId": "0f724f39-b376-413e-bee8-d7d18bb599c7"
      },
      "execution_count": 213,
      "outputs": [
        {
          "output_type": "execute_result",
          "data": {
            "text/plain": [
              "[tensor([ 0,  7,  4,  5, 11]),\n",
              " tensor([ 9,  3,  8, 14,  6]),\n",
              " tensor([12,  2,  1, 10, 13])]"
            ]
          },
          "metadata": {},
          "execution_count": 213
        }
      ]
    },
    {
      "cell_type": "markdown",
      "source": [
        "A collection that contains tuples of independent and dependent variables is known in PyTorch as a Dataset."
      ],
      "metadata": {
        "id": "VetXgl-4pvF3"
      }
    },
    {
      "cell_type": "markdown",
      "source": [
        ""
      ],
      "metadata": {
        "id": "ws1rREhqpt3P"
      }
    },
    {
      "cell_type": "code",
      "source": [
        "#dataset is a collection of tuples of tensors in one tuple we have an image and its label\n",
        "dset[0]"
      ],
      "metadata": {
        "colab": {
          "base_uri": "https://localhost:8080/"
        },
        "id": "Iil2Aj4bpten",
        "outputId": "638fea41-4845-483f-dd0c-22b485490a2f"
      },
      "execution_count": 214,
      "outputs": [
        {
          "output_type": "execute_result",
          "data": {
            "text/plain": [
              "(tensor([0.0000, 0.0000, 0.0000, 0.0000, 0.0000, 0.0000, 0.0000, 0.0000, 0.0000, 0.0000, 0.0000, 0.0000, 0.0000, 0.0000, 0.0000, 0.0000, 0.0000, 0.0000, 0.0000, 0.0000, 0.0000, 0.0000, 0.0000, 0.0000,\n",
              "         0.0000, 0.0000, 0.0000, 0.0000, 0.0000, 0.0000, 0.0000, 0.0000, 0.0000, 0.0000, 0.0000, 0.0000, 0.0000, 0.0000, 0.0000, 0.0000, 0.0000, 0.0000, 0.0000, 0.0000, 0.0000, 0.0000, 0.0000, 0.0000,\n",
              "         0.0000, 0.0000, 0.0000, 0.0000, 0.0000, 0.0000, 0.0000, 0.0000, 0.0000, 0.0000, 0.0000, 0.0000, 0.0000, 0.0000, 0.0000, 0.0000, 0.0000, 0.0000, 0.0000, 0.0000, 0.0000, 0.0000, 0.0000, 0.0000,\n",
              "         0.0000, 0.0000, 0.0000, 0.0000, 0.0000, 0.0000, 0.0000, 0.0000, 0.0000, 0.0000, 0.0000, 0.0000, 0.0000, 0.0000, 0.0000, 0.0000, 0.0000, 0.0000, 0.0000, 0.0000, 0.0000, 0.0000, 0.0000, 0.0000,\n",
              "         0.0000, 0.0000, 0.0000, 0.0000, 0.0000, 0.0000, 0.0000, 0.0000, 0.0000, 0.0000, 0.0000, 0.0000, 0.0000, 0.0000, 0.0000, 0.0000, 0.0000, 0.0000, 0.0000, 0.0000, 0.0000, 0.0000, 0.0000, 0.0000,\n",
              "         0.0000, 0.0000, 0.0000, 0.1647, 0.4627, 0.8588, 0.6510, 0.4627, 0.4627, 0.0235, 0.0000, 0.0000, 0.0000, 0.0000, 0.0000, 0.0000, 0.0000, 0.0000, 0.0000, 0.0000, 0.0000, 0.0000, 0.0000, 0.0000,\n",
              "         0.0000, 0.0000, 0.0000, 0.0000, 0.0000, 0.0000, 0.4039, 0.9490, 0.9961, 0.9961, 0.9961, 0.9961, 0.9961, 0.2588, 0.0000, 0.0000, 0.0000, 0.0000, 0.0000, 0.0000, 0.0000, 0.0000, 0.0000, 0.0000,\n",
              "         0.0000, 0.0000, 0.0000, 0.0000, 0.0000, 0.0000, 0.0000, 0.0000, 0.0000, 0.0000, 0.0706, 0.9098, 0.9961, 0.9961, 0.9961, 0.9961, 0.9961, 0.9333, 0.2745, 0.0000, 0.0000, 0.0000, 0.0000, 0.0000,\n",
              "         0.0000, 0.0000, 0.0000, 0.0000, 0.0000, 0.0000, 0.0000, 0.0000, 0.0000, 0.0000, 0.0000, 0.0000, 0.0000, 0.0000, 0.0000, 0.4078, 0.9569, 0.9961, 0.8784, 0.9961, 0.9961, 0.9961, 0.5529, 0.0000,\n",
              "         0.0000, 0.0000, 0.0000, 0.0000, 0.0000, 0.0000, 0.0000, 0.0000, 0.0000, 0.0000, 0.0000, 0.0000, 0.0000, 0.0000, 0.0000, 0.0000, 0.0000, 0.0000, 0.0000, 0.0000, 0.8118, 0.9961, 0.8235, 0.9961,\n",
              "         0.9961, 0.9961, 0.1333, 0.0000, 0.0000, 0.0000, 0.0000, 0.0000, 0.0000, 0.0000, 0.0000, 0.0000, 0.0000, 0.0000, 0.0000, 0.0000, 0.0000, 0.0000, 0.0000, 0.0000, 0.0000, 0.0000, 0.0000, 0.0000,\n",
              "         0.3294, 0.8078, 0.9961, 0.9961, 0.9961, 0.9961, 0.1608, 0.0000, 0.0000, 0.0000, 0.0000, 0.0000, 0.0000, 0.0000, 0.0000, 0.0000, 0.0000, 0.0000, 0.0000, 0.0000, 0.0000, 0.0000, 0.0000, 0.0000,\n",
              "         0.0000, 0.0000, 0.0000, 0.0000, 0.0000, 0.0941, 0.8196, 0.9961, 0.9961, 0.9961, 0.6706, 0.0000, 0.0000, 0.0000, 0.0000, 0.0000, 0.0000, 0.0000, 0.0000, 0.0000, 0.0000, 0.0000, 0.0000, 0.0000,\n",
              "         0.0000, 0.0000, 0.0000, 0.0000, 0.0000, 0.0000, 0.0000, 0.0000, 0.3569, 0.5373, 0.9922, 0.9961, 0.9961, 0.9961, 0.4392, 0.0000, 0.0000, 0.0000, 0.0000, 0.0000, 0.0000, 0.0000, 0.0000, 0.0000,\n",
              "         0.0000, 0.0000, 0.0000, 0.0000, 0.0000, 0.0000, 0.0000, 0.0000, 0.0000, 0.0000, 0.1569, 0.8392, 0.9804, 0.9961, 0.9961, 0.9961, 0.9961, 0.9961, 0.1333, 0.0000, 0.0000, 0.0000, 0.0000, 0.0000,\n",
              "         0.0000, 0.0000, 0.0000, 0.0000, 0.0000, 0.0000, 0.0000, 0.0000, 0.0000, 0.0000, 0.0000, 0.0000, 0.0000, 0.0000, 0.3176, 0.9686, 0.9961, 0.9961, 0.9961, 0.9961, 0.9961, 0.9961, 0.5725, 0.0000,\n",
              "         0.0000, 0.0000, 0.0000, 0.0000, 0.0000, 0.0000, 0.0000, 0.0000, 0.0000, 0.0000, 0.0000, 0.0000, 0.0000, 0.0000, 0.0000, 0.0000, 0.0000, 0.0000, 0.0000, 0.4314, 0.9647, 0.9961, 0.9961, 0.9961,\n",
              "         0.9961, 0.9961, 0.6706, 0.0000, 0.0000, 0.0000, 0.0000, 0.0000, 0.0000, 0.0000, 0.0000, 0.0000, 0.0000, 0.0000, 0.0000, 0.0000, 0.0000, 0.0000, 0.0000, 0.0000, 0.0000, 0.0000, 0.0000, 0.0000,\n",
              "         0.2863, 0.3490, 0.3490, 0.3647, 0.9412, 0.9961, 0.6706, 0.0000, 0.0000, 0.0000, 0.0000, 0.0000, 0.0000, 0.0000, 0.0000, 0.0000, 0.0000, 0.0000, 0.0000, 0.0000, 0.0000, 0.0000, 0.0000, 0.0000,\n",
              "         0.0000, 0.0000, 0.0000, 0.0000, 0.0000, 0.0000, 0.0000, 0.0039, 0.5020, 0.9961, 0.8588, 0.1216, 0.0000, 0.0000, 0.0000, 0.0000, 0.0000, 0.0000, 0.0000, 0.0000, 0.0000, 0.0000, 0.0000, 0.0000,\n",
              "         0.0000, 0.0000, 0.0000, 0.0000, 0.0000, 0.0000, 0.0000, 0.0000, 0.0000, 0.0000, 0.0000, 0.0275, 0.9961, 0.9961, 0.8392, 0.1098, 0.0000, 0.0000, 0.0000, 0.0000, 0.0000, 0.0000, 0.0000, 0.0000,\n",
              "         0.0000, 0.0000, 0.0000, 0.0000, 0.0000, 0.0000, 0.0000, 0.0000, 0.0000, 0.0000, 0.0000, 0.0000, 0.0000, 0.0000, 0.0000, 0.5412, 0.9961, 0.9961, 0.4549, 0.0000, 0.0000, 0.0000, 0.0000, 0.0000,\n",
              "         0.0000, 0.0000, 0.0000, 0.0000, 0.0000, 0.0000, 0.0000, 0.0000, 0.0000, 0.0000, 0.0745, 0.6941, 0.3529, 0.0000, 0.0000, 0.0000, 0.0000, 0.0000, 0.0980, 0.9412, 0.9961, 0.9961, 0.1333, 0.0000,\n",
              "         0.0000, 0.0000, 0.0000, 0.0000, 0.0000, 0.0000, 0.0000, 0.0000, 0.0000, 0.0000, 0.0000, 0.0000, 0.0000, 0.0000, 0.6431, 0.9961, 0.8431, 0.2471, 0.1412, 0.0000, 0.2000, 0.3490, 0.8078, 0.9961,\n",
              "         0.9961, 0.5451, 0.0314, 0.0000, 0.0000, 0.0000, 0.0000, 0.0000, 0.0000, 0.0000, 0.0000, 0.0000, 0.0000, 0.0000, 0.0000, 0.0000, 0.0000, 0.0000, 0.2235, 0.7725, 0.9961, 0.9961, 0.8706, 0.7059,\n",
              "         0.9451, 0.9961, 0.9961, 0.9922, 0.8353, 0.0431, 0.0000, 0.0000, 0.0000, 0.0000, 0.0000, 0.0000, 0.0000, 0.0000, 0.0000, 0.0000, 0.0000, 0.0000, 0.0000, 0.0000, 0.0000, 0.0000, 0.0000, 0.5490,\n",
              "         0.4118, 0.9961, 0.9961, 0.9961, 0.9961, 0.9961, 0.9961, 0.9255, 0.0000, 0.0000, 0.0000, 0.0000, 0.0000, 0.0000, 0.0000, 0.0000, 0.0000, 0.0000, 0.0000, 0.0000, 0.0000, 0.0000, 0.0000, 0.0000,\n",
              "         0.0000, 0.0000, 0.0000, 0.0000, 0.0275, 0.4588, 0.4588, 0.6471, 0.9961, 0.9961, 0.9373, 0.1961, 0.0000, 0.0000, 0.0000, 0.0000, 0.0000, 0.0000, 0.0000, 0.0000, 0.0000, 0.0000, 0.0000, 0.0000,\n",
              "         0.0000, 0.0000, 0.0000, 0.0000, 0.0000, 0.0000, 0.0000, 0.0000, 0.0000, 0.0000, 0.0000, 0.0000, 0.0000, 0.0000, 0.0000, 0.0000, 0.0000, 0.0000, 0.0000, 0.0000, 0.0000, 0.0000, 0.0000, 0.0000,\n",
              "         0.0000, 0.0000, 0.0000, 0.0000, 0.0000, 0.0000, 0.0000, 0.0000, 0.0000, 0.0000, 0.0000, 0.0000, 0.0000, 0.0000, 0.0000, 0.0000, 0.0000, 0.0000, 0.0000, 0.0000, 0.0000, 0.0000, 0.0000, 0.0000,\n",
              "         0.0000, 0.0000, 0.0000, 0.0000, 0.0000, 0.0000, 0.0000, 0.0000, 0.0000, 0.0000, 0.0000, 0.0000, 0.0000, 0.0000, 0.0000, 0.0000, 0.0000, 0.0000, 0.0000, 0.0000, 0.0000, 0.0000, 0.0000, 0.0000,\n",
              "         0.0000, 0.0000, 0.0000, 0.0000, 0.0000, 0.0000, 0.0000, 0.0000, 0.0000, 0.0000, 0.0000, 0.0000, 0.0000, 0.0000, 0.0000, 0.0000, 0.0000, 0.0000, 0.0000, 0.0000, 0.0000, 0.0000, 0.0000, 0.0000,\n",
              "         0.0000, 0.0000, 0.0000, 0.0000, 0.0000, 0.0000, 0.0000, 0.0000, 0.0000, 0.0000, 0.0000, 0.0000, 0.0000, 0.0000, 0.0000, 0.0000]),\n",
              " tensor([1]))"
            ]
          },
          "metadata": {},
          "execution_count": 214
        }
      ]
    },
    {
      "cell_type": "code",
      "source": [
        "#Puting it all together\n",
        "\n",
        "#itialising weights \n",
        "weights = init_params((28*28,1))\n",
        "bias= init_params(1)"
      ],
      "metadata": {
        "id": "NwQVBKozrVXS"
      },
      "execution_count": 215,
      "outputs": []
    },
    {
      "cell_type": "code",
      "source": [
        "def mnist_loss(predictions, targets):\n",
        "    return torch.where(targets==1, 1-predictions, predictions).mean()#create a DataLoader for training set --- for creating mini-batches out of dataset\n",
        "dl = DataLoader(dset, batch_size=256)\n",
        "xb,yb = first(dl)\n",
        "xb.shape, yb.shape"
      ],
      "metadata": {
        "colab": {
          "base_uri": "https://localhost:8080/"
        },
        "id": "LKY7C8pJr0gm",
        "outputId": "797b7cb2-4ac2-418f-83ff-01e963d54ea0"
      },
      "execution_count": 216,
      "outputs": [
        {
          "output_type": "execute_result",
          "data": {
            "text/plain": [
              "(torch.Size([256, 784]), torch.Size([256, 1]))"
            ]
          },
          "metadata": {},
          "execution_count": 216
        }
      ]
    },
    {
      "cell_type": "code",
      "source": [
        "#create DataLoader  for validation set\n",
        "\n",
        "valid_dl = DataLoader(valid_dset,batch_size=256)"
      ],
      "metadata": {
        "id": "XqHZkI5esNsa"
      },
      "execution_count": 217,
      "outputs": []
    },
    {
      "cell_type": "code",
      "source": [
        "#let's create a mini-batch of size 4 for testing\n",
        "\n",
        "batch_4 = train_x[:4]\n",
        "batch_4.shape"
      ],
      "metadata": {
        "colab": {
          "base_uri": "https://localhost:8080/"
        },
        "id": "OlDlHsBXtDRH",
        "outputId": "e8185949-cb11-418d-fe6d-18096bac8c57"
      },
      "execution_count": 218,
      "outputs": [
        {
          "output_type": "execute_result",
          "data": {
            "text/plain": [
              "torch.Size([4, 784])"
            ]
          },
          "metadata": {},
          "execution_count": 218
        }
      ]
    },
    {
      "cell_type": "code",
      "source": [
        "#let's perform predictions on our mini patch\n",
        "#it's gonna return the prediction for each of the images in the batch\n",
        "preds = linear1(batch_4)\n",
        "preds\n",
        "#shouldn't we make sure that the predictions are between 0 and 1 ? by using the sigmoid?"
      ],
      "metadata": {
        "colab": {
          "base_uri": "https://localhost:8080/"
        },
        "id": "zxQfwhYptYh8",
        "outputId": "314f3827-52ee-44f9-a0a4-d983db3de324"
      },
      "execution_count": 219,
      "outputs": [
        {
          "output_type": "execute_result",
          "data": {
            "text/plain": [
              "tensor([[-4.4922],\n",
              "        [-6.5688],\n",
              "        [-7.9150],\n",
              "        [ 1.6136]], grad_fn=<AddBackward0>)"
            ]
          },
          "metadata": {},
          "execution_count": 219
        }
      ]
    },
    {
      "cell_type": "code",
      "source": [
        "#squishes the function between 0 and 1\n",
        "def sigmoid(x): return 1/(1+torch.exp(-x))\n",
        "\n",
        "def mnist_loss(predictions, targets):\n",
        "    predictions = predictions.sigmoid()\n",
        "    return torch.where(targets==1, 1-predictions, predictions).mean()"
      ],
      "metadata": {
        "id": "lQ9z0hgRwk-h"
      },
      "execution_count": 220,
      "outputs": []
    },
    {
      "cell_type": "code",
      "source": [
        "#calculate the average loss for this mini-batch\n",
        "\n",
        "loss = mnist_loss(preds, train_y[:4])\n",
        "loss"
      ],
      "metadata": {
        "colab": {
          "base_uri": "https://localhost:8080/"
        },
        "id": "6hnxMwAiv7-8",
        "outputId": "a36508a6-6315-483f-a6b8-f133e3313a57"
      },
      "execution_count": 221,
      "outputs": [
        {
          "output_type": "execute_result",
          "data": {
            "text/plain": [
              "tensor(0.7883, grad_fn=<MeanBackward0>)"
            ]
          },
          "metadata": {},
          "execution_count": 221
        }
      ]
    },
    {
      "cell_type": "code",
      "source": [
        "#calculate the gradients for all of the pixels for all of the images of the mini_batch\n",
        "#we can do this because when initialising the parameters we already indicated that they would require gradient calculation later\n",
        "loss.backward()\n",
        "weights.grad.shape, weights.grad.mean(),bias.grad"
      ],
      "metadata": {
        "colab": {
          "base_uri": "https://localhost:8080/"
        },
        "id": "rovRGPBoxZMA",
        "outputId": "7364364c-2851-4c80-e3f0-2dde78eded26"
      },
      "execution_count": 222,
      "outputs": [
        {
          "output_type": "execute_result",
          "data": {
            "text/plain": [
              "(torch.Size([784, 1]), tensor(-0.0065), tensor([-0.0378]))"
            ]
          },
          "metadata": {},
          "execution_count": 222
        }
      ]
    },
    {
      "cell_type": "code",
      "source": [
        "#puting all in a function\n",
        "\n",
        "def calc_grad (xb,yb,model):\n",
        "  preds = model(xb)\n",
        "  loss = mnist_loss(preds,yb)\n",
        "  loss.backward()"
      ],
      "metadata": {
        "id": "EmB19LX13ysV"
      },
      "execution_count": 223,
      "outputs": []
    },
    {
      "cell_type": "code",
      "source": [
        "calc_grad(batch_4,train_y[:4],linear1)\n",
        "weights.grad.mean(), bias.grad"
      ],
      "metadata": {
        "colab": {
          "base_uri": "https://localhost:8080/"
        },
        "id": "YbaWB5Hs4DHw",
        "outputId": "a4ac0183-8c63-49bf-e906-3eff91461c3b"
      },
      "execution_count": 224,
      "outputs": [
        {
          "output_type": "execute_result",
          "data": {
            "text/plain": [
              "(tensor(-0.0131), tensor([-0.0756]))"
            ]
          },
          "metadata": {},
          "execution_count": 224
        }
      ]
    },
    {
      "cell_type": "code",
      "source": [
        "#we have to set the the current gradient to 0 first before calculating the gradients again otherwise they\n",
        "#will be added up to the existing ones\n",
        "# inplace operations in pytorch finish with and  _\n",
        "weights.grad.zero_()\n",
        "bias.grad.zero_()\n",
        "#now we have to update our weights with the appropriate learning rate"
      ],
      "metadata": {
        "colab": {
          "base_uri": "https://localhost:8080/"
        },
        "id": "P40UwlPA4kJY",
        "outputId": "872609d9-9f62-4e46-ac2f-df3094469cbf"
      },
      "execution_count": 225,
      "outputs": [
        {
          "output_type": "execute_result",
          "data": {
            "text/plain": [
              "tensor([0.])"
            ]
          },
          "metadata": {},
          "execution_count": 225
        }
      ]
    },
    {
      "cell_type": "code",
      "source": [
        "#here is the training for an epoch\n",
        "#one weight vector for a batch\n",
        "#params are weights and bias (initial)\n",
        "def train_epoch(model, lr, params):\n",
        "  #for every batch in the data loader\n",
        "  for(xb,yb) in dl:\n",
        "    calc_grad(xb,yb,model)\n",
        "    for p in params:\n",
        "      p.data -=p.grad*lr\n",
        "      p.grad.zero_()\n",
        "\n",
        "def batch_accuracy(xb,yb):\n",
        "  preds = xb.sigmoid()\n",
        "  correct = (preds>0.5).float() == yb\n",
        "  return correct.float().mean()\n",
        "#put all the ebatches together\n",
        "def validate_epoch(model):\n",
        "  accs= [batch_accuracy(model(xb),yb) for xb,yb in valid_dl]\n",
        "  return round(torch.stack(accs).mean().item(),4)\n"
      ],
      "metadata": {
        "id": "5OcMGaNd5G9j"
      },
      "execution_count": 226,
      "outputs": []
    },
    {
      "cell_type": "code",
      "source": [
        "validate_epoch(linear1)"
      ],
      "metadata": {
        "colab": {
          "base_uri": "https://localhost:8080/"
        },
        "id": "2MOA0QVy8Cq3",
        "outputId": "2cdf423e-6eb1-495e-c0d8-56bd82504c37"
      },
      "execution_count": 227,
      "outputs": [
        {
          "output_type": "execute_result",
          "data": {
            "text/plain": [
              "0.4734"
            ]
          },
          "metadata": {},
          "execution_count": 227
        }
      ]
    },
    {
      "cell_type": "code",
      "source": [
        "#choose the learning rate\n",
        "lr=1.\n",
        "#initialise the weights and bias\n",
        "params=weights,bias\n",
        "#train for a full epoch == modify the the weights once for all the batches of an epoch\n",
        "train_epoch(linear1,lr,params)\n",
        "#check how good the model is - against the validation dataset at this level after having modified all the weights\n",
        "validate_epoch(linear1)"
      ],
      "metadata": {
        "colab": {
          "base_uri": "https://localhost:8080/"
        },
        "id": "OGaCn9MA8Y1h",
        "outputId": "4abfb9c2-5a67-46d2-9190-85fe559ff252"
      },
      "execution_count": 228,
      "outputs": [
        {
          "output_type": "execute_result",
          "data": {
            "text/plain": [
              "0.5945"
            ]
          },
          "metadata": {},
          "execution_count": 228
        }
      ]
    },
    {
      "cell_type": "code",
      "source": [
        "#now repeat this over an over --- many epoch --at every epoch , shuffle and redistribute the batches\n",
        "#for now simply repeat on the same batch distribution\n",
        "\n",
        "for i in range(20):\n",
        "  train_epoch(linear1,lr,params)\n",
        "  print(validate_epoch(linear1), end=\" \")"
      ],
      "metadata": {
        "colab": {
          "base_uri": "https://localhost:8080/"
        },
        "id": "o-ADjSvX9vDq",
        "outputId": "502c0584-e9ea-4d16-f990-3e6ce4c6bc0b"
      },
      "execution_count": 229,
      "outputs": [
        {
          "output_type": "stream",
          "name": "stdout",
          "text": [
            "0.7996 0.8816 0.9104 0.9285 0.9363 0.9461 0.9495 0.9529 0.9559 0.9578 0.9593 0.9603 0.9603 0.9612 0.9632 0.9632 0.9642 0.9647 0.9661 0.9666 "
          ]
        }
      ]
    },
    {
      "cell_type": "code",
      "source": [
        "#now we create and OPTIMIZER --- which is simply a fancy name for function that handles the SGD for us"
      ],
      "metadata": {
        "id": "rm5jb3dZ-Q5a"
      },
      "execution_count": 230,
      "outputs": []
    },
    {
      "cell_type": "markdown",
      "source": [
        "The first thing we can do is replace our linear1 function with PyTorch's nn.Linear module. A module is an object of a class that inherits from the PyTorch nn.Module class. Objects of this class behave identically to standard Python functions, in that you can call them using parentheses and they will return the activations of a model.\n",
        "\n",
        "nn.Linear does the same thing as our init_params and linear together. It contains both the weights and biases in a single class\n",
        "\n",
        "so nn.Linear initialises the weights and bias and creates a linear model to approximate our image, so there is a linear function between an image and it's class and tweaking the parameters will help us approximate that function so we start by randomly attributing the weights\n"
      ],
      "metadata": {
        "id": "cXRdzaZpByMi"
      }
    },
    {
      "cell_type": "code",
      "source": [
        "linear_model = nn.Linear(28*28,1)\n",
        "w,b =linear_model.parameters()\n",
        "w.shape, b.shape"
      ],
      "metadata": {
        "colab": {
          "base_uri": "https://localhost:8080/"
        },
        "id": "TWINR6xOCVQw",
        "outputId": "c5e1b158-04d9-47f2-9fda-0471ccaa385a"
      },
      "execution_count": 231,
      "outputs": [
        {
          "output_type": "execute_result",
          "data": {
            "text/plain": [
              "(torch.Size([1, 784]), torch.Size([1]))"
            ]
          },
          "metadata": {},
          "execution_count": 231
        }
      ]
    },
    {
      "cell_type": "code",
      "source": [
        "class BasicOptimzer:\n",
        "  def __init__(self,params,lr):\n",
        "    self.params, self.lr  = list(params),lr\n",
        "  def step(self,*args,**kwargs):\n",
        "    for p in self.params :\n",
        "      p.data -= p.grad.data * self.lr\n",
        "  def zero_grad(self,*args,**kwargs):\n",
        "    for p in self.params: p.grad = None"
      ],
      "metadata": {
        "id": "A9fuXnzjCndi"
      },
      "execution_count": 232,
      "outputs": []
    },
    {
      "cell_type": "code",
      "source": [
        "#now we can create an optimzer and use it in our epoch training\n",
        "#of course fastai and pytorch have inbuilt optmizers that we can use ---- > basically calculat the step, adjust the weights and reinitialises them for the next step\n",
        "optimizer = BasicOptimzer(linear_model.parameters(),lr)"
      ],
      "metadata": {
        "id": "Y8X666ZLFcMr"
      },
      "execution_count": 233,
      "outputs": []
    },
    {
      "cell_type": "code",
      "source": [
        "#we redefine train_epoch to use the optimizer\n",
        "def train_epoch(model):\n",
        "  #for every batch in the data loader\n",
        "  for(xb,yb) in dl:\n",
        "    calc_grad(xb,yb,model)\n",
        "    optimizer.step()\n",
        "    optimizer.zero_grad()"
      ],
      "metadata": {
        "id": "nzKs7QkCGzAD"
      },
      "execution_count": 234,
      "outputs": []
    },
    {
      "cell_type": "code",
      "source": [
        "validate_epoch(linear_model)"
      ],
      "metadata": {
        "colab": {
          "base_uri": "https://localhost:8080/"
        },
        "id": "SFxrK_LaHO0l",
        "outputId": "c286d9b8-1066-461c-87fc-864e6a54ebba"
      },
      "execution_count": 235,
      "outputs": [
        {
          "output_type": "execute_result",
          "data": {
            "text/plain": [
              "0.5465"
            ]
          },
          "metadata": {},
          "execution_count": 235
        }
      ]
    },
    {
      "cell_type": "code",
      "source": [
        "#define a general function that is going to train the model over a given number of epochs\n",
        "def train_model(model, epochs):\n",
        "  for i in range(epochs):\n",
        "    train_epoch(model)\n",
        "    print(validate_epoch(model), end=' ')"
      ],
      "metadata": {
        "id": "LA4V79DGHVF4"
      },
      "execution_count": 236,
      "outputs": []
    },
    {
      "cell_type": "code",
      "source": [
        "train_model(linear_model,20)"
      ],
      "metadata": {
        "colab": {
          "base_uri": "https://localhost:8080/"
        },
        "id": "JHfVXUwpH79G",
        "outputId": "e3f05bb6-0551-4d32-a00b-e7f0ad87ffaf"
      },
      "execution_count": 237,
      "outputs": [
        {
          "output_type": "stream",
          "name": "stdout",
          "text": [
            "0.4932 0.7725 0.8594 0.9189 0.9365 0.9512 0.9585 0.9638 0.9663 0.9677 0.9702 0.9721 0.9741 0.9755 0.976 0.9765 0.978 0.978 0.978 0.9785 "
          ]
        }
      ]
    },
    {
      "cell_type": "code",
      "source": [
        "#fastai also provides a function for training the model out of the box so that we don't need to \n",
        "#rewrite them, for that we need a data loader \n",
        "#A Data loader takes the training set as well as the validation set  and create minibatches\n",
        "#dl = dl = DataLoader(dset, batch_size=256)------->\n",
        "#valid_dl = DataLoader(valid_dset,batch_size=256)------>\n",
        "#valid_x = torch.cat([valid_tensor_3,valid_tensor_7]).view(-1,28*28)\n",
        "#valid_y = tensor([1]*len(validation_set_3) + [0]*len(validation_set_7)).unsqueeze(1)\n",
        "#valid_dset = list(zip(valid_x,valid_y))\n",
        "#dset = list(zip(train_x,train_y))\n",
        "#beware DataLoaders takes the training and validation and DataLoader just one and creates batches\n",
        "dls = DataLoaders(dl , valid_dl)"
      ],
      "metadata": {
        "id": "2v6S9qBgIqaa"
      },
      "execution_count": 238,
      "outputs": []
    },
    {
      "cell_type": "code",
      "source": [
        "#create a learner \n",
        "\n",
        "learn = Learner(dls,nn.Linear(28*28,1),opt_func=SGD, loss_func=mnist_loss, metrics=batch_accuracy )"
      ],
      "metadata": {
        "id": "4r4b1XLSPxxL"
      },
      "execution_count": 239,
      "outputs": []
    },
    {
      "cell_type": "code",
      "source": [
        "learn.fit(10,lr=lr)"
      ],
      "metadata": {
        "colab": {
          "base_uri": "https://localhost:8080/",
          "height": 363
        },
        "id": "bO5An9tOQhIP",
        "outputId": "bccf2716-747f-4ab7-fc97-17132da1e919"
      },
      "execution_count": 240,
      "outputs": [
        {
          "output_type": "display_data",
          "data": {
            "text/plain": [
              "<IPython.core.display.HTML object>"
            ],
            "text/html": [
              "\n",
              "<style>\n",
              "    /* Turns off some styling */\n",
              "    progress {\n",
              "        /* gets rid of default border in Firefox and Opera. */\n",
              "        border: none;\n",
              "        /* Needs to be in here for Safari polyfill so background images work as expected. */\n",
              "        background-size: auto;\n",
              "    }\n",
              "    progress:not([value]), progress:not([value])::-webkit-progress-bar {\n",
              "        background: repeating-linear-gradient(45deg, #7e7e7e, #7e7e7e 10px, #5c5c5c 10px, #5c5c5c 20px);\n",
              "    }\n",
              "    .progress-bar-interrupted, .progress-bar-interrupted::-webkit-progress-bar {\n",
              "        background: #F44336;\n",
              "    }\n",
              "</style>\n"
            ]
          },
          "metadata": {}
        },
        {
          "output_type": "display_data",
          "data": {
            "text/plain": [
              "<IPython.core.display.HTML object>"
            ],
            "text/html": [
              "<table border=\"1\" class=\"dataframe\">\n",
              "  <thead>\n",
              "    <tr style=\"text-align: left;\">\n",
              "      <th>epoch</th>\n",
              "      <th>train_loss</th>\n",
              "      <th>valid_loss</th>\n",
              "      <th>batch_accuracy</th>\n",
              "      <th>time</th>\n",
              "    </tr>\n",
              "  </thead>\n",
              "  <tbody>\n",
              "    <tr>\n",
              "      <td>0</td>\n",
              "      <td>0.637487</td>\n",
              "      <td>0.503007</td>\n",
              "      <td>0.495584</td>\n",
              "      <td>00:00</td>\n",
              "    </tr>\n",
              "    <tr>\n",
              "      <td>1</td>\n",
              "      <td>0.406030</td>\n",
              "      <td>0.298656</td>\n",
              "      <td>0.703631</td>\n",
              "      <td>00:00</td>\n",
              "    </tr>\n",
              "    <tr>\n",
              "      <td>2</td>\n",
              "      <td>0.154219</td>\n",
              "      <td>0.160429</td>\n",
              "      <td>0.857213</td>\n",
              "      <td>00:00</td>\n",
              "    </tr>\n",
              "    <tr>\n",
              "      <td>3</td>\n",
              "      <td>0.070189</td>\n",
              "      <td>0.099800</td>\n",
              "      <td>0.916585</td>\n",
              "      <td>00:00</td>\n",
              "    </tr>\n",
              "    <tr>\n",
              "      <td>4</td>\n",
              "      <td>0.039053</td>\n",
              "      <td>0.074377</td>\n",
              "      <td>0.934249</td>\n",
              "      <td>00:00</td>\n",
              "    </tr>\n",
              "    <tr>\n",
              "      <td>5</td>\n",
              "      <td>0.026770</td>\n",
              "      <td>0.060269</td>\n",
              "      <td>0.948479</td>\n",
              "      <td>00:00</td>\n",
              "    </tr>\n",
              "    <tr>\n",
              "      <td>6</td>\n",
              "      <td>0.021637</td>\n",
              "      <td>0.051354</td>\n",
              "      <td>0.956820</td>\n",
              "      <td>00:00</td>\n",
              "    </tr>\n",
              "    <tr>\n",
              "      <td>7</td>\n",
              "      <td>0.019293</td>\n",
              "      <td>0.045370</td>\n",
              "      <td>0.963199</td>\n",
              "      <td>00:00</td>\n",
              "    </tr>\n",
              "    <tr>\n",
              "      <td>8</td>\n",
              "      <td>0.018060</td>\n",
              "      <td>0.041142</td>\n",
              "      <td>0.965653</td>\n",
              "      <td>00:00</td>\n",
              "    </tr>\n",
              "    <tr>\n",
              "      <td>9</td>\n",
              "      <td>0.017292</td>\n",
              "      <td>0.038015</td>\n",
              "      <td>0.968597</td>\n",
              "      <td>00:00</td>\n",
              "    </tr>\n",
              "  </tbody>\n",
              "</table>"
            ]
          },
          "metadata": {}
        }
      ]
    },
    {
      "cell_type": "markdown",
      "source": [
        "As you can see, there's nothing magic about the PyTorch and fastai classes. They are just convenient pre-packaged pieces that make your life a bit easier! (They also provide a lot of extra functionality we'll be using in future chapters.)With these classes, we can now replace our linear model with a neural network."
      ],
      "metadata": {
        "id": "C2bneylET7bE"
      }
    },
    {
      "cell_type": "markdown",
      "source": [
        "So far we have a general procedure for optimizing the parameters of a function, and we have tried it out on a very boring function: a simple linear classifier. A linear classifier is very constrained in terms of what it can do. To make it a bit more complex (and able to handle more tasks), we need to add something nonlinear between two linear classifiers—this is what gives us a neural network."
      ],
      "metadata": {
        "id": "_lrDoe1_UEBR"
      }
    },
    {
      "cell_type": "code",
      "source": [
        "def simple_net(xb): \n",
        "    res = xb@w1 + b1\n",
        "    res = res.max(tensor(0.0))\n",
        "    res = res@w2 + b2\n",
        "    return res\n",
        "#That's it! All we have in simple_net is two linear classifiers with a max function between them.\n",
        "#Here, w1 and w2 are weight tensors, and b1 and b2 are bias tensors; that is, parameters that are initially randomly initialized, just like we did in the previous section:\n",
        "\n",
        "w1 = init_params((28*28,30))\n",
        "b1 = init_params(30)\n",
        "w2 = init_params((30,1))\n",
        "b2 = init_params(1)\n",
        "\n",
        "#The key point about this is that w1 has 30 output activations (which means that w2 must have 30 input activations, so they match\n",
        "#That means that the first layer can construct 30 different features, each representing some different mix of pixels. You can change that 30 to anything you like, to make the model more or less complex.\n",
        "\n",
        "#The three lines of code that we have here are known as layers. The first and third are known as linear layers, and the second line of code is known variously as a nonlinearity, or activation function.\n"
      ],
      "metadata": {
        "id": "zVd0s8FPT6XN"
      },
      "execution_count": 241,
      "outputs": []
    },
    {
      "cell_type": "markdown",
      "source": [
        "So this is how features are found, like edges etc...we take bunch of images as tensors exploded and they go through a linear function that combines them with a weight vector/matrix and outputs 30 or more rank-1 or rank-n tensors  whhich represent a specific feature extracted from the image. That little function res.max(tensor(0.0)) is called a rectified linear unit, also known as ReLU. We think we can all agree that rectified linear unit sounds pretty fancy and complicated... But actually, there's nothing more to it than res.max(tensor(0.0))—in other words, replace every negative number with a zero. This tiny function is also available in PyTorch as F.relu:\n",
        "\n",
        "\n",
        "But if we put a nonlinear function between them, such as max, then this is no longer true. Now each linear layer is actually somewhat decoupled from the other ones, and can do its own useful work. The max function is particularly interesting, because it operates as a simple if statement.\n",
        "\n",
        "\n",
        "For any arbitrarily wiggly function, we can approximate it as a bunch of lines joined together; to make it closer to the wiggly function, we just have to use shorter lines. This is known as the universal approximation theorem. The three lines of code that we have here are known as layers. The first and third are known as linear layers, and the second line of code is known variously as a nonlinearity, or activation function.  \n",
        "\n",
        "think of layers as short lines joined with some rate of non linearity that wiggles it left or right to produce the arbitrary function"
      ],
      "metadata": {
        "id": "4jIPo73cWH4G"
      }
    },
    {
      "cell_type": "code",
      "source": [
        "#we recreate our model now\n",
        "#first linear classifier with 28*28 inputs and 30 outputs\n",
        "#second linear classifier with 30 input and 1 output\n",
        "simple_net = nn.Sequential(\n",
        "    nn.Linear(28*28,30),\n",
        "    nn.ReLU(),\n",
        "    nn.Linear(30,1)\n",
        ")"
      ],
      "metadata": {
        "id": "jwAv5luSV1aj"
      },
      "execution_count": 242,
      "outputs": []
    },
    {
      "cell_type": "code",
      "source": [
        "learn = Learner(dls,simple_net,opt_func=SGD,loss_func=mnist_loss, metrics=batch_accuracy )"
      ],
      "metadata": {
        "id": "KW_-n1frdp-n"
      },
      "execution_count": 243,
      "outputs": []
    },
    {
      "cell_type": "code",
      "source": [
        "learn.fit(40,0.1)"
      ],
      "metadata": {
        "colab": {
          "base_uri": "https://localhost:8080/",
          "height": 1000
        },
        "id": "Lu8f_QhMd4fH",
        "outputId": "b608d4ea-a007-4d40-a502-196e9f7e60d6"
      },
      "execution_count": 245,
      "outputs": [
        {
          "output_type": "display_data",
          "data": {
            "text/plain": [
              "<IPython.core.display.HTML object>"
            ],
            "text/html": [
              "\n",
              "<style>\n",
              "    /* Turns off some styling */\n",
              "    progress {\n",
              "        /* gets rid of default border in Firefox and Opera. */\n",
              "        border: none;\n",
              "        /* Needs to be in here for Safari polyfill so background images work as expected. */\n",
              "        background-size: auto;\n",
              "    }\n",
              "    progress:not([value]), progress:not([value])::-webkit-progress-bar {\n",
              "        background: repeating-linear-gradient(45deg, #7e7e7e, #7e7e7e 10px, #5c5c5c 10px, #5c5c5c 20px);\n",
              "    }\n",
              "    .progress-bar-interrupted, .progress-bar-interrupted::-webkit-progress-bar {\n",
              "        background: #F44336;\n",
              "    }\n",
              "</style>\n"
            ]
          },
          "metadata": {}
        },
        {
          "output_type": "display_data",
          "data": {
            "text/plain": [
              "<IPython.core.display.HTML object>"
            ],
            "text/html": [
              "<table border=\"1\" class=\"dataframe\">\n",
              "  <thead>\n",
              "    <tr style=\"text-align: left;\">\n",
              "      <th>epoch</th>\n",
              "      <th>train_loss</th>\n",
              "      <th>valid_loss</th>\n",
              "      <th>batch_accuracy</th>\n",
              "      <th>time</th>\n",
              "    </tr>\n",
              "  </thead>\n",
              "  <tbody>\n",
              "    <tr>\n",
              "      <td>0</td>\n",
              "      <td>0.021549</td>\n",
              "      <td>0.025251</td>\n",
              "      <td>0.975957</td>\n",
              "      <td>00:00</td>\n",
              "    </tr>\n",
              "    <tr>\n",
              "      <td>1</td>\n",
              "      <td>0.018176</td>\n",
              "      <td>0.023115</td>\n",
              "      <td>0.977920</td>\n",
              "      <td>00:00</td>\n",
              "    </tr>\n",
              "    <tr>\n",
              "      <td>2</td>\n",
              "      <td>0.016797</td>\n",
              "      <td>0.022587</td>\n",
              "      <td>0.979882</td>\n",
              "      <td>00:00</td>\n",
              "    </tr>\n",
              "    <tr>\n",
              "      <td>3</td>\n",
              "      <td>0.016160</td>\n",
              "      <td>0.022426</td>\n",
              "      <td>0.979882</td>\n",
              "      <td>00:00</td>\n",
              "    </tr>\n",
              "    <tr>\n",
              "      <td>4</td>\n",
              "      <td>0.015822</td>\n",
              "      <td>0.022315</td>\n",
              "      <td>0.980864</td>\n",
              "      <td>00:00</td>\n",
              "    </tr>\n",
              "    <tr>\n",
              "      <td>5</td>\n",
              "      <td>0.015604</td>\n",
              "      <td>0.022202</td>\n",
              "      <td>0.980864</td>\n",
              "      <td>00:00</td>\n",
              "    </tr>\n",
              "    <tr>\n",
              "      <td>6</td>\n",
              "      <td>0.015434</td>\n",
              "      <td>0.022083</td>\n",
              "      <td>0.980864</td>\n",
              "      <td>00:00</td>\n",
              "    </tr>\n",
              "    <tr>\n",
              "      <td>7</td>\n",
              "      <td>0.015285</td>\n",
              "      <td>0.021960</td>\n",
              "      <td>0.980864</td>\n",
              "      <td>00:00</td>\n",
              "    </tr>\n",
              "    <tr>\n",
              "      <td>8</td>\n",
              "      <td>0.015147</td>\n",
              "      <td>0.021836</td>\n",
              "      <td>0.980864</td>\n",
              "      <td>00:00</td>\n",
              "    </tr>\n",
              "    <tr>\n",
              "      <td>9</td>\n",
              "      <td>0.015015</td>\n",
              "      <td>0.021711</td>\n",
              "      <td>0.980864</td>\n",
              "      <td>00:00</td>\n",
              "    </tr>\n",
              "    <tr>\n",
              "      <td>10</td>\n",
              "      <td>0.014888</td>\n",
              "      <td>0.021587</td>\n",
              "      <td>0.980864</td>\n",
              "      <td>00:00</td>\n",
              "    </tr>\n",
              "    <tr>\n",
              "      <td>11</td>\n",
              "      <td>0.014764</td>\n",
              "      <td>0.021464</td>\n",
              "      <td>0.981354</td>\n",
              "      <td>00:00</td>\n",
              "    </tr>\n",
              "    <tr>\n",
              "      <td>12</td>\n",
              "      <td>0.014645</td>\n",
              "      <td>0.021344</td>\n",
              "      <td>0.981354</td>\n",
              "      <td>00:00</td>\n",
              "    </tr>\n",
              "    <tr>\n",
              "      <td>13</td>\n",
              "      <td>0.014529</td>\n",
              "      <td>0.021225</td>\n",
              "      <td>0.981354</td>\n",
              "      <td>00:00</td>\n",
              "    </tr>\n",
              "    <tr>\n",
              "      <td>14</td>\n",
              "      <td>0.014416</td>\n",
              "      <td>0.021108</td>\n",
              "      <td>0.980864</td>\n",
              "      <td>00:00</td>\n",
              "    </tr>\n",
              "    <tr>\n",
              "      <td>15</td>\n",
              "      <td>0.014306</td>\n",
              "      <td>0.020993</td>\n",
              "      <td>0.980373</td>\n",
              "      <td>00:00</td>\n",
              "    </tr>\n",
              "    <tr>\n",
              "      <td>16</td>\n",
              "      <td>0.014199</td>\n",
              "      <td>0.020880</td>\n",
              "      <td>0.980373</td>\n",
              "      <td>00:00</td>\n",
              "    </tr>\n",
              "    <tr>\n",
              "      <td>17</td>\n",
              "      <td>0.014095</td>\n",
              "      <td>0.020768</td>\n",
              "      <td>0.980373</td>\n",
              "      <td>00:00</td>\n",
              "    </tr>\n",
              "    <tr>\n",
              "      <td>18</td>\n",
              "      <td>0.013993</td>\n",
              "      <td>0.020659</td>\n",
              "      <td>0.980373</td>\n",
              "      <td>00:00</td>\n",
              "    </tr>\n",
              "    <tr>\n",
              "      <td>19</td>\n",
              "      <td>0.013893</td>\n",
              "      <td>0.020551</td>\n",
              "      <td>0.980373</td>\n",
              "      <td>00:00</td>\n",
              "    </tr>\n",
              "    <tr>\n",
              "      <td>20</td>\n",
              "      <td>0.013796</td>\n",
              "      <td>0.020445</td>\n",
              "      <td>0.980864</td>\n",
              "      <td>00:00</td>\n",
              "    </tr>\n",
              "    <tr>\n",
              "      <td>21</td>\n",
              "      <td>0.013702</td>\n",
              "      <td>0.020341</td>\n",
              "      <td>0.980864</td>\n",
              "      <td>00:00</td>\n",
              "    </tr>\n",
              "    <tr>\n",
              "      <td>22</td>\n",
              "      <td>0.013609</td>\n",
              "      <td>0.020239</td>\n",
              "      <td>0.980864</td>\n",
              "      <td>00:00</td>\n",
              "    </tr>\n",
              "    <tr>\n",
              "      <td>23</td>\n",
              "      <td>0.013519</td>\n",
              "      <td>0.020139</td>\n",
              "      <td>0.980864</td>\n",
              "      <td>00:00</td>\n",
              "    </tr>\n",
              "    <tr>\n",
              "      <td>24</td>\n",
              "      <td>0.013432</td>\n",
              "      <td>0.020041</td>\n",
              "      <td>0.980864</td>\n",
              "      <td>00:00</td>\n",
              "    </tr>\n",
              "    <tr>\n",
              "      <td>25</td>\n",
              "      <td>0.013347</td>\n",
              "      <td>0.019946</td>\n",
              "      <td>0.980373</td>\n",
              "      <td>00:00</td>\n",
              "    </tr>\n",
              "    <tr>\n",
              "      <td>26</td>\n",
              "      <td>0.013264</td>\n",
              "      <td>0.019853</td>\n",
              "      <td>0.981354</td>\n",
              "      <td>00:00</td>\n",
              "    </tr>\n",
              "    <tr>\n",
              "      <td>27</td>\n",
              "      <td>0.013184</td>\n",
              "      <td>0.019763</td>\n",
              "      <td>0.981354</td>\n",
              "      <td>00:00</td>\n",
              "    </tr>\n",
              "    <tr>\n",
              "      <td>28</td>\n",
              "      <td>0.013106</td>\n",
              "      <td>0.019675</td>\n",
              "      <td>0.981354</td>\n",
              "      <td>00:00</td>\n",
              "    </tr>\n",
              "    <tr>\n",
              "      <td>29</td>\n",
              "      <td>0.013031</td>\n",
              "      <td>0.019590</td>\n",
              "      <td>0.981354</td>\n",
              "      <td>00:00</td>\n",
              "    </tr>\n",
              "    <tr>\n",
              "      <td>30</td>\n",
              "      <td>0.012957</td>\n",
              "      <td>0.019508</td>\n",
              "      <td>0.981354</td>\n",
              "      <td>00:00</td>\n",
              "    </tr>\n",
              "    <tr>\n",
              "      <td>31</td>\n",
              "      <td>0.012886</td>\n",
              "      <td>0.019428</td>\n",
              "      <td>0.981354</td>\n",
              "      <td>00:00</td>\n",
              "    </tr>\n",
              "    <tr>\n",
              "      <td>32</td>\n",
              "      <td>0.012816</td>\n",
              "      <td>0.019350</td>\n",
              "      <td>0.981354</td>\n",
              "      <td>00:00</td>\n",
              "    </tr>\n",
              "    <tr>\n",
              "      <td>33</td>\n",
              "      <td>0.012749</td>\n",
              "      <td>0.019274</td>\n",
              "      <td>0.981354</td>\n",
              "      <td>00:00</td>\n",
              "    </tr>\n",
              "    <tr>\n",
              "      <td>34</td>\n",
              "      <td>0.012683</td>\n",
              "      <td>0.019201</td>\n",
              "      <td>0.981354</td>\n",
              "      <td>00:00</td>\n",
              "    </tr>\n",
              "    <tr>\n",
              "      <td>35</td>\n",
              "      <td>0.012618</td>\n",
              "      <td>0.019130</td>\n",
              "      <td>0.981354</td>\n",
              "      <td>00:00</td>\n",
              "    </tr>\n",
              "    <tr>\n",
              "      <td>36</td>\n",
              "      <td>0.012556</td>\n",
              "      <td>0.019062</td>\n",
              "      <td>0.981354</td>\n",
              "      <td>00:00</td>\n",
              "    </tr>\n",
              "    <tr>\n",
              "      <td>37</td>\n",
              "      <td>0.012494</td>\n",
              "      <td>0.018995</td>\n",
              "      <td>0.981354</td>\n",
              "      <td>00:00</td>\n",
              "    </tr>\n",
              "    <tr>\n",
              "      <td>38</td>\n",
              "      <td>0.012434</td>\n",
              "      <td>0.018930</td>\n",
              "      <td>0.981354</td>\n",
              "      <td>00:00</td>\n",
              "    </tr>\n",
              "    <tr>\n",
              "      <td>39</td>\n",
              "      <td>0.012375</td>\n",
              "      <td>0.018868</td>\n",
              "      <td>0.981845</td>\n",
              "      <td>00:00</td>\n",
              "    </tr>\n",
              "  </tbody>\n",
              "</table>"
            ]
          },
          "metadata": {}
        }
      ]
    },
    {
      "cell_type": "code",
      "source": [
        "plt.plot(L(learn.recorder.values).itemgot(2))"
      ],
      "metadata": {
        "colab": {
          "base_uri": "https://localhost:8080/",
          "height": 287
        },
        "id": "rEGoxuPCeOlf",
        "outputId": "b5092c5e-a45d-47ba-8d86-bcf2dea8cef7"
      },
      "execution_count": 246,
      "outputs": [
        {
          "output_type": "execute_result",
          "data": {
            "text/plain": [
              "[<matplotlib.lines.Line2D at 0x7faaa63fa750>]"
            ]
          },
          "metadata": {},
          "execution_count": 246
        },
        {
          "output_type": "display_data",
          "data": {
            "text/plain": [
              "<Figure size 432x288 with 1 Axes>"
            ],
            "image/png": "[encoded data removed]"
          },
          "metadata": {
            "needs_background": "light"
          }
        }
      ]
    },
    {
      "cell_type": "code",
      "source": [
        "learn.recorder.values[-1]"
      ],
      "metadata": {
        "colab": {
          "base_uri": "https://localhost:8080/"
        },
        "id": "ZqE74STpeiBT",
        "outputId": "55ba2498-83f5-4271-e27f-84ec605eeb27"
      },
      "execution_count": 248,
      "outputs": [
        {
          "output_type": "execute_result",
          "data": {
            "text/plain": [
              "(#3) [0.012374524027109146,0.018867703154683113,0.981844961643219]"
            ]
          },
          "metadata": {},
          "execution_count": 248
        }
      ]
    },
    {
      "cell_type": "markdown",
      "source": [
        "There is no need to stop at just two linear layers. We can add as many as we want, as long as we add a nonlinearity between each pair of linear layers. As you will learn, however, the deeper the model gets, the harder it is to optimize the parameters in practice. Later in this book you will learn about some simple but brilliantly effective techniques for training deeper models.\n",
        "\n",
        "\n",
        "We already know that a single nonlinearity with two linear layers is enough to approximate any function. So why would we use deeper models? The reason is performance. With a deeper model (that is, one with more layers) we do not need to use as many parameters; it turns out that we can use smaller matrices with more layers, and get better results than we would get with larger matrices, and few layers.\n",
        "\n",
        "That means that we can train the model more quickly, and it will take up less memory."
      ],
      "metadata": {
        "id": "EaqjFEcJfALD"
      }
    },
    {
      "cell_type": "code",
      "source": [
        "Here is what happens when we train an 18-layer model using the same approach we saw in <>:\n",
        "\n",
        "dls"
      ],
      "metadata": {
        "id": "gYrPT_j_fYjh"
      },
      "execution_count": null,
      "outputs": []
    }
  ]
}